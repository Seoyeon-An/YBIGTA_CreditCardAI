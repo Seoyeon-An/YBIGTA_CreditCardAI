{
 "cells": [
  {
   "cell_type": "code",
   "execution_count": 1,
   "id": "e4a64493",
   "metadata": {},
   "outputs": [],
   "source": [
    "import pandas as pd\n",
    "import numpy as np\n",
    "from sklearn.neighbors import LocalOutlierFactor\n",
    "from sklearn.model_selection import train_test_split\n",
    "from sklearn.metrics import f1_score\n",
    "from sklearn.preprocessing import StandardScaler\n",
    "from sklearn.preprocessing import MinMaxScaler\n",
    "from sklearn.manifold import TSNE\n",
    "from sklearn.model_selection import GridSearchCV\n",
    "from sklearn.metrics import accuracy_score, precision_score, recall_score, confusion_matrix\n",
    "import warnings\n",
    "warnings.filterwarnings('ignore')"
   ]
  },
  {
   "cell_type": "code",
   "execution_count": 2,
   "id": "dad4f48c",
   "metadata": {},
   "outputs": [],
   "source": [
    "from sklearn.preprocessing import StandardScaler\n",
    "from sklearn.preprocessing import MinMaxScaler\n",
    "from sklearn.decomposition import PCA"
   ]
  },
  {
   "cell_type": "code",
   "execution_count": 3,
   "id": "383f7255",
   "metadata": {},
   "outputs": [],
   "source": [
    "import matplotlib.pyplot as plt\n",
    "%matplotlib inline\n",
    "import seaborn as sns"
   ]
  },
  {
   "cell_type": "code",
   "execution_count": 4,
   "id": "c2a60781",
   "metadata": {},
   "outputs": [],
   "source": [
    "def get_std_scaled(df=None):\n",
    "    df_copy = df.copy()\n",
    "    std_scaler = StandardScaler()\n",
    "    df_copy = std_scaler.fit_transform(df_copy)\n",
    "    return df_copy\n",
    "\n",
    "def get_minmax_scaled(df=None):\n",
    "    df_copy = df.copy()\n",
    "    std_scaler = MinMaxScaler()\n",
    "    df_copy = std_scaler.fit_transform(df_copy)\n",
    "    return df_copy"
   ]
  },
  {
   "cell_type": "code",
   "execution_count": 5,
   "id": "245de120",
   "metadata": {},
   "outputs": [],
   "source": [
    "def get_clf_eval(y_test, pred):\n",
    "    confusion = confusion_matrix(y_test, pred)\n",
    "    accuracy = accuracy_score(y_test, pred)\n",
    "    precision = precision_score(y_test, pred)\n",
    "    recall = recall_score(y_test, pred)\n",
    "    f1 = f1_score(y_test, pred)\n",
    "    print('오차 행렬')\n",
    "    print(confusion)\n",
    "    print('정확도: {0:.4f}, 정밀도: {1:.4f}, 재현율: {2:.4f}, f1_score: {3:.4f}'.format(accuracy, precision, recall, f1))"
   ]
  },
  {
   "cell_type": "code",
   "execution_count": 6,
   "id": "336d78dd",
   "metadata": {},
   "outputs": [
    {
     "data": {
      "text/plain": [
       "0.0010540369615627855"
      ]
     },
     "execution_count": 6,
     "metadata": {},
     "output_type": "execute_result"
    }
   ],
   "source": [
    "train_df = pd.read_csv('../EDA&FE/train.csv')\n",
    "train_df.drop(['ID'], axis=1, inplace=True)\n",
    "valid_df = pd.read_csv('../EDA&FE/val.csv')\n",
    "valid_df.drop(['ID'], axis=1, inplace=True)\n",
    "valid_df[valid_df['Class'] == 1].shape[0] / valid_df.shape[0]"
   ]
  },
  {
   "cell_type": "code",
   "execution_count": 8,
   "id": "726338ba",
   "metadata": {},
   "outputs": [
    {
     "data": {
      "text/plain": [
       "LocalOutlierFactor(n_jobs=-1, n_neighbors=40, novelty=True, p=3)"
      ]
     },
     "execution_count": 8,
     "metadata": {},
     "output_type": "execute_result"
    }
   ],
   "source": [
    "lof_clf = LocalOutlierFactor(n_neighbors=40, p=3, novelty=True, contamination='auto', n_jobs=-1)\n",
    "lof_clf.fit(train_df)"
   ]
  },
  {
   "cell_type": "code",
   "execution_count": 9,
   "id": "9cab62a7",
   "metadata": {},
   "outputs": [],
   "source": [
    "pred_val = lof_clf.predict(valid_df.iloc[:, :-1])"
   ]
  },
  {
   "cell_type": "code",
   "execution_count": 10,
   "id": "2e5ee5fe",
   "metadata": {},
   "outputs": [],
   "source": [
    "pred_val_edit = np.where(pred_val==1, 0, 1)"
   ]
  },
  {
   "cell_type": "code",
   "execution_count": 11,
   "id": "a0af24c8",
   "metadata": {},
   "outputs": [
    {
     "name": "stdout",
     "output_type": "stream",
     "text": [
      "오차 행렬\n",
      "[[27532   900]\n",
      " [   22     8]]\n",
      "정확도: 0.9676, 정밀도: 0.0088, 재현율: 0.2667, f1_score: 0.0171\n"
     ]
    }
   ],
   "source": [
    "get_clf_eval(valid_df['Class'], pred_val_edit)"
   ]
  }
 ],
 "metadata": {
  "kernelspec": {
   "display_name": "Python 3 (ipykernel)",
   "language": "python",
   "name": "python3"
  },
  "language_info": {
   "codemirror_mode": {
    "name": "ipython",
    "version": 3
   },
   "file_extension": ".py",
   "mimetype": "text/x-python",
   "name": "python",
   "nbconvert_exporter": "python",
   "pygments_lexer": "ipython3",
   "version": "3.9.12"
  }
 },
 "nbformat": 4,
 "nbformat_minor": 5
}
