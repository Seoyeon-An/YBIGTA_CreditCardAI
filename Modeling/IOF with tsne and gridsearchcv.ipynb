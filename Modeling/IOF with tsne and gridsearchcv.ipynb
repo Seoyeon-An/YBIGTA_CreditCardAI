{
 "cells": [
  {
   "cell_type": "code",
   "execution_count": 14,
   "id": "af713fa2",
   "metadata": {},
   "outputs": [],
   "source": [
    "import pandas as pd\n",
    "import numpy as np\n",
    "from sklearn.neighbors import LocalOutlierFactor\n",
    "from sklearn.model_selection import train_test_split\n",
    "from sklearn.metrics import f1_score\n",
    "from sklearn.preprocessing import StandardScaler\n",
    "from sklearn.preprocessing import MinMaxScaler\n",
    "from sklearn.manifold import TSNE\n",
    "from sklearn.model_selection import GridSearchCV\n",
    "from sklearn.metrics import accuracy_score, precision_score, recall_score, confusion_matrix\n",
    "import warnings\n",
    "warnings.filterwarnings('ignore')"
   ]
  },
  {
   "cell_type": "code",
   "execution_count": 15,
   "id": "42126b0c",
   "metadata": {},
   "outputs": [],
   "source": [
    "from sklearn.preprocessing import StandardScaler\n",
    "from sklearn.preprocessing import MinMaxScaler\n",
    "from sklearn.decomposition import PCA"
   ]
  },
  {
   "cell_type": "code",
   "execution_count": 16,
   "id": "9d87faf5",
   "metadata": {},
   "outputs": [],
   "source": [
    "import matplotlib.pyplot as plt\n",
    "%matplotlib inline\n",
    "import seaborn as sns"
   ]
  },
  {
   "cell_type": "code",
   "execution_count": 17,
   "id": "43d88865",
   "metadata": {},
   "outputs": [],
   "source": [
    "def get_std_scaled(df=None):\n",
    "    df_copy = df.copy()\n",
    "    std_scaler = StandardScaler()\n",
    "    df_copy = std_scaler.fit_transform(df_copy)\n",
    "    return df_copy\n",
    "\n",
    "def get_minmax_scaled(df=None):\n",
    "    df_copy = df.copy()\n",
    "    std_scaler = MinMaxScaler()\n",
    "    df_copy = std_scaler.fit_transform(df_copy)\n",
    "    return df_copy"
   ]
  },
  {
   "cell_type": "code",
   "execution_count": 18,
   "id": "c4a9c490",
   "metadata": {},
   "outputs": [],
   "source": [
    "def get_clf_eval(y_test, pred):\n",
    "    confusion = confusion_matrix(y_test, pred)\n",
    "    accuracy = accuracy_score(y_test, pred)\n",
    "    precision = precision_score(y_test, pred)\n",
    "    recall = recall_score(y_test, pred)\n",
    "    f1 = f1_score(y_test, pred)\n",
    "    print('오차 행렬')\n",
    "    print(confusion)\n",
    "    print('정확도: {0:.4f}, 정밀도: {1:.4f}, 재현율: {2:.4f}, f1_score: {3:.4f}'.format(accuracy, precision, recall, f1))"
   ]
  },
  {
   "cell_type": "code",
   "execution_count": 19,
   "id": "97d60fe1",
   "metadata": {},
   "outputs": [],
   "source": [
    "train_df = pd.read_csv('../EDA&FE/train_tsne_ss_per40.csv')\n",
    "valid_df = pd.read_csv('../EDA&FE/valid_tsne_ss_per40.csv')\n",
    "test_df = pd.read_csv('../EDA&FE/test_tsne_ss_per40.csv')"
   ]
  },
  {
   "cell_type": "code",
   "execution_count": 20,
   "id": "96766017",
   "metadata": {},
   "outputs": [
    {
     "data": {
      "text/html": [
       "<div>\n",
       "<style scoped>\n",
       "    .dataframe tbody tr th:only-of-type {\n",
       "        vertical-align: middle;\n",
       "    }\n",
       "\n",
       "    .dataframe tbody tr th {\n",
       "        vertical-align: top;\n",
       "    }\n",
       "\n",
       "    .dataframe thead th {\n",
       "        text-align: right;\n",
       "    }\n",
       "</style>\n",
       "<table border=\"1\" class=\"dataframe\">\n",
       "  <thead>\n",
       "    <tr style=\"text-align: right;\">\n",
       "      <th></th>\n",
       "      <th>Unnamed: 0</th>\n",
       "      <th>new_V1</th>\n",
       "      <th>new_V2</th>\n",
       "    </tr>\n",
       "  </thead>\n",
       "  <tbody>\n",
       "    <tr>\n",
       "      <th>0</th>\n",
       "      <td>0</td>\n",
       "      <td>-13.763436</td>\n",
       "      <td>-7.289884</td>\n",
       "    </tr>\n",
       "    <tr>\n",
       "      <th>1</th>\n",
       "      <td>1</td>\n",
       "      <td>-33.079887</td>\n",
       "      <td>-16.390795</td>\n",
       "    </tr>\n",
       "    <tr>\n",
       "      <th>2</th>\n",
       "      <td>2</td>\n",
       "      <td>27.755302</td>\n",
       "      <td>-23.883419</td>\n",
       "    </tr>\n",
       "    <tr>\n",
       "      <th>3</th>\n",
       "      <td>3</td>\n",
       "      <td>13.823494</td>\n",
       "      <td>5.252245</td>\n",
       "    </tr>\n",
       "    <tr>\n",
       "      <th>4</th>\n",
       "      <td>4</td>\n",
       "      <td>10.995240</td>\n",
       "      <td>-32.925716</td>\n",
       "    </tr>\n",
       "  </tbody>\n",
       "</table>\n",
       "</div>"
      ],
      "text/plain": [
       "   Unnamed: 0     new_V1     new_V2\n",
       "0           0 -13.763436  -7.289884\n",
       "1           1 -33.079887 -16.390795\n",
       "2           2  27.755302 -23.883419\n",
       "3           3  13.823494   5.252245\n",
       "4           4  10.995240 -32.925716"
      ]
     },
     "execution_count": 20,
     "metadata": {},
     "output_type": "execute_result"
    }
   ],
   "source": [
    "train_df.head()"
   ]
  },
  {
   "cell_type": "code",
   "execution_count": 21,
   "id": "0743aaf4",
   "metadata": {},
   "outputs": [
    {
     "data": {
      "text/html": [
       "<div>\n",
       "<style scoped>\n",
       "    .dataframe tbody tr th:only-of-type {\n",
       "        vertical-align: middle;\n",
       "    }\n",
       "\n",
       "    .dataframe tbody tr th {\n",
       "        vertical-align: top;\n",
       "    }\n",
       "\n",
       "    .dataframe thead th {\n",
       "        text-align: right;\n",
       "    }\n",
       "</style>\n",
       "<table border=\"1\" class=\"dataframe\">\n",
       "  <thead>\n",
       "    <tr style=\"text-align: right;\">\n",
       "      <th></th>\n",
       "      <th>Unnamed: 0</th>\n",
       "      <th>new_V1</th>\n",
       "      <th>new_V2</th>\n",
       "      <th>Class</th>\n",
       "    </tr>\n",
       "  </thead>\n",
       "  <tbody>\n",
       "    <tr>\n",
       "      <th>0</th>\n",
       "      <td>0</td>\n",
       "      <td>2.167414</td>\n",
       "      <td>-33.192738</td>\n",
       "      <td>0.0</td>\n",
       "    </tr>\n",
       "    <tr>\n",
       "      <th>1</th>\n",
       "      <td>1</td>\n",
       "      <td>9.330505</td>\n",
       "      <td>51.526775</td>\n",
       "      <td>0.0</td>\n",
       "    </tr>\n",
       "    <tr>\n",
       "      <th>2</th>\n",
       "      <td>2</td>\n",
       "      <td>-35.912807</td>\n",
       "      <td>36.804447</td>\n",
       "      <td>0.0</td>\n",
       "    </tr>\n",
       "    <tr>\n",
       "      <th>3</th>\n",
       "      <td>3</td>\n",
       "      <td>8.160899</td>\n",
       "      <td>51.139347</td>\n",
       "      <td>0.0</td>\n",
       "    </tr>\n",
       "    <tr>\n",
       "      <th>4</th>\n",
       "      <td>4</td>\n",
       "      <td>-53.902363</td>\n",
       "      <td>5.765299</td>\n",
       "      <td>0.0</td>\n",
       "    </tr>\n",
       "  </tbody>\n",
       "</table>\n",
       "</div>"
      ],
      "text/plain": [
       "   Unnamed: 0     new_V1     new_V2  Class\n",
       "0           0   2.167414 -33.192738    0.0\n",
       "1           1   9.330505  51.526775    0.0\n",
       "2           2 -35.912807  36.804447    0.0\n",
       "3           3   8.160899  51.139347    0.0\n",
       "4           4 -53.902363   5.765299    0.0"
      ]
     },
     "execution_count": 21,
     "metadata": {},
     "output_type": "execute_result"
    }
   ],
   "source": [
    "valid_df.head()"
   ]
  },
  {
   "cell_type": "code",
   "execution_count": 22,
   "id": "59edeef6",
   "metadata": {
    "scrolled": true
   },
   "outputs": [
    {
     "data": {
      "text/html": [
       "<div>\n",
       "<style scoped>\n",
       "    .dataframe tbody tr th:only-of-type {\n",
       "        vertical-align: middle;\n",
       "    }\n",
       "\n",
       "    .dataframe tbody tr th {\n",
       "        vertical-align: top;\n",
       "    }\n",
       "\n",
       "    .dataframe thead th {\n",
       "        text-align: right;\n",
       "    }\n",
       "</style>\n",
       "<table border=\"1\" class=\"dataframe\">\n",
       "  <thead>\n",
       "    <tr style=\"text-align: right;\">\n",
       "      <th></th>\n",
       "      <th>Unnamed: 0</th>\n",
       "      <th>new_V1</th>\n",
       "      <th>new_V2</th>\n",
       "    </tr>\n",
       "  </thead>\n",
       "  <tbody>\n",
       "    <tr>\n",
       "      <th>0</th>\n",
       "      <td>0</td>\n",
       "      <td>-1.456251</td>\n",
       "      <td>-17.086267</td>\n",
       "    </tr>\n",
       "    <tr>\n",
       "      <th>1</th>\n",
       "      <td>1</td>\n",
       "      <td>-7.646030</td>\n",
       "      <td>3.574741</td>\n",
       "    </tr>\n",
       "    <tr>\n",
       "      <th>2</th>\n",
       "      <td>2</td>\n",
       "      <td>11.258976</td>\n",
       "      <td>1.629882</td>\n",
       "    </tr>\n",
       "    <tr>\n",
       "      <th>3</th>\n",
       "      <td>3</td>\n",
       "      <td>-6.320200</td>\n",
       "      <td>32.871918</td>\n",
       "    </tr>\n",
       "    <tr>\n",
       "      <th>4</th>\n",
       "      <td>4</td>\n",
       "      <td>35.649750</td>\n",
       "      <td>-6.683914</td>\n",
       "    </tr>\n",
       "  </tbody>\n",
       "</table>\n",
       "</div>"
      ],
      "text/plain": [
       "   Unnamed: 0     new_V1     new_V2\n",
       "0           0  -1.456251 -17.086267\n",
       "1           1  -7.646030   3.574741\n",
       "2           2  11.258976   1.629882\n",
       "3           3  -6.320200  32.871918\n",
       "4           4  35.649750  -6.683914"
      ]
     },
     "execution_count": 22,
     "metadata": {},
     "output_type": "execute_result"
    }
   ],
   "source": [
    "test_df.head()"
   ]
  },
  {
   "cell_type": "code",
   "execution_count": 23,
   "id": "deb06094",
   "metadata": {},
   "outputs": [],
   "source": [
    "train_df = train_df.iloc[:, 1:]\n",
    "valid_df = valid_df.iloc[:, 1:]\n",
    "test_df = test_df.iloc[:, 1:]"
   ]
  },
  {
   "cell_type": "code",
   "execution_count": 24,
   "id": "232882e1",
   "metadata": {},
   "outputs": [
    {
     "data": {
      "text/html": [
       "<div>\n",
       "<style scoped>\n",
       "    .dataframe tbody tr th:only-of-type {\n",
       "        vertical-align: middle;\n",
       "    }\n",
       "\n",
       "    .dataframe tbody tr th {\n",
       "        vertical-align: top;\n",
       "    }\n",
       "\n",
       "    .dataframe thead th {\n",
       "        text-align: right;\n",
       "    }\n",
       "</style>\n",
       "<table border=\"1\" class=\"dataframe\">\n",
       "  <thead>\n",
       "    <tr style=\"text-align: right;\">\n",
       "      <th></th>\n",
       "      <th>new_V1</th>\n",
       "      <th>new_V2</th>\n",
       "    </tr>\n",
       "  </thead>\n",
       "  <tbody>\n",
       "    <tr>\n",
       "      <th>0</th>\n",
       "      <td>-13.763436</td>\n",
       "      <td>-7.289884</td>\n",
       "    </tr>\n",
       "    <tr>\n",
       "      <th>1</th>\n",
       "      <td>-33.079887</td>\n",
       "      <td>-16.390795</td>\n",
       "    </tr>\n",
       "    <tr>\n",
       "      <th>2</th>\n",
       "      <td>27.755302</td>\n",
       "      <td>-23.883419</td>\n",
       "    </tr>\n",
       "    <tr>\n",
       "      <th>3</th>\n",
       "      <td>13.823494</td>\n",
       "      <td>5.252245</td>\n",
       "    </tr>\n",
       "    <tr>\n",
       "      <th>4</th>\n",
       "      <td>10.995240</td>\n",
       "      <td>-32.925716</td>\n",
       "    </tr>\n",
       "  </tbody>\n",
       "</table>\n",
       "</div>"
      ],
      "text/plain": [
       "      new_V1     new_V2\n",
       "0 -13.763436  -7.289884\n",
       "1 -33.079887 -16.390795\n",
       "2  27.755302 -23.883419\n",
       "3  13.823494   5.252245\n",
       "4  10.995240 -32.925716"
      ]
     },
     "execution_count": 24,
     "metadata": {},
     "output_type": "execute_result"
    }
   ],
   "source": [
    "train_df.head()"
   ]
  },
  {
   "cell_type": "code",
   "execution_count": 25,
   "id": "80106229",
   "metadata": {},
   "outputs": [
    {
     "data": {
      "text/html": [
       "<div>\n",
       "<style scoped>\n",
       "    .dataframe tbody tr th:only-of-type {\n",
       "        vertical-align: middle;\n",
       "    }\n",
       "\n",
       "    .dataframe tbody tr th {\n",
       "        vertical-align: top;\n",
       "    }\n",
       "\n",
       "    .dataframe thead th {\n",
       "        text-align: right;\n",
       "    }\n",
       "</style>\n",
       "<table border=\"1\" class=\"dataframe\">\n",
       "  <thead>\n",
       "    <tr style=\"text-align: right;\">\n",
       "      <th></th>\n",
       "      <th>new_V1</th>\n",
       "      <th>new_V2</th>\n",
       "      <th>Class</th>\n",
       "    </tr>\n",
       "  </thead>\n",
       "  <tbody>\n",
       "    <tr>\n",
       "      <th>0</th>\n",
       "      <td>2.167414</td>\n",
       "      <td>-33.192738</td>\n",
       "      <td>0.0</td>\n",
       "    </tr>\n",
       "    <tr>\n",
       "      <th>1</th>\n",
       "      <td>9.330505</td>\n",
       "      <td>51.526775</td>\n",
       "      <td>0.0</td>\n",
       "    </tr>\n",
       "    <tr>\n",
       "      <th>2</th>\n",
       "      <td>-35.912807</td>\n",
       "      <td>36.804447</td>\n",
       "      <td>0.0</td>\n",
       "    </tr>\n",
       "    <tr>\n",
       "      <th>3</th>\n",
       "      <td>8.160899</td>\n",
       "      <td>51.139347</td>\n",
       "      <td>0.0</td>\n",
       "    </tr>\n",
       "    <tr>\n",
       "      <th>4</th>\n",
       "      <td>-53.902363</td>\n",
       "      <td>5.765299</td>\n",
       "      <td>0.0</td>\n",
       "    </tr>\n",
       "  </tbody>\n",
       "</table>\n",
       "</div>"
      ],
      "text/plain": [
       "      new_V1     new_V2  Class\n",
       "0   2.167414 -33.192738    0.0\n",
       "1   9.330505  51.526775    0.0\n",
       "2 -35.912807  36.804447    0.0\n",
       "3   8.160899  51.139347    0.0\n",
       "4 -53.902363   5.765299    0.0"
      ]
     },
     "execution_count": 25,
     "metadata": {},
     "output_type": "execute_result"
    }
   ],
   "source": [
    "valid_df.head()"
   ]
  },
  {
   "cell_type": "code",
   "execution_count": 26,
   "id": "2334fb38",
   "metadata": {},
   "outputs": [
    {
     "data": {
      "text/html": [
       "<div>\n",
       "<style scoped>\n",
       "    .dataframe tbody tr th:only-of-type {\n",
       "        vertical-align: middle;\n",
       "    }\n",
       "\n",
       "    .dataframe tbody tr th {\n",
       "        vertical-align: top;\n",
       "    }\n",
       "\n",
       "    .dataframe thead th {\n",
       "        text-align: right;\n",
       "    }\n",
       "</style>\n",
       "<table border=\"1\" class=\"dataframe\">\n",
       "  <thead>\n",
       "    <tr style=\"text-align: right;\">\n",
       "      <th></th>\n",
       "      <th>new_V1</th>\n",
       "      <th>new_V2</th>\n",
       "    </tr>\n",
       "  </thead>\n",
       "  <tbody>\n",
       "    <tr>\n",
       "      <th>0</th>\n",
       "      <td>-1.456251</td>\n",
       "      <td>-17.086267</td>\n",
       "    </tr>\n",
       "    <tr>\n",
       "      <th>1</th>\n",
       "      <td>-7.646030</td>\n",
       "      <td>3.574741</td>\n",
       "    </tr>\n",
       "    <tr>\n",
       "      <th>2</th>\n",
       "      <td>11.258976</td>\n",
       "      <td>1.629882</td>\n",
       "    </tr>\n",
       "    <tr>\n",
       "      <th>3</th>\n",
       "      <td>-6.320200</td>\n",
       "      <td>32.871918</td>\n",
       "    </tr>\n",
       "    <tr>\n",
       "      <th>4</th>\n",
       "      <td>35.649750</td>\n",
       "      <td>-6.683914</td>\n",
       "    </tr>\n",
       "  </tbody>\n",
       "</table>\n",
       "</div>"
      ],
      "text/plain": [
       "      new_V1     new_V2\n",
       "0  -1.456251 -17.086267\n",
       "1  -7.646030   3.574741\n",
       "2  11.258976   1.629882\n",
       "3  -6.320200  32.871918\n",
       "4  35.649750  -6.683914"
      ]
     },
     "execution_count": 26,
     "metadata": {},
     "output_type": "execute_result"
    }
   ],
   "source": [
    "test_df.head()"
   ]
  },
  {
   "cell_type": "code",
   "execution_count": 35,
   "id": "74894a76",
   "metadata": {},
   "outputs": [
    {
     "data": {
      "text/plain": [
       "LocalOutlierFactor(n_neighbors=40, novelty=True)"
      ]
     },
     "execution_count": 35,
     "metadata": {},
     "output_type": "execute_result"
    }
   ],
   "source": [
    "lof_clf = LocalOutlierFactor(n_neighbors=40, novelty=True, contamination='auto')\n",
    "lof_clf.fit(train_df)"
   ]
  },
  {
   "cell_type": "code",
   "execution_count": 36,
   "id": "58ed9dff",
   "metadata": {},
   "outputs": [],
   "source": [
    "pred_val = lof_clf.predict(valid_df.iloc[:, :-1])"
   ]
  },
  {
   "cell_type": "code",
   "execution_count": 37,
   "id": "a2de06b3",
   "metadata": {},
   "outputs": [],
   "source": [
    "pred_val_edit = np.where(pred_val==1, 0, 1)"
   ]
  },
  {
   "cell_type": "code",
   "execution_count": 38,
   "id": "2cecac35",
   "metadata": {},
   "outputs": [
    {
     "name": "stdout",
     "output_type": "stream",
     "text": [
      "오차 행렬\n",
      "[[ 6487 21945]\n",
      " [   18    12]]\n",
      "정확도: 0.2283, 정밀도: 0.0005, 재현율: 0.4000, f1_score: 0.0011\n"
     ]
    }
   ],
   "source": [
    "get_clf_eval(valid_df['Class'], pred_val_edit)"
   ]
  },
  {
   "cell_type": "code",
   "execution_count": 39,
   "id": "c8ff58de",
   "metadata": {},
   "outputs": [],
   "source": [
    "params = {'n_neighbors' : [20, 30, 40, 50], 'p' : [2, 3, 4], 'contamination' : ['auto', 0.00001, 0.00005, 0.0001, 0.0005, 0.001]}"
   ]
  },
  {
   "cell_type": "code",
   "execution_count": 40,
   "id": "a3618a2a",
   "metadata": {},
   "outputs": [
    {
     "name": "stdout",
     "output_type": "stream",
     "text": [
      "Fitting 3 folds for each of 72 candidates, totalling 216 fits\n",
      "최고 평균 정확도 수치: nan\n",
      "최적 하이퍼 파라미터: {'contamination': 'auto', 'n_neighbors': 20, 'p': 2}\n"
     ]
    }
   ],
   "source": [
    "lof_clf = LocalOutlierFactor(novelty=True)\n",
    "grid_cv = GridSearchCV(lof_clf, param_grid=params, scoring='f1_macro', cv=3, verbose=1)\n",
    "grid_cv.fit(train_df)\n",
    "print('최고 평균 정확도 수치: {0:.4f}'.format(grid_cv.best_score_))\n",
    "print('최적 하이퍼 파라미터:', grid_cv.best_params_)"
   ]
  },
  {
   "cell_type": "code",
   "execution_count": 47,
   "id": "c18c6387",
   "metadata": {},
   "outputs": [
    {
     "data": {
      "text/html": [
       "<div>\n",
       "<style scoped>\n",
       "    .dataframe tbody tr th:only-of-type {\n",
       "        vertical-align: middle;\n",
       "    }\n",
       "\n",
       "    .dataframe tbody tr th {\n",
       "        vertical-align: top;\n",
       "    }\n",
       "\n",
       "    .dataframe thead th {\n",
       "        text-align: right;\n",
       "    }\n",
       "</style>\n",
       "<table border=\"1\" class=\"dataframe\">\n",
       "  <thead>\n",
       "    <tr style=\"text-align: right;\">\n",
       "      <th></th>\n",
       "      <th>params</th>\n",
       "      <th>rank_test_score</th>\n",
       "    </tr>\n",
       "  </thead>\n",
       "  <tbody>\n",
       "    <tr>\n",
       "      <th>0</th>\n",
       "      <td>{'contamination': 'auto', 'n_neighbors': 20, '...</td>\n",
       "      <td>1</td>\n",
       "    </tr>\n",
       "    <tr>\n",
       "      <th>51</th>\n",
       "      <td>{'contamination': 0.0005, 'n_neighbors': 30, '...</td>\n",
       "      <td>2</td>\n",
       "    </tr>\n",
       "    <tr>\n",
       "      <th>50</th>\n",
       "      <td>{'contamination': 0.0005, 'n_neighbors': 20, '...</td>\n",
       "      <td>3</td>\n",
       "    </tr>\n",
       "    <tr>\n",
       "      <th>49</th>\n",
       "      <td>{'contamination': 0.0005, 'n_neighbors': 20, '...</td>\n",
       "      <td>4</td>\n",
       "    </tr>\n",
       "    <tr>\n",
       "      <th>48</th>\n",
       "      <td>{'contamination': 0.0005, 'n_neighbors': 20, '...</td>\n",
       "      <td>5</td>\n",
       "    </tr>\n",
       "    <tr>\n",
       "      <th>...</th>\n",
       "      <td>...</td>\n",
       "      <td>...</td>\n",
       "    </tr>\n",
       "    <tr>\n",
       "      <th>21</th>\n",
       "      <td>{'contamination': 1e-05, 'n_neighbors': 50, 'p...</td>\n",
       "      <td>68</td>\n",
       "    </tr>\n",
       "    <tr>\n",
       "      <th>20</th>\n",
       "      <td>{'contamination': 1e-05, 'n_neighbors': 40, 'p...</td>\n",
       "      <td>69</td>\n",
       "    </tr>\n",
       "    <tr>\n",
       "      <th>19</th>\n",
       "      <td>{'contamination': 1e-05, 'n_neighbors': 40, 'p...</td>\n",
       "      <td>70</td>\n",
       "    </tr>\n",
       "    <tr>\n",
       "      <th>70</th>\n",
       "      <td>{'contamination': 0.001, 'n_neighbors': 50, 'p...</td>\n",
       "      <td>71</td>\n",
       "    </tr>\n",
       "    <tr>\n",
       "      <th>71</th>\n",
       "      <td>{'contamination': 0.001, 'n_neighbors': 50, 'p...</td>\n",
       "      <td>72</td>\n",
       "    </tr>\n",
       "  </tbody>\n",
       "</table>\n",
       "<p>72 rows × 2 columns</p>\n",
       "</div>"
      ],
      "text/plain": [
       "                                               params  rank_test_score\n",
       "0   {'contamination': 'auto', 'n_neighbors': 20, '...                1\n",
       "51  {'contamination': 0.0005, 'n_neighbors': 30, '...                2\n",
       "50  {'contamination': 0.0005, 'n_neighbors': 20, '...                3\n",
       "49  {'contamination': 0.0005, 'n_neighbors': 20, '...                4\n",
       "48  {'contamination': 0.0005, 'n_neighbors': 20, '...                5\n",
       "..                                                ...              ...\n",
       "21  {'contamination': 1e-05, 'n_neighbors': 50, 'p...               68\n",
       "20  {'contamination': 1e-05, 'n_neighbors': 40, 'p...               69\n",
       "19  {'contamination': 1e-05, 'n_neighbors': 40, 'p...               70\n",
       "70  {'contamination': 0.001, 'n_neighbors': 50, 'p...               71\n",
       "71  {'contamination': 0.001, 'n_neighbors': 50, 'p...               72\n",
       "\n",
       "[72 rows x 2 columns]"
      ]
     },
     "execution_count": 47,
     "metadata": {},
     "output_type": "execute_result"
    }
   ],
   "source": [
    "scores_df = pd.DataFrame(grid_cv.cv_results_)\n",
    "scores_df[['params', 'rank_test_score']].sort_values('rank_test_score')"
   ]
  },
  {
   "cell_type": "code",
   "execution_count": 48,
   "id": "0137a8ee",
   "metadata": {},
   "outputs": [
    {
     "name": "stdout",
     "output_type": "stream",
     "text": [
      "오차 행렬\n",
      "[[ 5179 23253]\n",
      " [   15    15]]\n",
      "정확도: 0.1825, 정밀도: 0.0006, 재현율: 0.5000, f1_score: 0.0013\n",
      "최적의 파라미터를 사용한 f1 score: 0.0013\n"
     ]
    }
   ],
   "source": [
    "best_clf = grid_cv.best_estimator_\n",
    "best_pred = best_clf.predict(valid_df.iloc[:, :-1])\n",
    "best_pred_edit = np.where(best_pred == -1, 1, 0)\n",
    "get_clf_eval(valid_df['Class'], best_pred_edit)\n",
    "f1 = f1_score(valid_df['Class'], best_pred_edit)\n",
    "print('최적의 파라미터를 사용한 f1 score: {0:.4f}'.format(f1))"
   ]
  },
  {
   "cell_type": "code",
   "execution_count": null,
   "id": "8774fdd0",
   "metadata": {},
   "outputs": [],
   "source": []
  }
 ],
 "metadata": {
  "kernelspec": {
   "display_name": "Python 3 (ipykernel)",
   "language": "python",
   "name": "python3"
  },
  "language_info": {
   "codemirror_mode": {
    "name": "ipython",
    "version": 3
   },
   "file_extension": ".py",
   "mimetype": "text/x-python",
   "name": "python",
   "nbconvert_exporter": "python",
   "pygments_lexer": "ipython3",
   "version": "3.9.12"
  }
 },
 "nbformat": 4,
 "nbformat_minor": 5
}
