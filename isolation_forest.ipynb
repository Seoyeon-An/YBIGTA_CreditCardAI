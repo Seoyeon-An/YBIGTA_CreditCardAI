{
  "nbformat": 4,
  "nbformat_minor": 0,
  "metadata": {
    "colab": {
      "provenance": []
    },
    "kernelspec": {
      "name": "python3",
      "display_name": "Python 3"
    },
    "language_info": {
      "name": "python"
    },
    "accelerator": "GPU",
    "gpuClass": "standard"
  },
  "cells": [
    {
      "cell_type": "code",
      "source": [
        "isf10 = IsolationForest(contamination=0.0011, max_features=1.0, random_state=0).fit(train.loc[:, ['V17', 'V14', 'V12', 'V10', 'V7', 'V3']])"
      ],
      "metadata": {
        "colab": {
          "base_uri": "https://localhost:8080/"
        },
        "outputId": "e1d674b9-30c4-4b95-f15d-526be71c55e9",
        "id": "GtMxzL85w-Rr"
      },
      "execution_count": null,
      "outputs": [
        {
          "output_type": "stream",
          "name": "stderr",
          "text": [
            "/usr/local/lib/python3.8/dist-packages/sklearn/base.py:450: UserWarning: X does not have valid feature names, but IsolationForest was fitted with feature names\n",
            "  warnings.warn(\n"
          ]
        }
      ]
    },
    {
      "cell_type": "code",
      "source": [
        "result10 = isf10.predict(val.loc[:, ['V17', 'V14', 'V12', 'V10', 'V7', 'V3']])"
      ],
      "metadata": {
        "id": "-4NXXjgdw-Rr"
      },
      "execution_count": null,
      "outputs": []
    },
    {
      "cell_type": "code",
      "source": [
        "f1_score(val_class, np.where(result10==1, 0, 1), average='macro')"
      ],
      "metadata": {
        "colab": {
          "base_uri": "https://localhost:8080/"
        },
        "outputId": "628d970e-20af-4eb5-b155-ef466c1d2b2b",
        "id": "IarN81t6w-Rs"
      },
      "execution_count": null,
      "outputs": [
        {
          "output_type": "execute_result",
          "data": {
            "text/plain": [
              "0.7583744968510364"
            ]
          },
          "metadata": {},
          "execution_count": 9
        }
      ]
    },
    {
      "cell_type": "code",
      "execution_count": 1,
      "metadata": {
        "colab": {
          "base_uri": "https://localhost:8080/"
        },
        "id": "5rMHbP9LMK6e",
        "outputId": "639bb201-dcb9-41c1-9576-0d45a163e497"
      },
      "outputs": [
        {
          "output_type": "stream",
          "name": "stdout",
          "text": [
            "Drive already mounted at /content/gdrive; to attempt to forcibly remount, call drive.mount(\"/content/gdrive\", force_remount=True).\n"
          ]
        }
      ],
      "source": [
        "from google.colab import drive\n",
        "drive.mount('/content/gdrive')"
      ]
    },
    {
      "cell_type": "code",
      "source": [
        "import numpy as np\n",
        "import pandas as pd\n",
        "import matplotlib\n",
        "import matplotlib.pyplot as plt\n",
        "import seaborn as sns\n",
        "from sklearn.metrics import f1_score"
      ],
      "metadata": {
        "id": "aOEbevS_NEL3"
      },
      "execution_count": 2,
      "outputs": []
    },
    {
      "cell_type": "code",
      "source": [
        "trainpath='/content/gdrive/MyDrive/YBIGTA_CreditAI/open/train.csv'\n",
        "testpath='/content/gdrive/MyDrive/YBIGTA_CreditAI/open/test.csv'\n",
        "valpath='/content/gdrive/MyDrive/YBIGTA_CreditAI/open/val.csv'\n",
        "submissionpath= '/content/gdrive/MyDrive/YBIGTA_CreditAI/open/sample_submission.csv'\n",
        "\n",
        "train=pd.read_csv(trainpath)\n",
        "test=pd.read_csv(testpath)\n",
        "val=pd.read_csv(valpath)\n",
        "submission=pd.read_csv(submissionpath)"
      ],
      "metadata": {
        "id": "xWN-Xc-oYZLk"
      },
      "execution_count": 3,
      "outputs": []
    },
    {
      "cell_type": "code",
      "source": [
        "train = train.drop(columns=['ID'])\n",
        "val_class = val.Class\n",
        "val = val.drop(columns=['ID', 'Class'])\n",
        "test = test.drop(columns=['ID'])"
      ],
      "metadata": {
        "id": "JeDsDbOFRR5g"
      },
      "execution_count": 4,
      "outputs": []
    },
    {
      "cell_type": "code",
      "source": [
        "train.describe()"
      ],
      "metadata": {
        "colab": {
          "base_uri": "https://localhost:8080/",
          "height": 393
        },
        "id": "gOBztp-6dMHx",
        "outputId": "8b976d07-7bfd-4426-ca96-52eebcc56c8c"
      },
      "execution_count": 68,
      "outputs": [
        {
          "output_type": "execute_result",
          "data": {
            "text/plain": [
              "                  V1             V2             V3             V4  \\\n",
              "count  113842.000000  113842.000000  113842.000000  113842.000000   \n",
              "mean        0.000197       0.001289       0.009717      -0.004169   \n",
              "std         1.951060       1.651064       1.496916       1.412633   \n",
              "min       -56.407510     -72.715728     -32.454198      -5.600607   \n",
              "25%        -0.923479      -0.595602      -0.883877      -0.853728   \n",
              "50%         0.012074       0.066390       0.183868      -0.019359   \n",
              "75%         1.315373       0.801687       1.037120       0.742208   \n",
              "max         2.454930      21.467203       4.187811      16.491217   \n",
              "\n",
              "                  V5             V6             V7             V8  \\\n",
              "count  113842.000000  113842.000000  113842.000000  113842.000000   \n",
              "mean        0.000475       0.005141       0.005769      -0.002451   \n",
              "std         1.367533       1.330583       1.204111       1.185504   \n",
              "min       -42.147898     -26.160506     -41.506796     -50.943369   \n",
              "25%        -0.689853      -0.766094      -0.552071      -0.209492   \n",
              "50%        -0.054060      -0.272436       0.039036       0.020970   \n",
              "75%         0.614214       0.405285       0.568750       0.328303   \n",
              "max        34.801666      23.917837      44.054461      20.007208   \n",
              "\n",
              "                  V9            V10  ...            V21           V22  \\\n",
              "count  113842.000000  113842.000000  ...  113842.000000  1.138420e+05   \n",
              "mean       -0.002107       0.005209  ...      -0.001242  4.088347e-07   \n",
              "std         1.095415       1.071337  ...       0.722001  7.238291e-01   \n",
              "min       -13.434066     -24.403185  ...     -22.757540 -8.887017e+00   \n",
              "25%        -0.647477      -0.533477  ...      -0.229710 -5.402665e-01   \n",
              "50%        -0.052157      -0.090810  ...      -0.030281  8.345807e-03   \n",
              "75%         0.590705       0.455287  ...       0.186001  5.287508e-01   \n",
              "max        10.392889      15.331742  ...      27.202839  8.361985e+00   \n",
              "\n",
              "                 V23            V24            V25            V26  \\\n",
              "count  113842.000000  113842.000000  113842.000000  113842.000000   \n",
              "mean       -0.001317      -0.000884       0.001680      -0.000293   \n",
              "std         0.636061       0.605854       0.520069       0.480979   \n",
              "min       -44.807735      -2.824849     -10.295397      -1.855355   \n",
              "25%        -0.162180      -0.355582      -0.315470      -0.326160   \n",
              "50%        -0.012261       0.040573       0.018278      -0.052815   \n",
              "75%         0.147474       0.438225       0.353989       0.240838   \n",
              "max        22.528412       4.022866       7.519589       3.119295   \n",
              "\n",
              "                 V27            V28            V29            V30  \n",
              "count  113842.000000  113842.000000  113842.000000  113842.000000  \n",
              "mean       -0.000234      -0.000508       0.927253       0.116232  \n",
              "std         0.399505       0.356130       3.412933       0.558161  \n",
              "min        -9.895244      -9.617915      -0.307413      -0.994972  \n",
              "25%        -0.070847      -0.053249      -0.230560      -0.360304  \n",
              "50%         0.001502       0.011158      -0.000699      -0.002590  \n",
              "75%         0.091279       0.077851       0.768532       0.640653  \n",
              "max        11.135740      33.847808     180.101027       1.034951  \n",
              "\n",
              "[8 rows x 30 columns]"
            ],
            "text/html": [
              "\n",
              "  <div id=\"df-60fbd60b-7761-4657-b137-7c6de244c92d\">\n",
              "    <div class=\"colab-df-container\">\n",
              "      <div>\n",
              "<style scoped>\n",
              "    .dataframe tbody tr th:only-of-type {\n",
              "        vertical-align: middle;\n",
              "    }\n",
              "\n",
              "    .dataframe tbody tr th {\n",
              "        vertical-align: top;\n",
              "    }\n",
              "\n",
              "    .dataframe thead th {\n",
              "        text-align: right;\n",
              "    }\n",
              "</style>\n",
              "<table border=\"1\" class=\"dataframe\">\n",
              "  <thead>\n",
              "    <tr style=\"text-align: right;\">\n",
              "      <th></th>\n",
              "      <th>V1</th>\n",
              "      <th>V2</th>\n",
              "      <th>V3</th>\n",
              "      <th>V4</th>\n",
              "      <th>V5</th>\n",
              "      <th>V6</th>\n",
              "      <th>V7</th>\n",
              "      <th>V8</th>\n",
              "      <th>V9</th>\n",
              "      <th>V10</th>\n",
              "      <th>...</th>\n",
              "      <th>V21</th>\n",
              "      <th>V22</th>\n",
              "      <th>V23</th>\n",
              "      <th>V24</th>\n",
              "      <th>V25</th>\n",
              "      <th>V26</th>\n",
              "      <th>V27</th>\n",
              "      <th>V28</th>\n",
              "      <th>V29</th>\n",
              "      <th>V30</th>\n",
              "    </tr>\n",
              "  </thead>\n",
              "  <tbody>\n",
              "    <tr>\n",
              "      <th>count</th>\n",
              "      <td>113842.000000</td>\n",
              "      <td>113842.000000</td>\n",
              "      <td>113842.000000</td>\n",
              "      <td>113842.000000</td>\n",
              "      <td>113842.000000</td>\n",
              "      <td>113842.000000</td>\n",
              "      <td>113842.000000</td>\n",
              "      <td>113842.000000</td>\n",
              "      <td>113842.000000</td>\n",
              "      <td>113842.000000</td>\n",
              "      <td>...</td>\n",
              "      <td>113842.000000</td>\n",
              "      <td>1.138420e+05</td>\n",
              "      <td>113842.000000</td>\n",
              "      <td>113842.000000</td>\n",
              "      <td>113842.000000</td>\n",
              "      <td>113842.000000</td>\n",
              "      <td>113842.000000</td>\n",
              "      <td>113842.000000</td>\n",
              "      <td>113842.000000</td>\n",
              "      <td>113842.000000</td>\n",
              "    </tr>\n",
              "    <tr>\n",
              "      <th>mean</th>\n",
              "      <td>0.000197</td>\n",
              "      <td>0.001289</td>\n",
              "      <td>0.009717</td>\n",
              "      <td>-0.004169</td>\n",
              "      <td>0.000475</td>\n",
              "      <td>0.005141</td>\n",
              "      <td>0.005769</td>\n",
              "      <td>-0.002451</td>\n",
              "      <td>-0.002107</td>\n",
              "      <td>0.005209</td>\n",
              "      <td>...</td>\n",
              "      <td>-0.001242</td>\n",
              "      <td>4.088347e-07</td>\n",
              "      <td>-0.001317</td>\n",
              "      <td>-0.000884</td>\n",
              "      <td>0.001680</td>\n",
              "      <td>-0.000293</td>\n",
              "      <td>-0.000234</td>\n",
              "      <td>-0.000508</td>\n",
              "      <td>0.927253</td>\n",
              "      <td>0.116232</td>\n",
              "    </tr>\n",
              "    <tr>\n",
              "      <th>std</th>\n",
              "      <td>1.951060</td>\n",
              "      <td>1.651064</td>\n",
              "      <td>1.496916</td>\n",
              "      <td>1.412633</td>\n",
              "      <td>1.367533</td>\n",
              "      <td>1.330583</td>\n",
              "      <td>1.204111</td>\n",
              "      <td>1.185504</td>\n",
              "      <td>1.095415</td>\n",
              "      <td>1.071337</td>\n",
              "      <td>...</td>\n",
              "      <td>0.722001</td>\n",
              "      <td>7.238291e-01</td>\n",
              "      <td>0.636061</td>\n",
              "      <td>0.605854</td>\n",
              "      <td>0.520069</td>\n",
              "      <td>0.480979</td>\n",
              "      <td>0.399505</td>\n",
              "      <td>0.356130</td>\n",
              "      <td>3.412933</td>\n",
              "      <td>0.558161</td>\n",
              "    </tr>\n",
              "    <tr>\n",
              "      <th>min</th>\n",
              "      <td>-56.407510</td>\n",
              "      <td>-72.715728</td>\n",
              "      <td>-32.454198</td>\n",
              "      <td>-5.600607</td>\n",
              "      <td>-42.147898</td>\n",
              "      <td>-26.160506</td>\n",
              "      <td>-41.506796</td>\n",
              "      <td>-50.943369</td>\n",
              "      <td>-13.434066</td>\n",
              "      <td>-24.403185</td>\n",
              "      <td>...</td>\n",
              "      <td>-22.757540</td>\n",
              "      <td>-8.887017e+00</td>\n",
              "      <td>-44.807735</td>\n",
              "      <td>-2.824849</td>\n",
              "      <td>-10.295397</td>\n",
              "      <td>-1.855355</td>\n",
              "      <td>-9.895244</td>\n",
              "      <td>-9.617915</td>\n",
              "      <td>-0.307413</td>\n",
              "      <td>-0.994972</td>\n",
              "    </tr>\n",
              "    <tr>\n",
              "      <th>25%</th>\n",
              "      <td>-0.923479</td>\n",
              "      <td>-0.595602</td>\n",
              "      <td>-0.883877</td>\n",
              "      <td>-0.853728</td>\n",
              "      <td>-0.689853</td>\n",
              "      <td>-0.766094</td>\n",
              "      <td>-0.552071</td>\n",
              "      <td>-0.209492</td>\n",
              "      <td>-0.647477</td>\n",
              "      <td>-0.533477</td>\n",
              "      <td>...</td>\n",
              "      <td>-0.229710</td>\n",
              "      <td>-5.402665e-01</td>\n",
              "      <td>-0.162180</td>\n",
              "      <td>-0.355582</td>\n",
              "      <td>-0.315470</td>\n",
              "      <td>-0.326160</td>\n",
              "      <td>-0.070847</td>\n",
              "      <td>-0.053249</td>\n",
              "      <td>-0.230560</td>\n",
              "      <td>-0.360304</td>\n",
              "    </tr>\n",
              "    <tr>\n",
              "      <th>50%</th>\n",
              "      <td>0.012074</td>\n",
              "      <td>0.066390</td>\n",
              "      <td>0.183868</td>\n",
              "      <td>-0.019359</td>\n",
              "      <td>-0.054060</td>\n",
              "      <td>-0.272436</td>\n",
              "      <td>0.039036</td>\n",
              "      <td>0.020970</td>\n",
              "      <td>-0.052157</td>\n",
              "      <td>-0.090810</td>\n",
              "      <td>...</td>\n",
              "      <td>-0.030281</td>\n",
              "      <td>8.345807e-03</td>\n",
              "      <td>-0.012261</td>\n",
              "      <td>0.040573</td>\n",
              "      <td>0.018278</td>\n",
              "      <td>-0.052815</td>\n",
              "      <td>0.001502</td>\n",
              "      <td>0.011158</td>\n",
              "      <td>-0.000699</td>\n",
              "      <td>-0.002590</td>\n",
              "    </tr>\n",
              "    <tr>\n",
              "      <th>75%</th>\n",
              "      <td>1.315373</td>\n",
              "      <td>0.801687</td>\n",
              "      <td>1.037120</td>\n",
              "      <td>0.742208</td>\n",
              "      <td>0.614214</td>\n",
              "      <td>0.405285</td>\n",
              "      <td>0.568750</td>\n",
              "      <td>0.328303</td>\n",
              "      <td>0.590705</td>\n",
              "      <td>0.455287</td>\n",
              "      <td>...</td>\n",
              "      <td>0.186001</td>\n",
              "      <td>5.287508e-01</td>\n",
              "      <td>0.147474</td>\n",
              "      <td>0.438225</td>\n",
              "      <td>0.353989</td>\n",
              "      <td>0.240838</td>\n",
              "      <td>0.091279</td>\n",
              "      <td>0.077851</td>\n",
              "      <td>0.768532</td>\n",
              "      <td>0.640653</td>\n",
              "    </tr>\n",
              "    <tr>\n",
              "      <th>max</th>\n",
              "      <td>2.454930</td>\n",
              "      <td>21.467203</td>\n",
              "      <td>4.187811</td>\n",
              "      <td>16.491217</td>\n",
              "      <td>34.801666</td>\n",
              "      <td>23.917837</td>\n",
              "      <td>44.054461</td>\n",
              "      <td>20.007208</td>\n",
              "      <td>10.392889</td>\n",
              "      <td>15.331742</td>\n",
              "      <td>...</td>\n",
              "      <td>27.202839</td>\n",
              "      <td>8.361985e+00</td>\n",
              "      <td>22.528412</td>\n",
              "      <td>4.022866</td>\n",
              "      <td>7.519589</td>\n",
              "      <td>3.119295</td>\n",
              "      <td>11.135740</td>\n",
              "      <td>33.847808</td>\n",
              "      <td>180.101027</td>\n",
              "      <td>1.034951</td>\n",
              "    </tr>\n",
              "  </tbody>\n",
              "</table>\n",
              "<p>8 rows × 30 columns</p>\n",
              "</div>\n",
              "      <button class=\"colab-df-convert\" onclick=\"convertToInteractive('df-60fbd60b-7761-4657-b137-7c6de244c92d')\"\n",
              "              title=\"Convert this dataframe to an interactive table.\"\n",
              "              style=\"display:none;\">\n",
              "        \n",
              "  <svg xmlns=\"http://www.w3.org/2000/svg\" height=\"24px\"viewBox=\"0 0 24 24\"\n",
              "       width=\"24px\">\n",
              "    <path d=\"M0 0h24v24H0V0z\" fill=\"none\"/>\n",
              "    <path d=\"M18.56 5.44l.94 2.06.94-2.06 2.06-.94-2.06-.94-.94-2.06-.94 2.06-2.06.94zm-11 1L8.5 8.5l.94-2.06 2.06-.94-2.06-.94L8.5 2.5l-.94 2.06-2.06.94zm10 10l.94 2.06.94-2.06 2.06-.94-2.06-.94-.94-2.06-.94 2.06-2.06.94z\"/><path d=\"M17.41 7.96l-1.37-1.37c-.4-.4-.92-.59-1.43-.59-.52 0-1.04.2-1.43.59L10.3 9.45l-7.72 7.72c-.78.78-.78 2.05 0 2.83L4 21.41c.39.39.9.59 1.41.59.51 0 1.02-.2 1.41-.59l7.78-7.78 2.81-2.81c.8-.78.8-2.07 0-2.86zM5.41 20L4 18.59l7.72-7.72 1.47 1.35L5.41 20z\"/>\n",
              "  </svg>\n",
              "      </button>\n",
              "      \n",
              "  <style>\n",
              "    .colab-df-container {\n",
              "      display:flex;\n",
              "      flex-wrap:wrap;\n",
              "      gap: 12px;\n",
              "    }\n",
              "\n",
              "    .colab-df-convert {\n",
              "      background-color: #E8F0FE;\n",
              "      border: none;\n",
              "      border-radius: 50%;\n",
              "      cursor: pointer;\n",
              "      display: none;\n",
              "      fill: #1967D2;\n",
              "      height: 32px;\n",
              "      padding: 0 0 0 0;\n",
              "      width: 32px;\n",
              "    }\n",
              "\n",
              "    .colab-df-convert:hover {\n",
              "      background-color: #E2EBFA;\n",
              "      box-shadow: 0px 1px 2px rgba(60, 64, 67, 0.3), 0px 1px 3px 1px rgba(60, 64, 67, 0.15);\n",
              "      fill: #174EA6;\n",
              "    }\n",
              "\n",
              "    [theme=dark] .colab-df-convert {\n",
              "      background-color: #3B4455;\n",
              "      fill: #D2E3FC;\n",
              "    }\n",
              "\n",
              "    [theme=dark] .colab-df-convert:hover {\n",
              "      background-color: #434B5C;\n",
              "      box-shadow: 0px 1px 3px 1px rgba(0, 0, 0, 0.15);\n",
              "      filter: drop-shadow(0px 1px 2px rgba(0, 0, 0, 0.3));\n",
              "      fill: #FFFFFF;\n",
              "    }\n",
              "  </style>\n",
              "\n",
              "      <script>\n",
              "        const buttonEl =\n",
              "          document.querySelector('#df-60fbd60b-7761-4657-b137-7c6de244c92d button.colab-df-convert');\n",
              "        buttonEl.style.display =\n",
              "          google.colab.kernel.accessAllowed ? 'block' : 'none';\n",
              "\n",
              "        async function convertToInteractive(key) {\n",
              "          const element = document.querySelector('#df-60fbd60b-7761-4657-b137-7c6de244c92d');\n",
              "          const dataTable =\n",
              "            await google.colab.kernel.invokeFunction('convertToInteractive',\n",
              "                                                     [key], {});\n",
              "          if (!dataTable) return;\n",
              "\n",
              "          const docLinkHtml = 'Like what you see? Visit the ' +\n",
              "            '<a target=\"_blank\" href=https://colab.research.google.com/notebooks/data_table.ipynb>data table notebook</a>'\n",
              "            + ' to learn more about interactive tables.';\n",
              "          element.innerHTML = '';\n",
              "          dataTable['output_type'] = 'display_data';\n",
              "          await google.colab.output.renderOutput(dataTable, element);\n",
              "          const docLink = document.createElement('div');\n",
              "          docLink.innerHTML = docLinkHtml;\n",
              "          element.appendChild(docLink);\n",
              "        }\n",
              "      </script>\n",
              "    </div>\n",
              "  </div>\n",
              "  "
            ]
          },
          "metadata": {},
          "execution_count": 68
        }
      ]
    },
    {
      "cell_type": "code",
      "source": [
        "from sklearn.ensemble import IsolationForest"
      ],
      "metadata": {
        "id": "oWMqUa2NQIQo"
      },
      "execution_count": 6,
      "outputs": []
    },
    {
      "cell_type": "code",
      "source": [
        "'''\n",
        "IsolationForest(*, n_estimators=100, max_samples='auto', contamination='auto', max_features=1.0, bootstrap=False, n_jobs=None, random_state=None, verbose=0, warm_start=False)\n",
        "\n",
        "n_estimators: 몇 개의 base estimators를 사용하여 앙상블 할 것인가\n",
        "max_samples: 하나의 부분 tree에 몇 개의 data를 입력해 학습시킬 것인가. auto로 입력하면 min(256, n_samples), 숫자로 입력하면 그만큼\n",
        "contamination: proportion of outliers in the data set, 'auto'는 논문의 기준을 따름, 0 초과 0.5 이하의 숫자를 입력하면 해당 비율\n",
        "max_features: 각각의 tree에 사용할 feature 개수\n",
        "bootstrap: True or False, 각각의 tree를 학습시킬 때 sample들을 복원추출(이미 뽑힌 데이터를 또 뽑힐 수 있게 하겠다, True)/비복원추출(이미 뽑힌 데이터는 안뽑히게 하겠다, False)\n",
        "n_jobs: 굳이 건들 필요 없음(parallel computing 관련)\n",
        "random_state: randomness 없이 동일한 결과를 얻고 싶다면 정수로 지정, random seed\n",
        "verbose: 굳이 건들 필요 없음(진행상황 볼지 말지)\n",
        "warm_start: 이전 fitting 내용을 이어서 할 건지(True), 새로운 forest를 만들건지(False)\n",
        "'''"
      ],
      "metadata": {
        "id": "bMd05984QWnq"
      },
      "execution_count": null,
      "outputs": []
    },
    {
      "cell_type": "code",
      "source": [
        "isf = IsolationForest(random_state=0).fit(train)"
      ],
      "metadata": {
        "id": "3DXuZGNwYToI"
      },
      "execution_count": 6,
      "outputs": []
    },
    {
      "cell_type": "code",
      "source": [
        "result = isf.predict(val)"
      ],
      "metadata": {
        "id": "wBN6RAD5ZGeD"
      },
      "execution_count": 7,
      "outputs": []
    },
    {
      "cell_type": "code",
      "source": [
        "f1_score(val_class, np.where(result==1, 0, 1), average='macro')"
      ],
      "metadata": {
        "colab": {
          "base_uri": "https://localhost:8080/"
        },
        "id": "0G1r0NusaI_k",
        "outputId": "91929432-5e0a-4e97-9106-b57c4cc6f4fe"
      },
      "execution_count": 8,
      "outputs": [
        {
          "output_type": "execute_result",
          "data": {
            "text/plain": [
              "0.5106113830998832"
            ]
          },
          "metadata": {},
          "execution_count": 8
        }
      ]
    },
    {
      "cell_type": "code",
      "source": [
        "plt.scatter(val['V3'], val['V7'], c=np.where(result==1, 0, 1))\n",
        "plt.show()"
      ],
      "metadata": {
        "colab": {
          "base_uri": "https://localhost:8080/",
          "height": 265
        },
        "id": "KgbmvNJ0aPC5",
        "outputId": "04fd51d4-b7ca-4a83-e07c-1df5ded4cb4a"
      },
      "execution_count": 9,
      "outputs": [
        {
          "output_type": "display_data",
          "data": {
            "text/plain": [
              "<Figure size 432x288 with 1 Axes>"
            ],
            "image/png": "[encoded data removed]"
          },
          "metadata": {
            "needs_background": "light"
          }
        }
      ]
    },
    {
      "cell_type": "code",
      "source": [
        "isf2 = IsolationForest(contamination=0.0011, random_state=0).fit(train)"
      ],
      "metadata": {
        "colab": {
          "base_uri": "https://localhost:8080/"
        },
        "id": "WCYp4UUJamwZ",
        "outputId": "5ea4292e-99ed-4120-c1db-2cd42ba92ed3"
      },
      "execution_count": 10,
      "outputs": [
        {
          "output_type": "stream",
          "name": "stderr",
          "text": [
            "/usr/local/lib/python3.8/dist-packages/sklearn/base.py:450: UserWarning: X does not have valid feature names, but IsolationForest was fitted with feature names\n",
            "  warnings.warn(\n"
          ]
        }
      ]
    },
    {
      "cell_type": "code",
      "source": [
        "result2 = isf2.predict(val)"
      ],
      "metadata": {
        "id": "J-vnsvvBamwa"
      },
      "execution_count": 11,
      "outputs": []
    },
    {
      "cell_type": "code",
      "source": [
        "f1_score(val_class, np.where(result2==1, 0, 1), average='macro')"
      ],
      "metadata": {
        "colab": {
          "base_uri": "https://localhost:8080/"
        },
        "outputId": "b14c9826-ed95-45a0-9f4b-f21f72850416",
        "id": "ipxa_d6Kamwa"
      },
      "execution_count": 12,
      "outputs": [
        {
          "output_type": "execute_result",
          "data": {
            "text/plain": [
              "0.7140043609762959"
            ]
          },
          "metadata": {},
          "execution_count": 12
        }
      ]
    },
    {
      "cell_type": "code",
      "source": [
        "plt.scatter(val['V3'], val['V7'], c=np.where(result2==1, 0, 1))\n",
        "plt.show()"
      ],
      "metadata": {
        "colab": {
          "base_uri": "https://localhost:8080/",
          "height": 265
        },
        "outputId": "fe8f6a94-ee8a-4006-db11-67601b8b8fec",
        "id": "UV4reOcxamwb"
      },
      "execution_count": 34,
      "outputs": [
        {
          "output_type": "display_data",
          "data": {
            "text/plain": [
              "<Figure size 432x288 with 1 Axes>"
            ],
            "image/png": "[encoded data removed]"
          },
          "metadata": {
            "needs_background": "light"
          }
        }
      ]
    },
    {
      "cell_type": "code",
      "source": [
        "# scaler별 비교\n",
        "# 1. standard scaling\n",
        "# 2. minmax scaling\n",
        "# 3. maxabs scaling\n",
        "# 4. robust scaling\n",
        "\n",
        "from sklearn.preprocessing import StandardScaler\n",
        "from sklearn.preprocessing import MinMaxScaler\n",
        "from sklearn.preprocessing import MaxAbsScaler\n",
        "from sklearn.preprocessing import RobustScaler"
      ],
      "metadata": {
        "id": "ZXnPUBZofO8Z"
      },
      "execution_count": 14,
      "outputs": []
    },
    {
      "cell_type": "code",
      "source": [
        "scaler1 = StandardScaler().fit(train)\n",
        "scaler2 = MinMaxScaler().fit(train)\n",
        "scaler3 = MaxAbsScaler().fit(train)\n",
        "scaler4 = RobustScaler().fit(train)"
      ],
      "metadata": {
        "id": "j74ySgN1PsiJ"
      },
      "execution_count": 21,
      "outputs": []
    },
    {
      "cell_type": "code",
      "source": [
        "isf3 = IsolationForest(contamination=0.0011, random_state=0).fit(scaler1.transform(train))"
      ],
      "metadata": {
        "id": "TFw47aY0Sf42"
      },
      "execution_count": 38,
      "outputs": []
    },
    {
      "cell_type": "code",
      "source": [
        "result3 = isf3.predict(scaler1.transform(val))"
      ],
      "metadata": {
        "id": "KzRA_n7KSf44"
      },
      "execution_count": 39,
      "outputs": []
    },
    {
      "cell_type": "code",
      "source": [
        "f1_score(val_class, np.where(result3==1, 0, 1), average='macro')"
      ],
      "metadata": {
        "colab": {
          "base_uri": "https://localhost:8080/"
        },
        "outputId": "1290ee76-ca07-45be-f7b2-ac819d109e3c",
        "id": "yJqhj_YhSf44"
      },
      "execution_count": 40,
      "outputs": [
        {
          "output_type": "execute_result",
          "data": {
            "text/plain": [
              "0.7140043609762959"
            ]
          },
          "metadata": {},
          "execution_count": 40
        }
      ]
    },
    {
      "cell_type": "code",
      "source": [
        "plt.scatter(val['V3'], val['V7'], c=np.where(result3==1, 0, 1))\n",
        "plt.show()"
      ],
      "metadata": {
        "colab": {
          "base_uri": "https://localhost:8080/",
          "height": 265
        },
        "outputId": "1792934c-f7d0-4009-e2aa-f261ab7805e0",
        "id": "EfBIKB3YSf45"
      },
      "execution_count": 42,
      "outputs": [
        {
          "output_type": "display_data",
          "data": {
            "text/plain": [
              "<Figure size 432x288 with 1 Axes>"
            ],
            "image/png": "[encoded data removed]"
          },
          "metadata": {
            "needs_background": "light"
          }
        }
      ]
    },
    {
      "cell_type": "code",
      "source": [
        "pd.DataFrame(scaler1.transform(train)).describe()"
      ],
      "metadata": {
        "colab": {
          "base_uri": "https://localhost:8080/",
          "height": 463
        },
        "id": "kUTmphKuUGol",
        "outputId": "4808d83a-cbe5-45d2-9475-5815096e0391"
      },
      "execution_count": 43,
      "outputs": [
        {
          "output_type": "execute_result",
          "data": {
            "text/plain": [
              "                 0             1             2             3             4   \\\n",
              "count  1.138420e+05  1.138420e+05  1.138420e+05  1.138420e+05  1.138420e+05   \n",
              "mean   9.986370e-18 -6.990459e-18  3.994548e-17 -3.994548e-17  1.597819e-17   \n",
              "std    1.000004e+00  1.000004e+00  1.000004e+00  1.000004e+00  1.000004e+00   \n",
              "min   -2.891143e+01 -4.404272e+01 -2.168730e+01 -3.961724e+00 -3.082086e+01   \n",
              "25%   -4.734248e-01 -3.615209e-01 -5.969594e-01 -6.014037e-01 -5.048002e-01   \n",
              "50%    6.087142e-03  3.943019e-02  1.163400e-01 -1.075321e-02 -3.987825e-02   \n",
              "75%    6.740856e-01  4.847794e-01  6.863496e-01  5.283610e-01  4.487943e-01   \n",
              "max    1.258159e+00  1.300132e+01  2.791147e+00  1.167710e+01  2.544826e+01   \n",
              "\n",
              "                 5             6             7             8             9   \\\n",
              "count  1.138420e+05  1.138420e+05  1.138420e+05  1.138420e+05  1.138420e+05   \n",
              "mean   5.991822e-18  1.597819e-17  3.994548e-18  3.432815e-18  1.672717e-17   \n",
              "std    1.000004e+00  1.000004e+00  1.000004e+00  1.000004e+00  1.000004e+00   \n",
              "min   -1.966489e+01 -3.447585e+01 -4.297002e+01 -1.226203e+01 -2.278321e+01   \n",
              "25%   -5.796248e-01 -4.632818e-01 -1.746449e-01 -5.891582e-01 -5.028191e-01   \n",
              "50%   -2.086138e-01  2.762811e-02  1.975560e-02 -4.569051e-02 -8.962586e-02   \n",
              "75%    3.007295e-01  4.675513e-01  2.789995e-01  5.411779e-01  4.201101e-01   \n",
              "max    1.797167e+01  3.658209e+01  1.687868e+01  9.489591e+00  1.430605e+01   \n",
              "\n",
              "       ...            20            21            22            23  \\\n",
              "count  ...  1.138420e+05  1.138420e+05  1.138420e+05  1.138420e+05   \n",
              "mean   ... -7.489778e-18 -2.995911e-18 -1.597819e-17 -8.488415e-18   \n",
              "std    ...  1.000004e+00  1.000004e+00  1.000004e+00  1.000004e+00   \n",
              "min    ... -3.151850e+01 -1.227784e+01 -7.044391e+01 -4.661148e+00   \n",
              "25%    ... -3.164376e-01 -7.464045e-01 -2.529060e-01 -5.854532e-01   \n",
              "50%    ... -4.022034e-02  1.152957e-02 -1.720530e-02  6.842869e-02   \n",
              "75%    ...  2.593411e-01  7.304939e-01  2.339279e-01  7.247792e-01   \n",
              "max    ...  3.767888e+01  1.155248e+01  3.542087e+01  6.641477e+00   \n",
              "\n",
              "                 24            25            26            27            28  \\\n",
              "count  1.138420e+05  1.138420e+05  1.138420e+05  1.138420e+05  1.138420e+05   \n",
              "mean   2.396729e-17  2.546524e-17  8.738074e-18  5.991822e-18  2.995911e-17   \n",
              "std    1.000004e+00  1.000004e+00  1.000004e+00  1.000004e+00  1.000004e+00   \n",
              "min   -1.979951e+01 -3.856866e+00 -2.476825e+01 -2.700547e+01 -3.617625e-01   \n",
              "25%   -6.098260e-01 -6.775104e-01 -1.767528e-01 -1.480942e-01 -3.392442e-01   \n",
              "50%    3.191485e-02 -1.091987e-01  4.344384e-03  3.275862e-02 -2.718939e-01   \n",
              "75%    6.774301e-01  5.013363e-01  2.290662e-01  2.200319e-01 -4.650593e-02   \n",
              "max    1.445565e+01  6.485947e+00  2.787452e+01  9.504534e+01  5.249871e+01   \n",
              "\n",
              "                 29  \n",
              "count  1.138420e+05  \n",
              "mean   1.597819e-16  \n",
              "std    1.000004e+00  \n",
              "min   -1.990839e+00  \n",
              "25%   -8.537647e-01  \n",
              "50%   -2.128823e-01  \n",
              "75%    9.395568e-01  \n",
              "max    1.645983e+00  \n",
              "\n",
              "[8 rows x 30 columns]"
            ],
            "text/html": [
              "\n",
              "  <div id=\"df-cedbf199-dfa7-42a8-9f9d-7929edb2ff47\">\n",
              "    <div class=\"colab-df-container\">\n",
              "      <div>\n",
              "<style scoped>\n",
              "    .dataframe tbody tr th:only-of-type {\n",
              "        vertical-align: middle;\n",
              "    }\n",
              "\n",
              "    .dataframe tbody tr th {\n",
              "        vertical-align: top;\n",
              "    }\n",
              "\n",
              "    .dataframe thead th {\n",
              "        text-align: right;\n",
              "    }\n",
              "</style>\n",
              "<table border=\"1\" class=\"dataframe\">\n",
              "  <thead>\n",
              "    <tr style=\"text-align: right;\">\n",
              "      <th></th>\n",
              "      <th>0</th>\n",
              "      <th>1</th>\n",
              "      <th>2</th>\n",
              "      <th>3</th>\n",
              "      <th>4</th>\n",
              "      <th>5</th>\n",
              "      <th>6</th>\n",
              "      <th>7</th>\n",
              "      <th>8</th>\n",
              "      <th>9</th>\n",
              "      <th>...</th>\n",
              "      <th>20</th>\n",
              "      <th>21</th>\n",
              "      <th>22</th>\n",
              "      <th>23</th>\n",
              "      <th>24</th>\n",
              "      <th>25</th>\n",
              "      <th>26</th>\n",
              "      <th>27</th>\n",
              "      <th>28</th>\n",
              "      <th>29</th>\n",
              "    </tr>\n",
              "  </thead>\n",
              "  <tbody>\n",
              "    <tr>\n",
              "      <th>count</th>\n",
              "      <td>1.138420e+05</td>\n",
              "      <td>1.138420e+05</td>\n",
              "      <td>1.138420e+05</td>\n",
              "      <td>1.138420e+05</td>\n",
              "      <td>1.138420e+05</td>\n",
              "      <td>1.138420e+05</td>\n",
              "      <td>1.138420e+05</td>\n",
              "      <td>1.138420e+05</td>\n",
              "      <td>1.138420e+05</td>\n",
              "      <td>1.138420e+05</td>\n",
              "      <td>...</td>\n",
              "      <td>1.138420e+05</td>\n",
              "      <td>1.138420e+05</td>\n",
              "      <td>1.138420e+05</td>\n",
              "      <td>1.138420e+05</td>\n",
              "      <td>1.138420e+05</td>\n",
              "      <td>1.138420e+05</td>\n",
              "      <td>1.138420e+05</td>\n",
              "      <td>1.138420e+05</td>\n",
              "      <td>1.138420e+05</td>\n",
              "      <td>1.138420e+05</td>\n",
              "    </tr>\n",
              "    <tr>\n",
              "      <th>mean</th>\n",
              "      <td>9.986370e-18</td>\n",
              "      <td>-6.990459e-18</td>\n",
              "      <td>3.994548e-17</td>\n",
              "      <td>-3.994548e-17</td>\n",
              "      <td>1.597819e-17</td>\n",
              "      <td>5.991822e-18</td>\n",
              "      <td>1.597819e-17</td>\n",
              "      <td>3.994548e-18</td>\n",
              "      <td>3.432815e-18</td>\n",
              "      <td>1.672717e-17</td>\n",
              "      <td>...</td>\n",
              "      <td>-7.489778e-18</td>\n",
              "      <td>-2.995911e-18</td>\n",
              "      <td>-1.597819e-17</td>\n",
              "      <td>-8.488415e-18</td>\n",
              "      <td>2.396729e-17</td>\n",
              "      <td>2.546524e-17</td>\n",
              "      <td>8.738074e-18</td>\n",
              "      <td>5.991822e-18</td>\n",
              "      <td>2.995911e-17</td>\n",
              "      <td>1.597819e-16</td>\n",
              "    </tr>\n",
              "    <tr>\n",
              "      <th>std</th>\n",
              "      <td>1.000004e+00</td>\n",
              "      <td>1.000004e+00</td>\n",
              "      <td>1.000004e+00</td>\n",
              "      <td>1.000004e+00</td>\n",
              "      <td>1.000004e+00</td>\n",
              "      <td>1.000004e+00</td>\n",
              "      <td>1.000004e+00</td>\n",
              "      <td>1.000004e+00</td>\n",
              "      <td>1.000004e+00</td>\n",
              "      <td>1.000004e+00</td>\n",
              "      <td>...</td>\n",
              "      <td>1.000004e+00</td>\n",
              "      <td>1.000004e+00</td>\n",
              "      <td>1.000004e+00</td>\n",
              "      <td>1.000004e+00</td>\n",
              "      <td>1.000004e+00</td>\n",
              "      <td>1.000004e+00</td>\n",
              "      <td>1.000004e+00</td>\n",
              "      <td>1.000004e+00</td>\n",
              "      <td>1.000004e+00</td>\n",
              "      <td>1.000004e+00</td>\n",
              "    </tr>\n",
              "    <tr>\n",
              "      <th>min</th>\n",
              "      <td>-2.891143e+01</td>\n",
              "      <td>-4.404272e+01</td>\n",
              "      <td>-2.168730e+01</td>\n",
              "      <td>-3.961724e+00</td>\n",
              "      <td>-3.082086e+01</td>\n",
              "      <td>-1.966489e+01</td>\n",
              "      <td>-3.447585e+01</td>\n",
              "      <td>-4.297002e+01</td>\n",
              "      <td>-1.226203e+01</td>\n",
              "      <td>-2.278321e+01</td>\n",
              "      <td>...</td>\n",
              "      <td>-3.151850e+01</td>\n",
              "      <td>-1.227784e+01</td>\n",
              "      <td>-7.044391e+01</td>\n",
              "      <td>-4.661148e+00</td>\n",
              "      <td>-1.979951e+01</td>\n",
              "      <td>-3.856866e+00</td>\n",
              "      <td>-2.476825e+01</td>\n",
              "      <td>-2.700547e+01</td>\n",
              "      <td>-3.617625e-01</td>\n",
              "      <td>-1.990839e+00</td>\n",
              "    </tr>\n",
              "    <tr>\n",
              "      <th>25%</th>\n",
              "      <td>-4.734248e-01</td>\n",
              "      <td>-3.615209e-01</td>\n",
              "      <td>-5.969594e-01</td>\n",
              "      <td>-6.014037e-01</td>\n",
              "      <td>-5.048002e-01</td>\n",
              "      <td>-5.796248e-01</td>\n",
              "      <td>-4.632818e-01</td>\n",
              "      <td>-1.746449e-01</td>\n",
              "      <td>-5.891582e-01</td>\n",
              "      <td>-5.028191e-01</td>\n",
              "      <td>...</td>\n",
              "      <td>-3.164376e-01</td>\n",
              "      <td>-7.464045e-01</td>\n",
              "      <td>-2.529060e-01</td>\n",
              "      <td>-5.854532e-01</td>\n",
              "      <td>-6.098260e-01</td>\n",
              "      <td>-6.775104e-01</td>\n",
              "      <td>-1.767528e-01</td>\n",
              "      <td>-1.480942e-01</td>\n",
              "      <td>-3.392442e-01</td>\n",
              "      <td>-8.537647e-01</td>\n",
              "    </tr>\n",
              "    <tr>\n",
              "      <th>50%</th>\n",
              "      <td>6.087142e-03</td>\n",
              "      <td>3.943019e-02</td>\n",
              "      <td>1.163400e-01</td>\n",
              "      <td>-1.075321e-02</td>\n",
              "      <td>-3.987825e-02</td>\n",
              "      <td>-2.086138e-01</td>\n",
              "      <td>2.762811e-02</td>\n",
              "      <td>1.975560e-02</td>\n",
              "      <td>-4.569051e-02</td>\n",
              "      <td>-8.962586e-02</td>\n",
              "      <td>...</td>\n",
              "      <td>-4.022034e-02</td>\n",
              "      <td>1.152957e-02</td>\n",
              "      <td>-1.720530e-02</td>\n",
              "      <td>6.842869e-02</td>\n",
              "      <td>3.191485e-02</td>\n",
              "      <td>-1.091987e-01</td>\n",
              "      <td>4.344384e-03</td>\n",
              "      <td>3.275862e-02</td>\n",
              "      <td>-2.718939e-01</td>\n",
              "      <td>-2.128823e-01</td>\n",
              "    </tr>\n",
              "    <tr>\n",
              "      <th>75%</th>\n",
              "      <td>6.740856e-01</td>\n",
              "      <td>4.847794e-01</td>\n",
              "      <td>6.863496e-01</td>\n",
              "      <td>5.283610e-01</td>\n",
              "      <td>4.487943e-01</td>\n",
              "      <td>3.007295e-01</td>\n",
              "      <td>4.675513e-01</td>\n",
              "      <td>2.789995e-01</td>\n",
              "      <td>5.411779e-01</td>\n",
              "      <td>4.201101e-01</td>\n",
              "      <td>...</td>\n",
              "      <td>2.593411e-01</td>\n",
              "      <td>7.304939e-01</td>\n",
              "      <td>2.339279e-01</td>\n",
              "      <td>7.247792e-01</td>\n",
              "      <td>6.774301e-01</td>\n",
              "      <td>5.013363e-01</td>\n",
              "      <td>2.290662e-01</td>\n",
              "      <td>2.200319e-01</td>\n",
              "      <td>-4.650593e-02</td>\n",
              "      <td>9.395568e-01</td>\n",
              "    </tr>\n",
              "    <tr>\n",
              "      <th>max</th>\n",
              "      <td>1.258159e+00</td>\n",
              "      <td>1.300132e+01</td>\n",
              "      <td>2.791147e+00</td>\n",
              "      <td>1.167710e+01</td>\n",
              "      <td>2.544826e+01</td>\n",
              "      <td>1.797167e+01</td>\n",
              "      <td>3.658209e+01</td>\n",
              "      <td>1.687868e+01</td>\n",
              "      <td>9.489591e+00</td>\n",
              "      <td>1.430605e+01</td>\n",
              "      <td>...</td>\n",
              "      <td>3.767888e+01</td>\n",
              "      <td>1.155248e+01</td>\n",
              "      <td>3.542087e+01</td>\n",
              "      <td>6.641477e+00</td>\n",
              "      <td>1.445565e+01</td>\n",
              "      <td>6.485947e+00</td>\n",
              "      <td>2.787452e+01</td>\n",
              "      <td>9.504534e+01</td>\n",
              "      <td>5.249871e+01</td>\n",
              "      <td>1.645983e+00</td>\n",
              "    </tr>\n",
              "  </tbody>\n",
              "</table>\n",
              "<p>8 rows × 30 columns</p>\n",
              "</div>\n",
              "      <button class=\"colab-df-convert\" onclick=\"convertToInteractive('df-cedbf199-dfa7-42a8-9f9d-7929edb2ff47')\"\n",
              "              title=\"Convert this dataframe to an interactive table.\"\n",
              "              style=\"display:none;\">\n",
              "        \n",
              "  <svg xmlns=\"http://www.w3.org/2000/svg\" height=\"24px\"viewBox=\"0 0 24 24\"\n",
              "       width=\"24px\">\n",
              "    <path d=\"M0 0h24v24H0V0z\" fill=\"none\"/>\n",
              "    <path d=\"M18.56 5.44l.94 2.06.94-2.06 2.06-.94-2.06-.94-.94-2.06-.94 2.06-2.06.94zm-11 1L8.5 8.5l.94-2.06 2.06-.94-2.06-.94L8.5 2.5l-.94 2.06-2.06.94zm10 10l.94 2.06.94-2.06 2.06-.94-2.06-.94-.94-2.06-.94 2.06-2.06.94z\"/><path d=\"M17.41 7.96l-1.37-1.37c-.4-.4-.92-.59-1.43-.59-.52 0-1.04.2-1.43.59L10.3 9.45l-7.72 7.72c-.78.78-.78 2.05 0 2.83L4 21.41c.39.39.9.59 1.41.59.51 0 1.02-.2 1.41-.59l7.78-7.78 2.81-2.81c.8-.78.8-2.07 0-2.86zM5.41 20L4 18.59l7.72-7.72 1.47 1.35L5.41 20z\"/>\n",
              "  </svg>\n",
              "      </button>\n",
              "      \n",
              "  <style>\n",
              "    .colab-df-container {\n",
              "      display:flex;\n",
              "      flex-wrap:wrap;\n",
              "      gap: 12px;\n",
              "    }\n",
              "\n",
              "    .colab-df-convert {\n",
              "      background-color: #E8F0FE;\n",
              "      border: none;\n",
              "      border-radius: 50%;\n",
              "      cursor: pointer;\n",
              "      display: none;\n",
              "      fill: #1967D2;\n",
              "      height: 32px;\n",
              "      padding: 0 0 0 0;\n",
              "      width: 32px;\n",
              "    }\n",
              "\n",
              "    .colab-df-convert:hover {\n",
              "      background-color: #E2EBFA;\n",
              "      box-shadow: 0px 1px 2px rgba(60, 64, 67, 0.3), 0px 1px 3px 1px rgba(60, 64, 67, 0.15);\n",
              "      fill: #174EA6;\n",
              "    }\n",
              "\n",
              "    [theme=dark] .colab-df-convert {\n",
              "      background-color: #3B4455;\n",
              "      fill: #D2E3FC;\n",
              "    }\n",
              "\n",
              "    [theme=dark] .colab-df-convert:hover {\n",
              "      background-color: #434B5C;\n",
              "      box-shadow: 0px 1px 3px 1px rgba(0, 0, 0, 0.15);\n",
              "      filter: drop-shadow(0px 1px 2px rgba(0, 0, 0, 0.3));\n",
              "      fill: #FFFFFF;\n",
              "    }\n",
              "  </style>\n",
              "\n",
              "      <script>\n",
              "        const buttonEl =\n",
              "          document.querySelector('#df-cedbf199-dfa7-42a8-9f9d-7929edb2ff47 button.colab-df-convert');\n",
              "        buttonEl.style.display =\n",
              "          google.colab.kernel.accessAllowed ? 'block' : 'none';\n",
              "\n",
              "        async function convertToInteractive(key) {\n",
              "          const element = document.querySelector('#df-cedbf199-dfa7-42a8-9f9d-7929edb2ff47');\n",
              "          const dataTable =\n",
              "            await google.colab.kernel.invokeFunction('convertToInteractive',\n",
              "                                                     [key], {});\n",
              "          if (!dataTable) return;\n",
              "\n",
              "          const docLinkHtml = 'Like what you see? Visit the ' +\n",
              "            '<a target=\"_blank\" href=https://colab.research.google.com/notebooks/data_table.ipynb>data table notebook</a>'\n",
              "            + ' to learn more about interactive tables.';\n",
              "          element.innerHTML = '';\n",
              "          dataTable['output_type'] = 'display_data';\n",
              "          await google.colab.output.renderOutput(dataTable, element);\n",
              "          const docLink = document.createElement('div');\n",
              "          docLink.innerHTML = docLinkHtml;\n",
              "          element.appendChild(docLink);\n",
              "        }\n",
              "      </script>\n",
              "    </div>\n",
              "  </div>\n",
              "  "
            ]
          },
          "metadata": {},
          "execution_count": 43
        }
      ]
    },
    {
      "cell_type": "code",
      "source": [
        "train.describe()"
      ],
      "metadata": {
        "colab": {
          "base_uri": "https://localhost:8080/",
          "height": 393
        },
        "id": "TzIC38foUMtD",
        "outputId": "f285d927-d450-45b4-d584-1f18e6fa3005"
      },
      "execution_count": 44,
      "outputs": [
        {
          "output_type": "execute_result",
          "data": {
            "text/plain": [
              "                  V1             V2             V3             V4  \\\n",
              "count  113842.000000  113842.000000  113842.000000  113842.000000   \n",
              "mean        0.000197       0.001289       0.009717      -0.004169   \n",
              "std         1.951060       1.651064       1.496916       1.412633   \n",
              "min       -56.407510     -72.715728     -32.454198      -5.600607   \n",
              "25%        -0.923479      -0.595602      -0.883877      -0.853728   \n",
              "50%         0.012074       0.066390       0.183868      -0.019359   \n",
              "75%         1.315373       0.801687       1.037120       0.742208   \n",
              "max         2.454930      21.467203       4.187811      16.491217   \n",
              "\n",
              "                  V5             V6             V7             V8  \\\n",
              "count  113842.000000  113842.000000  113842.000000  113842.000000   \n",
              "mean        0.000475       0.005141       0.005769      -0.002451   \n",
              "std         1.367533       1.330583       1.204111       1.185504   \n",
              "min       -42.147898     -26.160506     -41.506796     -50.943369   \n",
              "25%        -0.689853      -0.766094      -0.552071      -0.209492   \n",
              "50%        -0.054060      -0.272436       0.039036       0.020970   \n",
              "75%         0.614214       0.405285       0.568750       0.328303   \n",
              "max        34.801666      23.917837      44.054461      20.007208   \n",
              "\n",
              "                  V9            V10  ...            V21           V22  \\\n",
              "count  113842.000000  113842.000000  ...  113842.000000  1.138420e+05   \n",
              "mean       -0.002107       0.005209  ...      -0.001242  4.088347e-07   \n",
              "std         1.095415       1.071337  ...       0.722001  7.238291e-01   \n",
              "min       -13.434066     -24.403185  ...     -22.757540 -8.887017e+00   \n",
              "25%        -0.647477      -0.533477  ...      -0.229710 -5.402665e-01   \n",
              "50%        -0.052157      -0.090810  ...      -0.030281  8.345807e-03   \n",
              "75%         0.590705       0.455287  ...       0.186001  5.287508e-01   \n",
              "max        10.392889      15.331742  ...      27.202839  8.361985e+00   \n",
              "\n",
              "                 V23            V24            V25            V26  \\\n",
              "count  113842.000000  113842.000000  113842.000000  113842.000000   \n",
              "mean       -0.001317      -0.000884       0.001680      -0.000293   \n",
              "std         0.636061       0.605854       0.520069       0.480979   \n",
              "min       -44.807735      -2.824849     -10.295397      -1.855355   \n",
              "25%        -0.162180      -0.355582      -0.315470      -0.326160   \n",
              "50%        -0.012261       0.040573       0.018278      -0.052815   \n",
              "75%         0.147474       0.438225       0.353989       0.240838   \n",
              "max        22.528412       4.022866       7.519589       3.119295   \n",
              "\n",
              "                 V27            V28            V29            V30  \n",
              "count  113842.000000  113842.000000  113842.000000  113842.000000  \n",
              "mean       -0.000234      -0.000508       0.927253       0.116232  \n",
              "std         0.399505       0.356130       3.412933       0.558161  \n",
              "min        -9.895244      -9.617915      -0.307413      -0.994972  \n",
              "25%        -0.070847      -0.053249      -0.230560      -0.360304  \n",
              "50%         0.001502       0.011158      -0.000699      -0.002590  \n",
              "75%         0.091279       0.077851       0.768532       0.640653  \n",
              "max        11.135740      33.847808     180.101027       1.034951  \n",
              "\n",
              "[8 rows x 30 columns]"
            ],
            "text/html": [
              "\n",
              "  <div id=\"df-99fe8a07-6513-4e71-be5c-dc72ee46b777\">\n",
              "    <div class=\"colab-df-container\">\n",
              "      <div>\n",
              "<style scoped>\n",
              "    .dataframe tbody tr th:only-of-type {\n",
              "        vertical-align: middle;\n",
              "    }\n",
              "\n",
              "    .dataframe tbody tr th {\n",
              "        vertical-align: top;\n",
              "    }\n",
              "\n",
              "    .dataframe thead th {\n",
              "        text-align: right;\n",
              "    }\n",
              "</style>\n",
              "<table border=\"1\" class=\"dataframe\">\n",
              "  <thead>\n",
              "    <tr style=\"text-align: right;\">\n",
              "      <th></th>\n",
              "      <th>V1</th>\n",
              "      <th>V2</th>\n",
              "      <th>V3</th>\n",
              "      <th>V4</th>\n",
              "      <th>V5</th>\n",
              "      <th>V6</th>\n",
              "      <th>V7</th>\n",
              "      <th>V8</th>\n",
              "      <th>V9</th>\n",
              "      <th>V10</th>\n",
              "      <th>...</th>\n",
              "      <th>V21</th>\n",
              "      <th>V22</th>\n",
              "      <th>V23</th>\n",
              "      <th>V24</th>\n",
              "      <th>V25</th>\n",
              "      <th>V26</th>\n",
              "      <th>V27</th>\n",
              "      <th>V28</th>\n",
              "      <th>V29</th>\n",
              "      <th>V30</th>\n",
              "    </tr>\n",
              "  </thead>\n",
              "  <tbody>\n",
              "    <tr>\n",
              "      <th>count</th>\n",
              "      <td>113842.000000</td>\n",
              "      <td>113842.000000</td>\n",
              "      <td>113842.000000</td>\n",
              "      <td>113842.000000</td>\n",
              "      <td>113842.000000</td>\n",
              "      <td>113842.000000</td>\n",
              "      <td>113842.000000</td>\n",
              "      <td>113842.000000</td>\n",
              "      <td>113842.000000</td>\n",
              "      <td>113842.000000</td>\n",
              "      <td>...</td>\n",
              "      <td>113842.000000</td>\n",
              "      <td>1.138420e+05</td>\n",
              "      <td>113842.000000</td>\n",
              "      <td>113842.000000</td>\n",
              "      <td>113842.000000</td>\n",
              "      <td>113842.000000</td>\n",
              "      <td>113842.000000</td>\n",
              "      <td>113842.000000</td>\n",
              "      <td>113842.000000</td>\n",
              "      <td>113842.000000</td>\n",
              "    </tr>\n",
              "    <tr>\n",
              "      <th>mean</th>\n",
              "      <td>0.000197</td>\n",
              "      <td>0.001289</td>\n",
              "      <td>0.009717</td>\n",
              "      <td>-0.004169</td>\n",
              "      <td>0.000475</td>\n",
              "      <td>0.005141</td>\n",
              "      <td>0.005769</td>\n",
              "      <td>-0.002451</td>\n",
              "      <td>-0.002107</td>\n",
              "      <td>0.005209</td>\n",
              "      <td>...</td>\n",
              "      <td>-0.001242</td>\n",
              "      <td>4.088347e-07</td>\n",
              "      <td>-0.001317</td>\n",
              "      <td>-0.000884</td>\n",
              "      <td>0.001680</td>\n",
              "      <td>-0.000293</td>\n",
              "      <td>-0.000234</td>\n",
              "      <td>-0.000508</td>\n",
              "      <td>0.927253</td>\n",
              "      <td>0.116232</td>\n",
              "    </tr>\n",
              "    <tr>\n",
              "      <th>std</th>\n",
              "      <td>1.951060</td>\n",
              "      <td>1.651064</td>\n",
              "      <td>1.496916</td>\n",
              "      <td>1.412633</td>\n",
              "      <td>1.367533</td>\n",
              "      <td>1.330583</td>\n",
              "      <td>1.204111</td>\n",
              "      <td>1.185504</td>\n",
              "      <td>1.095415</td>\n",
              "      <td>1.071337</td>\n",
              "      <td>...</td>\n",
              "      <td>0.722001</td>\n",
              "      <td>7.238291e-01</td>\n",
              "      <td>0.636061</td>\n",
              "      <td>0.605854</td>\n",
              "      <td>0.520069</td>\n",
              "      <td>0.480979</td>\n",
              "      <td>0.399505</td>\n",
              "      <td>0.356130</td>\n",
              "      <td>3.412933</td>\n",
              "      <td>0.558161</td>\n",
              "    </tr>\n",
              "    <tr>\n",
              "      <th>min</th>\n",
              "      <td>-56.407510</td>\n",
              "      <td>-72.715728</td>\n",
              "      <td>-32.454198</td>\n",
              "      <td>-5.600607</td>\n",
              "      <td>-42.147898</td>\n",
              "      <td>-26.160506</td>\n",
              "      <td>-41.506796</td>\n",
              "      <td>-50.943369</td>\n",
              "      <td>-13.434066</td>\n",
              "      <td>-24.403185</td>\n",
              "      <td>...</td>\n",
              "      <td>-22.757540</td>\n",
              "      <td>-8.887017e+00</td>\n",
              "      <td>-44.807735</td>\n",
              "      <td>-2.824849</td>\n",
              "      <td>-10.295397</td>\n",
              "      <td>-1.855355</td>\n",
              "      <td>-9.895244</td>\n",
              "      <td>-9.617915</td>\n",
              "      <td>-0.307413</td>\n",
              "      <td>-0.994972</td>\n",
              "    </tr>\n",
              "    <tr>\n",
              "      <th>25%</th>\n",
              "      <td>-0.923479</td>\n",
              "      <td>-0.595602</td>\n",
              "      <td>-0.883877</td>\n",
              "      <td>-0.853728</td>\n",
              "      <td>-0.689853</td>\n",
              "      <td>-0.766094</td>\n",
              "      <td>-0.552071</td>\n",
              "      <td>-0.209492</td>\n",
              "      <td>-0.647477</td>\n",
              "      <td>-0.533477</td>\n",
              "      <td>...</td>\n",
              "      <td>-0.229710</td>\n",
              "      <td>-5.402665e-01</td>\n",
              "      <td>-0.162180</td>\n",
              "      <td>-0.355582</td>\n",
              "      <td>-0.315470</td>\n",
              "      <td>-0.326160</td>\n",
              "      <td>-0.070847</td>\n",
              "      <td>-0.053249</td>\n",
              "      <td>-0.230560</td>\n",
              "      <td>-0.360304</td>\n",
              "    </tr>\n",
              "    <tr>\n",
              "      <th>50%</th>\n",
              "      <td>0.012074</td>\n",
              "      <td>0.066390</td>\n",
              "      <td>0.183868</td>\n",
              "      <td>-0.019359</td>\n",
              "      <td>-0.054060</td>\n",
              "      <td>-0.272436</td>\n",
              "      <td>0.039036</td>\n",
              "      <td>0.020970</td>\n",
              "      <td>-0.052157</td>\n",
              "      <td>-0.090810</td>\n",
              "      <td>...</td>\n",
              "      <td>-0.030281</td>\n",
              "      <td>8.345807e-03</td>\n",
              "      <td>-0.012261</td>\n",
              "      <td>0.040573</td>\n",
              "      <td>0.018278</td>\n",
              "      <td>-0.052815</td>\n",
              "      <td>0.001502</td>\n",
              "      <td>0.011158</td>\n",
              "      <td>-0.000699</td>\n",
              "      <td>-0.002590</td>\n",
              "    </tr>\n",
              "    <tr>\n",
              "      <th>75%</th>\n",
              "      <td>1.315373</td>\n",
              "      <td>0.801687</td>\n",
              "      <td>1.037120</td>\n",
              "      <td>0.742208</td>\n",
              "      <td>0.614214</td>\n",
              "      <td>0.405285</td>\n",
              "      <td>0.568750</td>\n",
              "      <td>0.328303</td>\n",
              "      <td>0.590705</td>\n",
              "      <td>0.455287</td>\n",
              "      <td>...</td>\n",
              "      <td>0.186001</td>\n",
              "      <td>5.287508e-01</td>\n",
              "      <td>0.147474</td>\n",
              "      <td>0.438225</td>\n",
              "      <td>0.353989</td>\n",
              "      <td>0.240838</td>\n",
              "      <td>0.091279</td>\n",
              "      <td>0.077851</td>\n",
              "      <td>0.768532</td>\n",
              "      <td>0.640653</td>\n",
              "    </tr>\n",
              "    <tr>\n",
              "      <th>max</th>\n",
              "      <td>2.454930</td>\n",
              "      <td>21.467203</td>\n",
              "      <td>4.187811</td>\n",
              "      <td>16.491217</td>\n",
              "      <td>34.801666</td>\n",
              "      <td>23.917837</td>\n",
              "      <td>44.054461</td>\n",
              "      <td>20.007208</td>\n",
              "      <td>10.392889</td>\n",
              "      <td>15.331742</td>\n",
              "      <td>...</td>\n",
              "      <td>27.202839</td>\n",
              "      <td>8.361985e+00</td>\n",
              "      <td>22.528412</td>\n",
              "      <td>4.022866</td>\n",
              "      <td>7.519589</td>\n",
              "      <td>3.119295</td>\n",
              "      <td>11.135740</td>\n",
              "      <td>33.847808</td>\n",
              "      <td>180.101027</td>\n",
              "      <td>1.034951</td>\n",
              "    </tr>\n",
              "  </tbody>\n",
              "</table>\n",
              "<p>8 rows × 30 columns</p>\n",
              "</div>\n",
              "      <button class=\"colab-df-convert\" onclick=\"convertToInteractive('df-99fe8a07-6513-4e71-be5c-dc72ee46b777')\"\n",
              "              title=\"Convert this dataframe to an interactive table.\"\n",
              "              style=\"display:none;\">\n",
              "        \n",
              "  <svg xmlns=\"http://www.w3.org/2000/svg\" height=\"24px\"viewBox=\"0 0 24 24\"\n",
              "       width=\"24px\">\n",
              "    <path d=\"M0 0h24v24H0V0z\" fill=\"none\"/>\n",
              "    <path d=\"M18.56 5.44l.94 2.06.94-2.06 2.06-.94-2.06-.94-.94-2.06-.94 2.06-2.06.94zm-11 1L8.5 8.5l.94-2.06 2.06-.94-2.06-.94L8.5 2.5l-.94 2.06-2.06.94zm10 10l.94 2.06.94-2.06 2.06-.94-2.06-.94-.94-2.06-.94 2.06-2.06.94z\"/><path d=\"M17.41 7.96l-1.37-1.37c-.4-.4-.92-.59-1.43-.59-.52 0-1.04.2-1.43.59L10.3 9.45l-7.72 7.72c-.78.78-.78 2.05 0 2.83L4 21.41c.39.39.9.59 1.41.59.51 0 1.02-.2 1.41-.59l7.78-7.78 2.81-2.81c.8-.78.8-2.07 0-2.86zM5.41 20L4 18.59l7.72-7.72 1.47 1.35L5.41 20z\"/>\n",
              "  </svg>\n",
              "      </button>\n",
              "      \n",
              "  <style>\n",
              "    .colab-df-container {\n",
              "      display:flex;\n",
              "      flex-wrap:wrap;\n",
              "      gap: 12px;\n",
              "    }\n",
              "\n",
              "    .colab-df-convert {\n",
              "      background-color: #E8F0FE;\n",
              "      border: none;\n",
              "      border-radius: 50%;\n",
              "      cursor: pointer;\n",
              "      display: none;\n",
              "      fill: #1967D2;\n",
              "      height: 32px;\n",
              "      padding: 0 0 0 0;\n",
              "      width: 32px;\n",
              "    }\n",
              "\n",
              "    .colab-df-convert:hover {\n",
              "      background-color: #E2EBFA;\n",
              "      box-shadow: 0px 1px 2px rgba(60, 64, 67, 0.3), 0px 1px 3px 1px rgba(60, 64, 67, 0.15);\n",
              "      fill: #174EA6;\n",
              "    }\n",
              "\n",
              "    [theme=dark] .colab-df-convert {\n",
              "      background-color: #3B4455;\n",
              "      fill: #D2E3FC;\n",
              "    }\n",
              "\n",
              "    [theme=dark] .colab-df-convert:hover {\n",
              "      background-color: #434B5C;\n",
              "      box-shadow: 0px 1px 3px 1px rgba(0, 0, 0, 0.15);\n",
              "      filter: drop-shadow(0px 1px 2px rgba(0, 0, 0, 0.3));\n",
              "      fill: #FFFFFF;\n",
              "    }\n",
              "  </style>\n",
              "\n",
              "      <script>\n",
              "        const buttonEl =\n",
              "          document.querySelector('#df-99fe8a07-6513-4e71-be5c-dc72ee46b777 button.colab-df-convert');\n",
              "        buttonEl.style.display =\n",
              "          google.colab.kernel.accessAllowed ? 'block' : 'none';\n",
              "\n",
              "        async function convertToInteractive(key) {\n",
              "          const element = document.querySelector('#df-99fe8a07-6513-4e71-be5c-dc72ee46b777');\n",
              "          const dataTable =\n",
              "            await google.colab.kernel.invokeFunction('convertToInteractive',\n",
              "                                                     [key], {});\n",
              "          if (!dataTable) return;\n",
              "\n",
              "          const docLinkHtml = 'Like what you see? Visit the ' +\n",
              "            '<a target=\"_blank\" href=https://colab.research.google.com/notebooks/data_table.ipynb>data table notebook</a>'\n",
              "            + ' to learn more about interactive tables.';\n",
              "          element.innerHTML = '';\n",
              "          dataTable['output_type'] = 'display_data';\n",
              "          await google.colab.output.renderOutput(dataTable, element);\n",
              "          const docLink = document.createElement('div');\n",
              "          docLink.innerHTML = docLinkHtml;\n",
              "          element.appendChild(docLink);\n",
              "        }\n",
              "      </script>\n",
              "    </div>\n",
              "  </div>\n",
              "  "
            ]
          },
          "metadata": {},
          "execution_count": 44
        }
      ]
    },
    {
      "cell_type": "code",
      "source": [
        "isf4 = IsolationForest(contamination=0.0011, random_state=0).fit(scaler2.transform(train))"
      ],
      "metadata": {
        "id": "6uX7NSpITuec"
      },
      "execution_count": 45,
      "outputs": []
    },
    {
      "cell_type": "code",
      "source": [
        "pd.DataFrame(scaler2.transform(train)).describe()"
      ],
      "metadata": {
        "colab": {
          "base_uri": "https://localhost:8080/",
          "height": 393
        },
        "id": "2DiY--e3a5mH",
        "outputId": "3df67fdf-3186-4b5c-9747-323e36165e7f"
      },
      "execution_count": 55,
      "outputs": [
        {
          "output_type": "execute_result",
          "data": {
            "text/plain": [
              "                  0              1              2              3   \\\n",
              "count  113842.000000  113842.000000  113842.000000  113842.000000   \n",
              "mean        0.958297       0.772083       0.885975       0.253326   \n",
              "std         0.033146       0.017530       0.040852       0.063944   \n",
              "min         0.000000       0.000000       0.000000       0.000000   \n",
              "25%         0.942605       0.765745       0.861588       0.214870   \n",
              "50%         0.958499       0.772774       0.890728       0.252639   \n",
              "75%         0.980640       0.780581       0.914014       0.287111   \n",
              "max         1.000000       1.000000       1.000000       1.000000   \n",
              "\n",
              "                  4              5              6              7   \\\n",
              "count  113842.000000  113842.000000  113842.000000  113842.000000   \n",
              "mean        0.547740       0.522494       0.485179       0.717978   \n",
              "std         0.017772       0.026570       0.014073       0.016709   \n",
              "min         0.000000       0.000000       0.000000       0.000000   \n",
              "25%         0.538769       0.507094       0.478660       0.715059   \n",
              "50%         0.547032       0.516951       0.485568       0.718308   \n",
              "75%         0.555716       0.530485       0.491759       0.722639   \n",
              "max         1.000000       1.000000       1.000000       1.000000   \n",
              "\n",
              "                  8              9   ...             20             21  \\\n",
              "count  113842.000000  113842.000000  ...  113842.000000  113842.000000   \n",
              "mean        0.563730       0.614281  ...       0.455487       0.515219   \n",
              "std         0.045974       0.026962  ...       0.014451       0.041964   \n",
              "min         0.000000       0.000000  ...       0.000000       0.000000   \n",
              "25%         0.536644       0.600724  ...       0.450914       0.483898   \n",
              "50%         0.561629       0.611864  ...       0.454906       0.515703   \n",
              "75%         0.588609       0.625608  ...       0.459235       0.545873   \n",
              "max         1.000000       1.000000  ...       1.000000       1.000000   \n",
              "\n",
              "                  22             23             24             25  \\\n",
              "count  113842.000000  113842.000000  113842.000000  113842.000000   \n",
              "mean        0.665414       0.412395       0.578001       0.372903   \n",
              "std         0.009446       0.088475       0.029193       0.096686   \n",
              "min         0.000000       0.000000       0.000000       0.000000   \n",
              "25%         0.663025       0.360597       0.560198       0.307398   \n",
              "50%         0.665252       0.418449       0.578933       0.362345   \n",
              "75%         0.667624       0.476520       0.597777       0.421375   \n",
              "max         1.000000       1.000000       1.000000       1.000000   \n",
              "\n",
              "                  26             27             28             29  \n",
              "count  113842.000000  113842.000000  113842.000000  113842.000000  \n",
              "mean        0.470497       0.221264       0.006844       0.547412  \n",
              "std         0.018996       0.008193       0.018918       0.274967  \n",
              "min         0.000000       0.000000       0.000000       0.000000  \n",
              "25%         0.467139       0.220051       0.000426       0.312656  \n",
              "50%         0.470579       0.221533       0.001700       0.488876  \n",
              "75%         0.474848       0.223067       0.005964       0.805757  \n",
              "max         1.000000       1.000000       1.000000       1.000000  \n",
              "\n",
              "[8 rows x 30 columns]"
            ],
            "text/html": [
              "\n",
              "  <div id=\"df-21be2dbe-85c2-4a71-9c32-1945016dd9eb\">\n",
              "    <div class=\"colab-df-container\">\n",
              "      <div>\n",
              "<style scoped>\n",
              "    .dataframe tbody tr th:only-of-type {\n",
              "        vertical-align: middle;\n",
              "    }\n",
              "\n",
              "    .dataframe tbody tr th {\n",
              "        vertical-align: top;\n",
              "    }\n",
              "\n",
              "    .dataframe thead th {\n",
              "        text-align: right;\n",
              "    }\n",
              "</style>\n",
              "<table border=\"1\" class=\"dataframe\">\n",
              "  <thead>\n",
              "    <tr style=\"text-align: right;\">\n",
              "      <th></th>\n",
              "      <th>0</th>\n",
              "      <th>1</th>\n",
              "      <th>2</th>\n",
              "      <th>3</th>\n",
              "      <th>4</th>\n",
              "      <th>5</th>\n",
              "      <th>6</th>\n",
              "      <th>7</th>\n",
              "      <th>8</th>\n",
              "      <th>9</th>\n",
              "      <th>...</th>\n",
              "      <th>20</th>\n",
              "      <th>21</th>\n",
              "      <th>22</th>\n",
              "      <th>23</th>\n",
              "      <th>24</th>\n",
              "      <th>25</th>\n",
              "      <th>26</th>\n",
              "      <th>27</th>\n",
              "      <th>28</th>\n",
              "      <th>29</th>\n",
              "    </tr>\n",
              "  </thead>\n",
              "  <tbody>\n",
              "    <tr>\n",
              "      <th>count</th>\n",
              "      <td>113842.000000</td>\n",
              "      <td>113842.000000</td>\n",
              "      <td>113842.000000</td>\n",
              "      <td>113842.000000</td>\n",
              "      <td>113842.000000</td>\n",
              "      <td>113842.000000</td>\n",
              "      <td>113842.000000</td>\n",
              "      <td>113842.000000</td>\n",
              "      <td>113842.000000</td>\n",
              "      <td>113842.000000</td>\n",
              "      <td>...</td>\n",
              "      <td>113842.000000</td>\n",
              "      <td>113842.000000</td>\n",
              "      <td>113842.000000</td>\n",
              "      <td>113842.000000</td>\n",
              "      <td>113842.000000</td>\n",
              "      <td>113842.000000</td>\n",
              "      <td>113842.000000</td>\n",
              "      <td>113842.000000</td>\n",
              "      <td>113842.000000</td>\n",
              "      <td>113842.000000</td>\n",
              "    </tr>\n",
              "    <tr>\n",
              "      <th>mean</th>\n",
              "      <td>0.958297</td>\n",
              "      <td>0.772083</td>\n",
              "      <td>0.885975</td>\n",
              "      <td>0.253326</td>\n",
              "      <td>0.547740</td>\n",
              "      <td>0.522494</td>\n",
              "      <td>0.485179</td>\n",
              "      <td>0.717978</td>\n",
              "      <td>0.563730</td>\n",
              "      <td>0.614281</td>\n",
              "      <td>...</td>\n",
              "      <td>0.455487</td>\n",
              "      <td>0.515219</td>\n",
              "      <td>0.665414</td>\n",
              "      <td>0.412395</td>\n",
              "      <td>0.578001</td>\n",
              "      <td>0.372903</td>\n",
              "      <td>0.470497</td>\n",
              "      <td>0.221264</td>\n",
              "      <td>0.006844</td>\n",
              "      <td>0.547412</td>\n",
              "    </tr>\n",
              "    <tr>\n",
              "      <th>std</th>\n",
              "      <td>0.033146</td>\n",
              "      <td>0.017530</td>\n",
              "      <td>0.040852</td>\n",
              "      <td>0.063944</td>\n",
              "      <td>0.017772</td>\n",
              "      <td>0.026570</td>\n",
              "      <td>0.014073</td>\n",
              "      <td>0.016709</td>\n",
              "      <td>0.045974</td>\n",
              "      <td>0.026962</td>\n",
              "      <td>...</td>\n",
              "      <td>0.014451</td>\n",
              "      <td>0.041964</td>\n",
              "      <td>0.009446</td>\n",
              "      <td>0.088475</td>\n",
              "      <td>0.029193</td>\n",
              "      <td>0.096686</td>\n",
              "      <td>0.018996</td>\n",
              "      <td>0.008193</td>\n",
              "      <td>0.018918</td>\n",
              "      <td>0.274967</td>\n",
              "    </tr>\n",
              "    <tr>\n",
              "      <th>min</th>\n",
              "      <td>0.000000</td>\n",
              "      <td>0.000000</td>\n",
              "      <td>0.000000</td>\n",
              "      <td>0.000000</td>\n",
              "      <td>0.000000</td>\n",
              "      <td>0.000000</td>\n",
              "      <td>0.000000</td>\n",
              "      <td>0.000000</td>\n",
              "      <td>0.000000</td>\n",
              "      <td>0.000000</td>\n",
              "      <td>...</td>\n",
              "      <td>0.000000</td>\n",
              "      <td>0.000000</td>\n",
              "      <td>0.000000</td>\n",
              "      <td>0.000000</td>\n",
              "      <td>0.000000</td>\n",
              "      <td>0.000000</td>\n",
              "      <td>0.000000</td>\n",
              "      <td>0.000000</td>\n",
              "      <td>0.000000</td>\n",
              "      <td>0.000000</td>\n",
              "    </tr>\n",
              "    <tr>\n",
              "      <th>25%</th>\n",
              "      <td>0.942605</td>\n",
              "      <td>0.765745</td>\n",
              "      <td>0.861588</td>\n",
              "      <td>0.214870</td>\n",
              "      <td>0.538769</td>\n",
              "      <td>0.507094</td>\n",
              "      <td>0.478660</td>\n",
              "      <td>0.715059</td>\n",
              "      <td>0.536644</td>\n",
              "      <td>0.600724</td>\n",
              "      <td>...</td>\n",
              "      <td>0.450914</td>\n",
              "      <td>0.483898</td>\n",
              "      <td>0.663025</td>\n",
              "      <td>0.360597</td>\n",
              "      <td>0.560198</td>\n",
              "      <td>0.307398</td>\n",
              "      <td>0.467139</td>\n",
              "      <td>0.220051</td>\n",
              "      <td>0.000426</td>\n",
              "      <td>0.312656</td>\n",
              "    </tr>\n",
              "    <tr>\n",
              "      <th>50%</th>\n",
              "      <td>0.958499</td>\n",
              "      <td>0.772774</td>\n",
              "      <td>0.890728</td>\n",
              "      <td>0.252639</td>\n",
              "      <td>0.547032</td>\n",
              "      <td>0.516951</td>\n",
              "      <td>0.485568</td>\n",
              "      <td>0.718308</td>\n",
              "      <td>0.561629</td>\n",
              "      <td>0.611864</td>\n",
              "      <td>...</td>\n",
              "      <td>0.454906</td>\n",
              "      <td>0.515703</td>\n",
              "      <td>0.665252</td>\n",
              "      <td>0.418449</td>\n",
              "      <td>0.578933</td>\n",
              "      <td>0.362345</td>\n",
              "      <td>0.470579</td>\n",
              "      <td>0.221533</td>\n",
              "      <td>0.001700</td>\n",
              "      <td>0.488876</td>\n",
              "    </tr>\n",
              "    <tr>\n",
              "      <th>75%</th>\n",
              "      <td>0.980640</td>\n",
              "      <td>0.780581</td>\n",
              "      <td>0.914014</td>\n",
              "      <td>0.287111</td>\n",
              "      <td>0.555716</td>\n",
              "      <td>0.530485</td>\n",
              "      <td>0.491759</td>\n",
              "      <td>0.722639</td>\n",
              "      <td>0.588609</td>\n",
              "      <td>0.625608</td>\n",
              "      <td>...</td>\n",
              "      <td>0.459235</td>\n",
              "      <td>0.545873</td>\n",
              "      <td>0.667624</td>\n",
              "      <td>0.476520</td>\n",
              "      <td>0.597777</td>\n",
              "      <td>0.421375</td>\n",
              "      <td>0.474848</td>\n",
              "      <td>0.223067</td>\n",
              "      <td>0.005964</td>\n",
              "      <td>0.805757</td>\n",
              "    </tr>\n",
              "    <tr>\n",
              "      <th>max</th>\n",
              "      <td>1.000000</td>\n",
              "      <td>1.000000</td>\n",
              "      <td>1.000000</td>\n",
              "      <td>1.000000</td>\n",
              "      <td>1.000000</td>\n",
              "      <td>1.000000</td>\n",
              "      <td>1.000000</td>\n",
              "      <td>1.000000</td>\n",
              "      <td>1.000000</td>\n",
              "      <td>1.000000</td>\n",
              "      <td>...</td>\n",
              "      <td>1.000000</td>\n",
              "      <td>1.000000</td>\n",
              "      <td>1.000000</td>\n",
              "      <td>1.000000</td>\n",
              "      <td>1.000000</td>\n",
              "      <td>1.000000</td>\n",
              "      <td>1.000000</td>\n",
              "      <td>1.000000</td>\n",
              "      <td>1.000000</td>\n",
              "      <td>1.000000</td>\n",
              "    </tr>\n",
              "  </tbody>\n",
              "</table>\n",
              "<p>8 rows × 30 columns</p>\n",
              "</div>\n",
              "      <button class=\"colab-df-convert\" onclick=\"convertToInteractive('df-21be2dbe-85c2-4a71-9c32-1945016dd9eb')\"\n",
              "              title=\"Convert this dataframe to an interactive table.\"\n",
              "              style=\"display:none;\">\n",
              "        \n",
              "  <svg xmlns=\"http://www.w3.org/2000/svg\" height=\"24px\"viewBox=\"0 0 24 24\"\n",
              "       width=\"24px\">\n",
              "    <path d=\"M0 0h24v24H0V0z\" fill=\"none\"/>\n",
              "    <path d=\"M18.56 5.44l.94 2.06.94-2.06 2.06-.94-2.06-.94-.94-2.06-.94 2.06-2.06.94zm-11 1L8.5 8.5l.94-2.06 2.06-.94-2.06-.94L8.5 2.5l-.94 2.06-2.06.94zm10 10l.94 2.06.94-2.06 2.06-.94-2.06-.94-.94-2.06-.94 2.06-2.06.94z\"/><path d=\"M17.41 7.96l-1.37-1.37c-.4-.4-.92-.59-1.43-.59-.52 0-1.04.2-1.43.59L10.3 9.45l-7.72 7.72c-.78.78-.78 2.05 0 2.83L4 21.41c.39.39.9.59 1.41.59.51 0 1.02-.2 1.41-.59l7.78-7.78 2.81-2.81c.8-.78.8-2.07 0-2.86zM5.41 20L4 18.59l7.72-7.72 1.47 1.35L5.41 20z\"/>\n",
              "  </svg>\n",
              "      </button>\n",
              "      \n",
              "  <style>\n",
              "    .colab-df-container {\n",
              "      display:flex;\n",
              "      flex-wrap:wrap;\n",
              "      gap: 12px;\n",
              "    }\n",
              "\n",
              "    .colab-df-convert {\n",
              "      background-color: #E8F0FE;\n",
              "      border: none;\n",
              "      border-radius: 50%;\n",
              "      cursor: pointer;\n",
              "      display: none;\n",
              "      fill: #1967D2;\n",
              "      height: 32px;\n",
              "      padding: 0 0 0 0;\n",
              "      width: 32px;\n",
              "    }\n",
              "\n",
              "    .colab-df-convert:hover {\n",
              "      background-color: #E2EBFA;\n",
              "      box-shadow: 0px 1px 2px rgba(60, 64, 67, 0.3), 0px 1px 3px 1px rgba(60, 64, 67, 0.15);\n",
              "      fill: #174EA6;\n",
              "    }\n",
              "\n",
              "    [theme=dark] .colab-df-convert {\n",
              "      background-color: #3B4455;\n",
              "      fill: #D2E3FC;\n",
              "    }\n",
              "\n",
              "    [theme=dark] .colab-df-convert:hover {\n",
              "      background-color: #434B5C;\n",
              "      box-shadow: 0px 1px 3px 1px rgba(0, 0, 0, 0.15);\n",
              "      filter: drop-shadow(0px 1px 2px rgba(0, 0, 0, 0.3));\n",
              "      fill: #FFFFFF;\n",
              "    }\n",
              "  </style>\n",
              "\n",
              "      <script>\n",
              "        const buttonEl =\n",
              "          document.querySelector('#df-21be2dbe-85c2-4a71-9c32-1945016dd9eb button.colab-df-convert');\n",
              "        buttonEl.style.display =\n",
              "          google.colab.kernel.accessAllowed ? 'block' : 'none';\n",
              "\n",
              "        async function convertToInteractive(key) {\n",
              "          const element = document.querySelector('#df-21be2dbe-85c2-4a71-9c32-1945016dd9eb');\n",
              "          const dataTable =\n",
              "            await google.colab.kernel.invokeFunction('convertToInteractive',\n",
              "                                                     [key], {});\n",
              "          if (!dataTable) return;\n",
              "\n",
              "          const docLinkHtml = 'Like what you see? Visit the ' +\n",
              "            '<a target=\"_blank\" href=https://colab.research.google.com/notebooks/data_table.ipynb>data table notebook</a>'\n",
              "            + ' to learn more about interactive tables.';\n",
              "          element.innerHTML = '';\n",
              "          dataTable['output_type'] = 'display_data';\n",
              "          await google.colab.output.renderOutput(dataTable, element);\n",
              "          const docLink = document.createElement('div');\n",
              "          docLink.innerHTML = docLinkHtml;\n",
              "          element.appendChild(docLink);\n",
              "        }\n",
              "      </script>\n",
              "    </div>\n",
              "  </div>\n",
              "  "
            ]
          },
          "metadata": {},
          "execution_count": 55
        }
      ]
    },
    {
      "cell_type": "code",
      "source": [
        "result4 = isf4.predict(scaler2.transform(val))"
      ],
      "metadata": {
        "id": "lBdiTqR3Tuej"
      },
      "execution_count": 53,
      "outputs": []
    },
    {
      "cell_type": "code",
      "source": [
        "f1_score(val_class, np.where(result4==1, 0, 1), average='macro')"
      ],
      "metadata": {
        "colab": {
          "base_uri": "https://localhost:8080/"
        },
        "outputId": "59878187-27cd-492c-c268-59243451bb88",
        "id": "tAdwHU7sTuek"
      },
      "execution_count": 54,
      "outputs": [
        {
          "output_type": "execute_result",
          "data": {
            "text/plain": [
              "0.7140043609762959"
            ]
          },
          "metadata": {},
          "execution_count": 54
        }
      ]
    },
    {
      "cell_type": "code",
      "source": [
        "plt.scatter(val['V3'], val['V7'], c=np.where(result4==1, 0, 1))\n",
        "plt.show()"
      ],
      "metadata": {
        "colab": {
          "base_uri": "https://localhost:8080/",
          "height": 265
        },
        "outputId": "46bbc957-831f-420e-93b6-54e2a9f307aa",
        "id": "s2jvor2jTuek"
      },
      "execution_count": 56,
      "outputs": [
        {
          "output_type": "display_data",
          "data": {
            "text/plain": [
              "<Figure size 432x288 with 1 Axes>"
            ],
            "image/png": "[encoded data removed]"
          },
          "metadata": {
            "needs_background": "light"
          }
        }
      ]
    },
    {
      "cell_type": "code",
      "source": [
        "isf5 = IsolationForest(contamination=0.0011, random_state=0).fit(scaler3.transform(train))"
      ],
      "metadata": {
        "id": "PP6AX2aobY0q"
      },
      "execution_count": 57,
      "outputs": []
    },
    {
      "cell_type": "code",
      "source": [
        "pd.DataFrame(scaler3.transform(train)).describe()"
      ],
      "metadata": {
        "colab": {
          "base_uri": "https://localhost:8080/",
          "height": 393
        },
        "outputId": "3bdda444-9b81-4c04-bbc1-0261ea0d0599",
        "id": "vM_BEMnObY0z"
      },
      "execution_count": 58,
      "outputs": [
        {
          "output_type": "execute_result",
          "data": {
            "text/plain": [
              "                  0              1              2              3   \\\n",
              "count  113842.000000  113842.000000  113842.000000  113842.000000   \n",
              "mean        0.000003       0.000018       0.000299      -0.000253   \n",
              "std         0.034589       0.022706       0.046124       0.085660   \n",
              "min        -1.000000      -1.000000      -1.000000      -0.339612   \n",
              "25%        -0.016372      -0.008191      -0.027235      -0.051769   \n",
              "50%         0.000214       0.000913       0.005665      -0.001174   \n",
              "75%         0.023319       0.011025       0.031956       0.045006   \n",
              "max         0.043521       0.295221       0.129038       1.000000   \n",
              "\n",
              "                  4              5              6              7   \\\n",
              "count  113842.000000  113842.000000  113842.000000  113842.000000   \n",
              "mean        0.000011       0.000197       0.000131      -0.000048   \n",
              "std         0.032446       0.050862       0.027332       0.023271   \n",
              "min        -1.000000      -1.000000      -0.942170      -1.000000   \n",
              "25%        -0.016367      -0.029284      -0.012532      -0.004112   \n",
              "50%        -0.001283      -0.010414       0.000886       0.000412   \n",
              "75%         0.014573       0.015492       0.012910       0.006444   \n",
              "max         0.825703       0.914273       1.000000       0.392734   \n",
              "\n",
              "                  8              9   ...             20            21  \\\n",
              "count  113842.000000  113842.000000  ...  113842.000000  1.138420e+05   \n",
              "mean       -0.000157       0.000213  ...      -0.000046  4.600359e-08   \n",
              "std         0.081540       0.043902  ...       0.026541  8.144792e-02   \n",
              "min        -1.000000      -1.000000  ...      -0.836587 -1.000000e+00   \n",
              "25%        -0.048197      -0.021861  ...      -0.008444 -6.079278e-02   \n",
              "50%        -0.003882      -0.003721  ...      -0.001113  9.391010e-04   \n",
              "75%         0.043971       0.018657  ...       0.006838  5.949700e-02   \n",
              "max         0.773622       0.628268  ...       1.000000  9.409215e-01   \n",
              "\n",
              "                  22             23             24             25  \\\n",
              "count  113842.000000  113842.000000  113842.000000  113842.000000   \n",
              "mean       -0.000029      -0.000220       0.000163      -0.000094   \n",
              "std         0.014195       0.150603       0.050515       0.154195   \n",
              "min        -1.000000      -0.702198      -1.000000      -0.594800   \n",
              "25%        -0.003619      -0.088390      -0.030642      -0.104562   \n",
              "50%        -0.000274       0.010086       0.001775      -0.016932   \n",
              "75%         0.003291       0.108933       0.034383       0.077209   \n",
              "max         0.502780       1.000000       0.730384       1.000000   \n",
              "\n",
              "                  26             27             28             29  \n",
              "count  113842.000000  113842.000000  113842.000000  113842.000000  \n",
              "mean       -0.000021      -0.000015       0.005149       0.112306  \n",
              "std         0.035876       0.010521       0.018950       0.539311  \n",
              "min        -0.888602      -0.284152      -0.001707      -0.961371  \n",
              "25%        -0.006362      -0.001573      -0.001280      -0.348137  \n",
              "50%         0.000135       0.000330      -0.000004      -0.002503  \n",
              "75%         0.008197       0.002300       0.004267       0.619018  \n",
              "max         1.000000       1.000000       1.000000       1.000000  \n",
              "\n",
              "[8 rows x 30 columns]"
            ],
            "text/html": [
              "\n",
              "  <div id=\"df-eb195a3d-aa93-423c-ba01-342fd6b97fe6\">\n",
              "    <div class=\"colab-df-container\">\n",
              "      <div>\n",
              "<style scoped>\n",
              "    .dataframe tbody tr th:only-of-type {\n",
              "        vertical-align: middle;\n",
              "    }\n",
              "\n",
              "    .dataframe tbody tr th {\n",
              "        vertical-align: top;\n",
              "    }\n",
              "\n",
              "    .dataframe thead th {\n",
              "        text-align: right;\n",
              "    }\n",
              "</style>\n",
              "<table border=\"1\" class=\"dataframe\">\n",
              "  <thead>\n",
              "    <tr style=\"text-align: right;\">\n",
              "      <th></th>\n",
              "      <th>0</th>\n",
              "      <th>1</th>\n",
              "      <th>2</th>\n",
              "      <th>3</th>\n",
              "      <th>4</th>\n",
              "      <th>5</th>\n",
              "      <th>6</th>\n",
              "      <th>7</th>\n",
              "      <th>8</th>\n",
              "      <th>9</th>\n",
              "      <th>...</th>\n",
              "      <th>20</th>\n",
              "      <th>21</th>\n",
              "      <th>22</th>\n",
              "      <th>23</th>\n",
              "      <th>24</th>\n",
              "      <th>25</th>\n",
              "      <th>26</th>\n",
              "      <th>27</th>\n",
              "      <th>28</th>\n",
              "      <th>29</th>\n",
              "    </tr>\n",
              "  </thead>\n",
              "  <tbody>\n",
              "    <tr>\n",
              "      <th>count</th>\n",
              "      <td>113842.000000</td>\n",
              "      <td>113842.000000</td>\n",
              "      <td>113842.000000</td>\n",
              "      <td>113842.000000</td>\n",
              "      <td>113842.000000</td>\n",
              "      <td>113842.000000</td>\n",
              "      <td>113842.000000</td>\n",
              "      <td>113842.000000</td>\n",
              "      <td>113842.000000</td>\n",
              "      <td>113842.000000</td>\n",
              "      <td>...</td>\n",
              "      <td>113842.000000</td>\n",
              "      <td>1.138420e+05</td>\n",
              "      <td>113842.000000</td>\n",
              "      <td>113842.000000</td>\n",
              "      <td>113842.000000</td>\n",
              "      <td>113842.000000</td>\n",
              "      <td>113842.000000</td>\n",
              "      <td>113842.000000</td>\n",
              "      <td>113842.000000</td>\n",
              "      <td>113842.000000</td>\n",
              "    </tr>\n",
              "    <tr>\n",
              "      <th>mean</th>\n",
              "      <td>0.000003</td>\n",
              "      <td>0.000018</td>\n",
              "      <td>0.000299</td>\n",
              "      <td>-0.000253</td>\n",
              "      <td>0.000011</td>\n",
              "      <td>0.000197</td>\n",
              "      <td>0.000131</td>\n",
              "      <td>-0.000048</td>\n",
              "      <td>-0.000157</td>\n",
              "      <td>0.000213</td>\n",
              "      <td>...</td>\n",
              "      <td>-0.000046</td>\n",
              "      <td>4.600359e-08</td>\n",
              "      <td>-0.000029</td>\n",
              "      <td>-0.000220</td>\n",
              "      <td>0.000163</td>\n",
              "      <td>-0.000094</td>\n",
              "      <td>-0.000021</td>\n",
              "      <td>-0.000015</td>\n",
              "      <td>0.005149</td>\n",
              "      <td>0.112306</td>\n",
              "    </tr>\n",
              "    <tr>\n",
              "      <th>std</th>\n",
              "      <td>0.034589</td>\n",
              "      <td>0.022706</td>\n",
              "      <td>0.046124</td>\n",
              "      <td>0.085660</td>\n",
              "      <td>0.032446</td>\n",
              "      <td>0.050862</td>\n",
              "      <td>0.027332</td>\n",
              "      <td>0.023271</td>\n",
              "      <td>0.081540</td>\n",
              "      <td>0.043902</td>\n",
              "      <td>...</td>\n",
              "      <td>0.026541</td>\n",
              "      <td>8.144792e-02</td>\n",
              "      <td>0.014195</td>\n",
              "      <td>0.150603</td>\n",
              "      <td>0.050515</td>\n",
              "      <td>0.154195</td>\n",
              "      <td>0.035876</td>\n",
              "      <td>0.010521</td>\n",
              "      <td>0.018950</td>\n",
              "      <td>0.539311</td>\n",
              "    </tr>\n",
              "    <tr>\n",
              "      <th>min</th>\n",
              "      <td>-1.000000</td>\n",
              "      <td>-1.000000</td>\n",
              "      <td>-1.000000</td>\n",
              "      <td>-0.339612</td>\n",
              "      <td>-1.000000</td>\n",
              "      <td>-1.000000</td>\n",
              "      <td>-0.942170</td>\n",
              "      <td>-1.000000</td>\n",
              "      <td>-1.000000</td>\n",
              "      <td>-1.000000</td>\n",
              "      <td>...</td>\n",
              "      <td>-0.836587</td>\n",
              "      <td>-1.000000e+00</td>\n",
              "      <td>-1.000000</td>\n",
              "      <td>-0.702198</td>\n",
              "      <td>-1.000000</td>\n",
              "      <td>-0.594800</td>\n",
              "      <td>-0.888602</td>\n",
              "      <td>-0.284152</td>\n",
              "      <td>-0.001707</td>\n",
              "      <td>-0.961371</td>\n",
              "    </tr>\n",
              "    <tr>\n",
              "      <th>25%</th>\n",
              "      <td>-0.016372</td>\n",
              "      <td>-0.008191</td>\n",
              "      <td>-0.027235</td>\n",
              "      <td>-0.051769</td>\n",
              "      <td>-0.016367</td>\n",
              "      <td>-0.029284</td>\n",
              "      <td>-0.012532</td>\n",
              "      <td>-0.004112</td>\n",
              "      <td>-0.048197</td>\n",
              "      <td>-0.021861</td>\n",
              "      <td>...</td>\n",
              "      <td>-0.008444</td>\n",
              "      <td>-6.079278e-02</td>\n",
              "      <td>-0.003619</td>\n",
              "      <td>-0.088390</td>\n",
              "      <td>-0.030642</td>\n",
              "      <td>-0.104562</td>\n",
              "      <td>-0.006362</td>\n",
              "      <td>-0.001573</td>\n",
              "      <td>-0.001280</td>\n",
              "      <td>-0.348137</td>\n",
              "    </tr>\n",
              "    <tr>\n",
              "      <th>50%</th>\n",
              "      <td>0.000214</td>\n",
              "      <td>0.000913</td>\n",
              "      <td>0.005665</td>\n",
              "      <td>-0.001174</td>\n",
              "      <td>-0.001283</td>\n",
              "      <td>-0.010414</td>\n",
              "      <td>0.000886</td>\n",
              "      <td>0.000412</td>\n",
              "      <td>-0.003882</td>\n",
              "      <td>-0.003721</td>\n",
              "      <td>...</td>\n",
              "      <td>-0.001113</td>\n",
              "      <td>9.391010e-04</td>\n",
              "      <td>-0.000274</td>\n",
              "      <td>0.010086</td>\n",
              "      <td>0.001775</td>\n",
              "      <td>-0.016932</td>\n",
              "      <td>0.000135</td>\n",
              "      <td>0.000330</td>\n",
              "      <td>-0.000004</td>\n",
              "      <td>-0.002503</td>\n",
              "    </tr>\n",
              "    <tr>\n",
              "      <th>75%</th>\n",
              "      <td>0.023319</td>\n",
              "      <td>0.011025</td>\n",
              "      <td>0.031956</td>\n",
              "      <td>0.045006</td>\n",
              "      <td>0.014573</td>\n",
              "      <td>0.015492</td>\n",
              "      <td>0.012910</td>\n",
              "      <td>0.006444</td>\n",
              "      <td>0.043971</td>\n",
              "      <td>0.018657</td>\n",
              "      <td>...</td>\n",
              "      <td>0.006838</td>\n",
              "      <td>5.949700e-02</td>\n",
              "      <td>0.003291</td>\n",
              "      <td>0.108933</td>\n",
              "      <td>0.034383</td>\n",
              "      <td>0.077209</td>\n",
              "      <td>0.008197</td>\n",
              "      <td>0.002300</td>\n",
              "      <td>0.004267</td>\n",
              "      <td>0.619018</td>\n",
              "    </tr>\n",
              "    <tr>\n",
              "      <th>max</th>\n",
              "      <td>0.043521</td>\n",
              "      <td>0.295221</td>\n",
              "      <td>0.129038</td>\n",
              "      <td>1.000000</td>\n",
              "      <td>0.825703</td>\n",
              "      <td>0.914273</td>\n",
              "      <td>1.000000</td>\n",
              "      <td>0.392734</td>\n",
              "      <td>0.773622</td>\n",
              "      <td>0.628268</td>\n",
              "      <td>...</td>\n",
              "      <td>1.000000</td>\n",
              "      <td>9.409215e-01</td>\n",
              "      <td>0.502780</td>\n",
              "      <td>1.000000</td>\n",
              "      <td>0.730384</td>\n",
              "      <td>1.000000</td>\n",
              "      <td>1.000000</td>\n",
              "      <td>1.000000</td>\n",
              "      <td>1.000000</td>\n",
              "      <td>1.000000</td>\n",
              "    </tr>\n",
              "  </tbody>\n",
              "</table>\n",
              "<p>8 rows × 30 columns</p>\n",
              "</div>\n",
              "      <button class=\"colab-df-convert\" onclick=\"convertToInteractive('df-eb195a3d-aa93-423c-ba01-342fd6b97fe6')\"\n",
              "              title=\"Convert this dataframe to an interactive table.\"\n",
              "              style=\"display:none;\">\n",
              "        \n",
              "  <svg xmlns=\"http://www.w3.org/2000/svg\" height=\"24px\"viewBox=\"0 0 24 24\"\n",
              "       width=\"24px\">\n",
              "    <path d=\"M0 0h24v24H0V0z\" fill=\"none\"/>\n",
              "    <path d=\"M18.56 5.44l.94 2.06.94-2.06 2.06-.94-2.06-.94-.94-2.06-.94 2.06-2.06.94zm-11 1L8.5 8.5l.94-2.06 2.06-.94-2.06-.94L8.5 2.5l-.94 2.06-2.06.94zm10 10l.94 2.06.94-2.06 2.06-.94-2.06-.94-.94-2.06-.94 2.06-2.06.94z\"/><path d=\"M17.41 7.96l-1.37-1.37c-.4-.4-.92-.59-1.43-.59-.52 0-1.04.2-1.43.59L10.3 9.45l-7.72 7.72c-.78.78-.78 2.05 0 2.83L4 21.41c.39.39.9.59 1.41.59.51 0 1.02-.2 1.41-.59l7.78-7.78 2.81-2.81c.8-.78.8-2.07 0-2.86zM5.41 20L4 18.59l7.72-7.72 1.47 1.35L5.41 20z\"/>\n",
              "  </svg>\n",
              "      </button>\n",
              "      \n",
              "  <style>\n",
              "    .colab-df-container {\n",
              "      display:flex;\n",
              "      flex-wrap:wrap;\n",
              "      gap: 12px;\n",
              "    }\n",
              "\n",
              "    .colab-df-convert {\n",
              "      background-color: #E8F0FE;\n",
              "      border: none;\n",
              "      border-radius: 50%;\n",
              "      cursor: pointer;\n",
              "      display: none;\n",
              "      fill: #1967D2;\n",
              "      height: 32px;\n",
              "      padding: 0 0 0 0;\n",
              "      width: 32px;\n",
              "    }\n",
              "\n",
              "    .colab-df-convert:hover {\n",
              "      background-color: #E2EBFA;\n",
              "      box-shadow: 0px 1px 2px rgba(60, 64, 67, 0.3), 0px 1px 3px 1px rgba(60, 64, 67, 0.15);\n",
              "      fill: #174EA6;\n",
              "    }\n",
              "\n",
              "    [theme=dark] .colab-df-convert {\n",
              "      background-color: #3B4455;\n",
              "      fill: #D2E3FC;\n",
              "    }\n",
              "\n",
              "    [theme=dark] .colab-df-convert:hover {\n",
              "      background-color: #434B5C;\n",
              "      box-shadow: 0px 1px 3px 1px rgba(0, 0, 0, 0.15);\n",
              "      filter: drop-shadow(0px 1px 2px rgba(0, 0, 0, 0.3));\n",
              "      fill: #FFFFFF;\n",
              "    }\n",
              "  </style>\n",
              "\n",
              "      <script>\n",
              "        const buttonEl =\n",
              "          document.querySelector('#df-eb195a3d-aa93-423c-ba01-342fd6b97fe6 button.colab-df-convert');\n",
              "        buttonEl.style.display =\n",
              "          google.colab.kernel.accessAllowed ? 'block' : 'none';\n",
              "\n",
              "        async function convertToInteractive(key) {\n",
              "          const element = document.querySelector('#df-eb195a3d-aa93-423c-ba01-342fd6b97fe6');\n",
              "          const dataTable =\n",
              "            await google.colab.kernel.invokeFunction('convertToInteractive',\n",
              "                                                     [key], {});\n",
              "          if (!dataTable) return;\n",
              "\n",
              "          const docLinkHtml = 'Like what you see? Visit the ' +\n",
              "            '<a target=\"_blank\" href=https://colab.research.google.com/notebooks/data_table.ipynb>data table notebook</a>'\n",
              "            + ' to learn more about interactive tables.';\n",
              "          element.innerHTML = '';\n",
              "          dataTable['output_type'] = 'display_data';\n",
              "          await google.colab.output.renderOutput(dataTable, element);\n",
              "          const docLink = document.createElement('div');\n",
              "          docLink.innerHTML = docLinkHtml;\n",
              "          element.appendChild(docLink);\n",
              "        }\n",
              "      </script>\n",
              "    </div>\n",
              "  </div>\n",
              "  "
            ]
          },
          "metadata": {},
          "execution_count": 58
        }
      ]
    },
    {
      "cell_type": "code",
      "source": [
        "result5 = isf5.predict(scaler3.transform(val))"
      ],
      "metadata": {
        "id": "5jGeI4LAbY0z"
      },
      "execution_count": 59,
      "outputs": []
    },
    {
      "cell_type": "code",
      "source": [
        "f1_score(val_class, np.where(result5==1, 0, 1), average='macro')"
      ],
      "metadata": {
        "colab": {
          "base_uri": "https://localhost:8080/"
        },
        "outputId": "ded828f9-eb41-40b3-ad2c-1371ad66714b",
        "id": "1GYCUXdAbY00"
      },
      "execution_count": 60,
      "outputs": [
        {
          "output_type": "execute_result",
          "data": {
            "text/plain": [
              "0.7140043609762959"
            ]
          },
          "metadata": {},
          "execution_count": 60
        }
      ]
    },
    {
      "cell_type": "code",
      "source": [
        "plt.scatter(val['V3'], val['V7'], c=np.where(result5==1, 0, 1))\n",
        "plt.show()"
      ],
      "metadata": {
        "colab": {
          "base_uri": "https://localhost:8080/",
          "height": 265
        },
        "outputId": "b678a039-4246-445e-bc03-b0cfdf98189b",
        "id": "PIRycDB9bY00"
      },
      "execution_count": 62,
      "outputs": [
        {
          "output_type": "display_data",
          "data": {
            "text/plain": [
              "<Figure size 432x288 with 1 Axes>"
            ],
            "image/png": "[encoded data removed]"
          },
          "metadata": {
            "needs_background": "light"
          }
        }
      ]
    },
    {
      "cell_type": "code",
      "source": [
        "isf6 = IsolationForest(contamination=0.0011, random_state=0).fit(scaler4.transform(train))"
      ],
      "metadata": {
        "id": "dQERvLN2bxzh"
      },
      "execution_count": 63,
      "outputs": []
    },
    {
      "cell_type": "code",
      "source": [
        "pd.DataFrame(scaler4.transform(train)).describe()"
      ],
      "metadata": {
        "colab": {
          "base_uri": "https://localhost:8080/",
          "height": 428
        },
        "outputId": "4d564157-39f5-4252-a47f-53130cd6a9ee",
        "id": "0MIi6hOebxzu"
      },
      "execution_count": 64,
      "outputs": [
        {
          "output_type": "execute_result",
          "data": {
            "text/plain": [
              "                  0             1              2             3             4   \\\n",
              "count  113842.000000  1.138420e+05  113842.000000  1.138420e+05  1.138420e+05   \n",
              "mean       -0.005305 -4.659126e-02      -0.090656  9.518101e-03  4.181888e-02   \n",
              "std         0.871456  1.181619e+00       0.779239  8.851440e-01  1.048668e+00   \n",
              "min       -25.200226 -5.208808e+01     -16.990171 -3.497162e+00 -3.227890e+01   \n",
              "25%        -0.417872 -4.737693e-01      -0.555828 -5.228084e-01 -4.875468e-01   \n",
              "50%         0.000000  4.967001e-18       0.000000  1.087590e-18  2.660478e-18   \n",
              "75%         0.582128  5.262307e-01       0.444172  4.771916e-01  5.124532e-01   \n",
              "max         1.091120  1.531595e+01       2.084305  1.034539e+01  2.672848e+01   \n",
              "\n",
              "                  5             6             7              8   \\\n",
              "count  113842.000000  1.138420e+05  1.138420e+05  113842.000000   \n",
              "mean        0.236966 -2.968106e-02 -4.354864e-02       0.040422   \n",
              "std         1.135911  1.074311e+00  2.204379e+00       0.884697   \n",
              "min       -22.100505 -3.706731e+01 -9.476536e+01     -10.807710   \n",
              "25%        -0.421434 -5.273877e-01 -4.285306e-01      -0.480802   \n",
              "50%         0.000000  3.095482e-18 -3.225501e-18       0.000000   \n",
              "75%         0.578566  4.726123e-01  5.714694e-01       0.519198   \n",
              "max        20.651105  3.927069e+01  3.716330e+01       8.435793   \n",
              "\n",
              "                  9   ...            20             21            22  \\\n",
              "count  113842.000000  ...  1.138420e+05  113842.000000  1.138420e+05   \n",
              "mean        0.097110  ...  6.985382e-02      -0.007807  3.534120e-02   \n",
              "std         1.083511  ...  1.736786e+00       0.677098  2.054098e+00   \n",
              "min       -24.588650  ... -5.467080e+01      -8.321065 -1.446627e+02   \n",
              "25%        -0.447698  ... -4.797282e-01      -0.513193 -4.841502e-01   \n",
              "50%         0.000000  ... -4.174178e-18       0.000000  2.801985e-18   \n",
              "75%         0.552302  ...  5.202718e-01       0.486807  5.158498e-01   \n",
              "max        15.597806  ...  6.550973e+01       7.814316  7.279295e+01   \n",
              "\n",
              "                  23             24            25             26  \\\n",
              "count  113842.000000  113842.000000  1.138420e+05  113842.000000   \n",
              "mean       -0.052226      -0.024793  9.263181e-02      -0.010705   \n",
              "std         0.763227       0.776850  8.482905e-01       2.464164   \n",
              "min        -3.609724     -15.405971 -3.179097e+00     -61.043467   \n",
              "25%        -0.499058      -0.498534 -4.820913e-01      -0.446251   \n",
              "50%         0.000000       0.000000  6.118966e-18       0.000000   \n",
              "75%         0.500942       0.501466  5.179087e-01       0.553749   \n",
              "max         5.016704      11.205024  5.594575e+00      68.676360   \n",
              "\n",
              "                 27             28            29  \n",
              "count  1.138420e+05  113842.000000  1.138420e+05  \n",
              "mean  -8.898751e-02       0.928795  1.187084e-01  \n",
              "std    2.716472e+00       3.416036  5.576269e-01  \n",
              "min   -7.344829e+01      -0.306993 -9.914320e-01  \n",
              "25%   -4.912795e-01      -0.230070 -3.573717e-01  \n",
              "50%    6.615751e-18       0.000000  2.159934e-19  \n",
              "75%    5.087205e-01       0.769930  6.426283e-01  \n",
              "max    2.580979e+02     180.265455  1.036549e+00  \n",
              "\n",
              "[8 rows x 30 columns]"
            ],
            "text/html": [
              "\n",
              "  <div id=\"df-fbfdc11d-e99d-42c6-8aa0-b692bd08e9fa\">\n",
              "    <div class=\"colab-df-container\">\n",
              "      <div>\n",
              "<style scoped>\n",
              "    .dataframe tbody tr th:only-of-type {\n",
              "        vertical-align: middle;\n",
              "    }\n",
              "\n",
              "    .dataframe tbody tr th {\n",
              "        vertical-align: top;\n",
              "    }\n",
              "\n",
              "    .dataframe thead th {\n",
              "        text-align: right;\n",
              "    }\n",
              "</style>\n",
              "<table border=\"1\" class=\"dataframe\">\n",
              "  <thead>\n",
              "    <tr style=\"text-align: right;\">\n",
              "      <th></th>\n",
              "      <th>0</th>\n",
              "      <th>1</th>\n",
              "      <th>2</th>\n",
              "      <th>3</th>\n",
              "      <th>4</th>\n",
              "      <th>5</th>\n",
              "      <th>6</th>\n",
              "      <th>7</th>\n",
              "      <th>8</th>\n",
              "      <th>9</th>\n",
              "      <th>...</th>\n",
              "      <th>20</th>\n",
              "      <th>21</th>\n",
              "      <th>22</th>\n",
              "      <th>23</th>\n",
              "      <th>24</th>\n",
              "      <th>25</th>\n",
              "      <th>26</th>\n",
              "      <th>27</th>\n",
              "      <th>28</th>\n",
              "      <th>29</th>\n",
              "    </tr>\n",
              "  </thead>\n",
              "  <tbody>\n",
              "    <tr>\n",
              "      <th>count</th>\n",
              "      <td>113842.000000</td>\n",
              "      <td>1.138420e+05</td>\n",
              "      <td>113842.000000</td>\n",
              "      <td>1.138420e+05</td>\n",
              "      <td>1.138420e+05</td>\n",
              "      <td>113842.000000</td>\n",
              "      <td>1.138420e+05</td>\n",
              "      <td>1.138420e+05</td>\n",
              "      <td>113842.000000</td>\n",
              "      <td>113842.000000</td>\n",
              "      <td>...</td>\n",
              "      <td>1.138420e+05</td>\n",
              "      <td>113842.000000</td>\n",
              "      <td>1.138420e+05</td>\n",
              "      <td>113842.000000</td>\n",
              "      <td>113842.000000</td>\n",
              "      <td>1.138420e+05</td>\n",
              "      <td>113842.000000</td>\n",
              "      <td>1.138420e+05</td>\n",
              "      <td>113842.000000</td>\n",
              "      <td>1.138420e+05</td>\n",
              "    </tr>\n",
              "    <tr>\n",
              "      <th>mean</th>\n",
              "      <td>-0.005305</td>\n",
              "      <td>-4.659126e-02</td>\n",
              "      <td>-0.090656</td>\n",
              "      <td>9.518101e-03</td>\n",
              "      <td>4.181888e-02</td>\n",
              "      <td>0.236966</td>\n",
              "      <td>-2.968106e-02</td>\n",
              "      <td>-4.354864e-02</td>\n",
              "      <td>0.040422</td>\n",
              "      <td>0.097110</td>\n",
              "      <td>...</td>\n",
              "      <td>6.985382e-02</td>\n",
              "      <td>-0.007807</td>\n",
              "      <td>3.534120e-02</td>\n",
              "      <td>-0.052226</td>\n",
              "      <td>-0.024793</td>\n",
              "      <td>9.263181e-02</td>\n",
              "      <td>-0.010705</td>\n",
              "      <td>-8.898751e-02</td>\n",
              "      <td>0.928795</td>\n",
              "      <td>1.187084e-01</td>\n",
              "    </tr>\n",
              "    <tr>\n",
              "      <th>std</th>\n",
              "      <td>0.871456</td>\n",
              "      <td>1.181619e+00</td>\n",
              "      <td>0.779239</td>\n",
              "      <td>8.851440e-01</td>\n",
              "      <td>1.048668e+00</td>\n",
              "      <td>1.135911</td>\n",
              "      <td>1.074311e+00</td>\n",
              "      <td>2.204379e+00</td>\n",
              "      <td>0.884697</td>\n",
              "      <td>1.083511</td>\n",
              "      <td>...</td>\n",
              "      <td>1.736786e+00</td>\n",
              "      <td>0.677098</td>\n",
              "      <td>2.054098e+00</td>\n",
              "      <td>0.763227</td>\n",
              "      <td>0.776850</td>\n",
              "      <td>8.482905e-01</td>\n",
              "      <td>2.464164</td>\n",
              "      <td>2.716472e+00</td>\n",
              "      <td>3.416036</td>\n",
              "      <td>5.576269e-01</td>\n",
              "    </tr>\n",
              "    <tr>\n",
              "      <th>min</th>\n",
              "      <td>-25.200226</td>\n",
              "      <td>-5.208808e+01</td>\n",
              "      <td>-16.990171</td>\n",
              "      <td>-3.497162e+00</td>\n",
              "      <td>-3.227890e+01</td>\n",
              "      <td>-22.100505</td>\n",
              "      <td>-3.706731e+01</td>\n",
              "      <td>-9.476536e+01</td>\n",
              "      <td>-10.807710</td>\n",
              "      <td>-24.588650</td>\n",
              "      <td>...</td>\n",
              "      <td>-5.467080e+01</td>\n",
              "      <td>-8.321065</td>\n",
              "      <td>-1.446627e+02</td>\n",
              "      <td>-3.609724</td>\n",
              "      <td>-15.405971</td>\n",
              "      <td>-3.179097e+00</td>\n",
              "      <td>-61.043467</td>\n",
              "      <td>-7.344829e+01</td>\n",
              "      <td>-0.306993</td>\n",
              "      <td>-9.914320e-01</td>\n",
              "    </tr>\n",
              "    <tr>\n",
              "      <th>25%</th>\n",
              "      <td>-0.417872</td>\n",
              "      <td>-4.737693e-01</td>\n",
              "      <td>-0.555828</td>\n",
              "      <td>-5.228084e-01</td>\n",
              "      <td>-4.875468e-01</td>\n",
              "      <td>-0.421434</td>\n",
              "      <td>-5.273877e-01</td>\n",
              "      <td>-4.285306e-01</td>\n",
              "      <td>-0.480802</td>\n",
              "      <td>-0.447698</td>\n",
              "      <td>...</td>\n",
              "      <td>-4.797282e-01</td>\n",
              "      <td>-0.513193</td>\n",
              "      <td>-4.841502e-01</td>\n",
              "      <td>-0.499058</td>\n",
              "      <td>-0.498534</td>\n",
              "      <td>-4.820913e-01</td>\n",
              "      <td>-0.446251</td>\n",
              "      <td>-4.912795e-01</td>\n",
              "      <td>-0.230070</td>\n",
              "      <td>-3.573717e-01</td>\n",
              "    </tr>\n",
              "    <tr>\n",
              "      <th>50%</th>\n",
              "      <td>0.000000</td>\n",
              "      <td>4.967001e-18</td>\n",
              "      <td>0.000000</td>\n",
              "      <td>1.087590e-18</td>\n",
              "      <td>2.660478e-18</td>\n",
              "      <td>0.000000</td>\n",
              "      <td>3.095482e-18</td>\n",
              "      <td>-3.225501e-18</td>\n",
              "      <td>0.000000</td>\n",
              "      <td>0.000000</td>\n",
              "      <td>...</td>\n",
              "      <td>-4.174178e-18</td>\n",
              "      <td>0.000000</td>\n",
              "      <td>2.801985e-18</td>\n",
              "      <td>0.000000</td>\n",
              "      <td>0.000000</td>\n",
              "      <td>6.118966e-18</td>\n",
              "      <td>0.000000</td>\n",
              "      <td>6.615751e-18</td>\n",
              "      <td>0.000000</td>\n",
              "      <td>2.159934e-19</td>\n",
              "    </tr>\n",
              "    <tr>\n",
              "      <th>75%</th>\n",
              "      <td>0.582128</td>\n",
              "      <td>5.262307e-01</td>\n",
              "      <td>0.444172</td>\n",
              "      <td>4.771916e-01</td>\n",
              "      <td>5.124532e-01</td>\n",
              "      <td>0.578566</td>\n",
              "      <td>4.726123e-01</td>\n",
              "      <td>5.714694e-01</td>\n",
              "      <td>0.519198</td>\n",
              "      <td>0.552302</td>\n",
              "      <td>...</td>\n",
              "      <td>5.202718e-01</td>\n",
              "      <td>0.486807</td>\n",
              "      <td>5.158498e-01</td>\n",
              "      <td>0.500942</td>\n",
              "      <td>0.501466</td>\n",
              "      <td>5.179087e-01</td>\n",
              "      <td>0.553749</td>\n",
              "      <td>5.087205e-01</td>\n",
              "      <td>0.769930</td>\n",
              "      <td>6.426283e-01</td>\n",
              "    </tr>\n",
              "    <tr>\n",
              "      <th>max</th>\n",
              "      <td>1.091120</td>\n",
              "      <td>1.531595e+01</td>\n",
              "      <td>2.084305</td>\n",
              "      <td>1.034539e+01</td>\n",
              "      <td>2.672848e+01</td>\n",
              "      <td>20.651105</td>\n",
              "      <td>3.927069e+01</td>\n",
              "      <td>3.716330e+01</td>\n",
              "      <td>8.435793</td>\n",
              "      <td>15.597806</td>\n",
              "      <td>...</td>\n",
              "      <td>6.550973e+01</td>\n",
              "      <td>7.814316</td>\n",
              "      <td>7.279295e+01</td>\n",
              "      <td>5.016704</td>\n",
              "      <td>11.205024</td>\n",
              "      <td>5.594575e+00</td>\n",
              "      <td>68.676360</td>\n",
              "      <td>2.580979e+02</td>\n",
              "      <td>180.265455</td>\n",
              "      <td>1.036549e+00</td>\n",
              "    </tr>\n",
              "  </tbody>\n",
              "</table>\n",
              "<p>8 rows × 30 columns</p>\n",
              "</div>\n",
              "      <button class=\"colab-df-convert\" onclick=\"convertToInteractive('df-fbfdc11d-e99d-42c6-8aa0-b692bd08e9fa')\"\n",
              "              title=\"Convert this dataframe to an interactive table.\"\n",
              "              style=\"display:none;\">\n",
              "        \n",
              "  <svg xmlns=\"http://www.w3.org/2000/svg\" height=\"24px\"viewBox=\"0 0 24 24\"\n",
              "       width=\"24px\">\n",
              "    <path d=\"M0 0h24v24H0V0z\" fill=\"none\"/>\n",
              "    <path d=\"M18.56 5.44l.94 2.06.94-2.06 2.06-.94-2.06-.94-.94-2.06-.94 2.06-2.06.94zm-11 1L8.5 8.5l.94-2.06 2.06-.94-2.06-.94L8.5 2.5l-.94 2.06-2.06.94zm10 10l.94 2.06.94-2.06 2.06-.94-2.06-.94-.94-2.06-.94 2.06-2.06.94z\"/><path d=\"M17.41 7.96l-1.37-1.37c-.4-.4-.92-.59-1.43-.59-.52 0-1.04.2-1.43.59L10.3 9.45l-7.72 7.72c-.78.78-.78 2.05 0 2.83L4 21.41c.39.39.9.59 1.41.59.51 0 1.02-.2 1.41-.59l7.78-7.78 2.81-2.81c.8-.78.8-2.07 0-2.86zM5.41 20L4 18.59l7.72-7.72 1.47 1.35L5.41 20z\"/>\n",
              "  </svg>\n",
              "      </button>\n",
              "      \n",
              "  <style>\n",
              "    .colab-df-container {\n",
              "      display:flex;\n",
              "      flex-wrap:wrap;\n",
              "      gap: 12px;\n",
              "    }\n",
              "\n",
              "    .colab-df-convert {\n",
              "      background-color: #E8F0FE;\n",
              "      border: none;\n",
              "      border-radius: 50%;\n",
              "      cursor: pointer;\n",
              "      display: none;\n",
              "      fill: #1967D2;\n",
              "      height: 32px;\n",
              "      padding: 0 0 0 0;\n",
              "      width: 32px;\n",
              "    }\n",
              "\n",
              "    .colab-df-convert:hover {\n",
              "      background-color: #E2EBFA;\n",
              "      box-shadow: 0px 1px 2px rgba(60, 64, 67, 0.3), 0px 1px 3px 1px rgba(60, 64, 67, 0.15);\n",
              "      fill: #174EA6;\n",
              "    }\n",
              "\n",
              "    [theme=dark] .colab-df-convert {\n",
              "      background-color: #3B4455;\n",
              "      fill: #D2E3FC;\n",
              "    }\n",
              "\n",
              "    [theme=dark] .colab-df-convert:hover {\n",
              "      background-color: #434B5C;\n",
              "      box-shadow: 0px 1px 3px 1px rgba(0, 0, 0, 0.15);\n",
              "      filter: drop-shadow(0px 1px 2px rgba(0, 0, 0, 0.3));\n",
              "      fill: #FFFFFF;\n",
              "    }\n",
              "  </style>\n",
              "\n",
              "      <script>\n",
              "        const buttonEl =\n",
              "          document.querySelector('#df-fbfdc11d-e99d-42c6-8aa0-b692bd08e9fa button.colab-df-convert');\n",
              "        buttonEl.style.display =\n",
              "          google.colab.kernel.accessAllowed ? 'block' : 'none';\n",
              "\n",
              "        async function convertToInteractive(key) {\n",
              "          const element = document.querySelector('#df-fbfdc11d-e99d-42c6-8aa0-b692bd08e9fa');\n",
              "          const dataTable =\n",
              "            await google.colab.kernel.invokeFunction('convertToInteractive',\n",
              "                                                     [key], {});\n",
              "          if (!dataTable) return;\n",
              "\n",
              "          const docLinkHtml = 'Like what you see? Visit the ' +\n",
              "            '<a target=\"_blank\" href=https://colab.research.google.com/notebooks/data_table.ipynb>data table notebook</a>'\n",
              "            + ' to learn more about interactive tables.';\n",
              "          element.innerHTML = '';\n",
              "          dataTable['output_type'] = 'display_data';\n",
              "          await google.colab.output.renderOutput(dataTable, element);\n",
              "          const docLink = document.createElement('div');\n",
              "          docLink.innerHTML = docLinkHtml;\n",
              "          element.appendChild(docLink);\n",
              "        }\n",
              "      </script>\n",
              "    </div>\n",
              "  </div>\n",
              "  "
            ]
          },
          "metadata": {},
          "execution_count": 64
        }
      ]
    },
    {
      "cell_type": "code",
      "source": [
        "result6 = isf6.predict(scaler4.transform(val))"
      ],
      "metadata": {
        "id": "ZPVy92h0bxzv"
      },
      "execution_count": 65,
      "outputs": []
    },
    {
      "cell_type": "code",
      "source": [
        "f1_score(val_class, np.where(result6==1, 0, 1), average='macro')"
      ],
      "metadata": {
        "colab": {
          "base_uri": "https://localhost:8080/"
        },
        "outputId": "fa5d5e60-5246-4d32-d70b-1bc4f97b5954",
        "id": "1TiwV88zbxzv"
      },
      "execution_count": 66,
      "outputs": [
        {
          "output_type": "execute_result",
          "data": {
            "text/plain": [
              "0.7140043609762959"
            ]
          },
          "metadata": {},
          "execution_count": 66
        }
      ]
    },
    {
      "cell_type": "code",
      "source": [
        "plt.scatter(val['V3'], val['V7'], c=np.where(result6==1, 0, 1))\n",
        "plt.show()"
      ],
      "metadata": {
        "colab": {
          "base_uri": "https://localhost:8080/",
          "height": 265
        },
        "outputId": "71ffe84c-a412-403c-e92e-de54b22668ff",
        "id": "AVjRAjF0bxzv"
      },
      "execution_count": 67,
      "outputs": [
        {
          "output_type": "display_data",
          "data": {
            "text/plain": [
              "<Figure size 432x288 with 1 Axes>"
            ],
            "image/png": "[encoded data removed]"
          },
          "metadata": {
            "needs_background": "light"
          }
        }
      ]
    },
    {
      "cell_type": "code",
      "source": [
        "isf7 = IsolationForest(n_estimators=200, max_samples='auto', contamination=0.0011, max_features=1.0, random_state=0).fit(train)"
      ],
      "metadata": {
        "colab": {
          "base_uri": "https://localhost:8080/"
        },
        "id": "ahNihxWzoj2X",
        "outputId": "6aacef8e-44b5-4084-a531-8107a21b6b96"
      },
      "execution_count": 80,
      "outputs": [
        {
          "output_type": "stream",
          "name": "stderr",
          "text": [
            "/usr/local/lib/python3.8/dist-packages/sklearn/base.py:450: UserWarning: X does not have valid feature names, but IsolationForest was fitted with feature names\n",
            "  warnings.warn(\n"
          ]
        }
      ]
    },
    {
      "cell_type": "code",
      "source": [
        "result7 = isf7.predict(val)"
      ],
      "metadata": {
        "id": "XDXjct9-oj2Y"
      },
      "execution_count": 81,
      "outputs": []
    },
    {
      "cell_type": "code",
      "source": [
        "f1_score(val_class, np.where(result7==1, 0, 1), average='macro')"
      ],
      "metadata": {
        "colab": {
          "base_uri": "https://localhost:8080/"
        },
        "outputId": "8f225d8d-bc57-454d-8dbe-66124c1a5d51",
        "id": "Kjzg8NHcoj2Y"
      },
      "execution_count": 82,
      "outputs": [
        {
          "output_type": "execute_result",
          "data": {
            "text/plain": [
              "0.6997098595016618"
            ]
          },
          "metadata": {},
          "execution_count": 82
        }
      ]
    },
    {
      "cell_type": "code",
      "source": [
        "plt.scatter(val['V3'], val['V7'], c=np.where(result7==1, 0, 1))\n",
        "plt.show()"
      ],
      "metadata": {
        "colab": {
          "base_uri": "https://localhost:8080/",
          "height": 265
        },
        "outputId": "d84cbdc4-93fa-462c-80f1-fe69e1d75a89",
        "id": "pnNKPlYDoj2Z"
      },
      "execution_count": 83,
      "outputs": [
        {
          "output_type": "display_data",
          "data": {
            "text/plain": [
              "<Figure size 432x288 with 1 Axes>"
            ],
            "image/png": "[encoded data removed]"
          },
          "metadata": {
            "needs_background": "light"
          }
        }
      ]
    },
    {
      "cell_type": "code",
      "source": [
        "isf8 = IsolationForest(n_estimators=600, max_samples='auto', contamination=0.0011, max_features=1.0, random_state=0).fit(train)"
      ],
      "metadata": {
        "id": "MoR8ZmzVqyDx"
      },
      "execution_count": 97,
      "outputs": []
    },
    {
      "cell_type": "code",
      "source": [
        "result8 = isf8.predict(val)"
      ],
      "metadata": {
        "id": "6rl226UeqyD5"
      },
      "execution_count": 98,
      "outputs": []
    },
    {
      "cell_type": "code",
      "source": [
        "f1_score(val_class, np.where(result8==1, 0, 1), average='macro')"
      ],
      "metadata": {
        "colab": {
          "base_uri": "https://localhost:8080/"
        },
        "outputId": "b1a6b06c-9af1-4a94-a4c7-2193a7fc491e",
        "id": "HncRfV7oqyD5"
      },
      "execution_count": 99,
      "outputs": [
        {
          "output_type": "execute_result",
          "data": {
            "text/plain": [
              "0.5135837978486838"
            ]
          },
          "metadata": {},
          "execution_count": 99
        }
      ]
    },
    {
      "cell_type": "code",
      "source": [
        "from sklearn.decomposition import PCA\n",
        "from sklearn.decomposition import KernelPCA"
      ],
      "metadata": {
        "id": "AuHGmrBpsINv"
      },
      "execution_count": 6,
      "outputs": []
    },
    {
      "cell_type": "code",
      "source": [
        "pca = PCA(n_components=10)\n",
        "pcar = pca.fit(train)"
      ],
      "metadata": {
        "id": "nxc82i0estW3"
      },
      "execution_count": 107,
      "outputs": []
    },
    {
      "cell_type": "code",
      "source": [
        "isf9 = IsolationForest(contamination=0.0011, max_features=1.0, random_state=0).fit(pca.transform(train))"
      ],
      "metadata": {
        "id": "m8xj3KZOuNYE"
      },
      "execution_count": 109,
      "outputs": []
    },
    {
      "cell_type": "code",
      "source": [
        "result9 = isf9.predict(pca.transform(val))"
      ],
      "metadata": {
        "id": "cPzbTJlUuNYE"
      },
      "execution_count": 111,
      "outputs": []
    },
    {
      "cell_type": "code",
      "source": [
        "f1_score(val_class, np.where(result9==1, 0, 1), average='macro')"
      ],
      "metadata": {
        "colab": {
          "base_uri": "https://localhost:8080/"
        },
        "outputId": "be0521e3-be6f-447a-e857-87f9349bc313",
        "id": "F5HyEw7EuNYE"
      },
      "execution_count": 112,
      "outputs": [
        {
          "output_type": "execute_result",
          "data": {
            "text/plain": [
              "0.6663149502907522"
            ]
          },
          "metadata": {},
          "execution_count": 112
        }
      ]
    },
    {
      "cell_type": "code",
      "source": [],
      "metadata": {
        "id": "2YnrxUjQwKEs"
      },
      "execution_count": null,
      "outputs": []
    },
    {
      "cell_type": "code",
      "source": [
        "isf10 = IsolationForest(contamination=0.0011, max_features=1.0, random_state=0).fit(train.loc[:, ['V17', 'V14', 'V12', 'V10', 'V7', 'V3']])"
      ],
      "metadata": {
        "colab": {
          "base_uri": "https://localhost:8080/"
        },
        "id": "vtLLan1cweSi",
        "outputId": "e1d674b9-30c4-4b95-f15d-526be71c55e9"
      },
      "execution_count": 7,
      "outputs": [
        {
          "output_type": "stream",
          "name": "stderr",
          "text": [
            "/usr/local/lib/python3.8/dist-packages/sklearn/base.py:450: UserWarning: X does not have valid feature names, but IsolationForest was fitted with feature names\n",
            "  warnings.warn(\n"
          ]
        }
      ]
    },
    {
      "cell_type": "code",
      "source": [
        "result10 = isf10.predict(val.loc[:, ['V17', 'V14', 'V12', 'V10', 'V7', 'V3']])"
      ],
      "metadata": {
        "id": "aTz7mMWQweSk"
      },
      "execution_count": 8,
      "outputs": []
    },
    {
      "cell_type": "code",
      "source": [
        "f1_score(val_class, np.where(result10==1, 0, 1), average='macro')"
      ],
      "metadata": {
        "colab": {
          "base_uri": "https://localhost:8080/"
        },
        "outputId": "628d970e-20af-4eb5-b155-ef466c1d2b2b",
        "id": "9_z4JTTxweSk"
      },
      "execution_count": 9,
      "outputs": [
        {
          "output_type": "execute_result",
          "data": {
            "text/plain": [
              "0.7583744968510364"
            ]
          },
          "metadata": {},
          "execution_count": 9
        }
      ]
    },
    {
      "cell_type": "code",
      "source": [
        "isf11 = IsolationForest(contamination=0.0011, max_features=1.0, random_state=0).fit(train.loc[:, ['V17', 'V14', 'V12', 'V10', 'V7', 'V3', 'V16']])"
      ],
      "metadata": {
        "colab": {
          "base_uri": "https://localhost:8080/"
        },
        "outputId": "7ccbf557-f654-4944-8615-be16450261c6",
        "id": "cxxI5MScxAJD"
      },
      "execution_count": 10,
      "outputs": [
        {
          "output_type": "stream",
          "name": "stderr",
          "text": [
            "/usr/local/lib/python3.8/dist-packages/sklearn/base.py:450: UserWarning: X does not have valid feature names, but IsolationForest was fitted with feature names\n",
            "  warnings.warn(\n"
          ]
        }
      ]
    },
    {
      "cell_type": "code",
      "source": [
        "result11 = isf11.predict(val.loc[:, ['V17', 'V14', 'V12', 'V10', 'V7', 'V3', 'V16']])"
      ],
      "metadata": {
        "id": "PUxqPuTLxAJE"
      },
      "execution_count": 12,
      "outputs": []
    },
    {
      "cell_type": "code",
      "source": [
        "f1_score(val_class, np.where(result11==1, 0, 1), average='macro')"
      ],
      "metadata": {
        "colab": {
          "base_uri": "https://localhost:8080/"
        },
        "outputId": "7bf57a61-f957-4bb1-bb07-827b47ffd991",
        "id": "ToShkOYaxAJE"
      },
      "execution_count": 13,
      "outputs": [
        {
          "output_type": "execute_result",
          "data": {
            "text/plain": [
              "0.7804819432476949"
            ]
          },
          "metadata": {},
          "execution_count": 13
        }
      ]
    },
    {
      "cell_type": "code",
      "source": [
        "isf12 = IsolationForest(contamination=0.0011, max_features=1.0, random_state=0).fit(train.loc[:, ['V17', 'V14', 'V12', 'V10', 'V7', 'V3', 'V16', 'V5']])"
      ],
      "metadata": {
        "colab": {
          "base_uri": "https://localhost:8080/"
        },
        "outputId": "1beaf9ee-100e-47e8-ccd7-a25dbb2dc847",
        "id": "4XHgzKCdxXkX"
      },
      "execution_count": 14,
      "outputs": [
        {
          "output_type": "stream",
          "name": "stderr",
          "text": [
            "/usr/local/lib/python3.8/dist-packages/sklearn/base.py:450: UserWarning: X does not have valid feature names, but IsolationForest was fitted with feature names\n",
            "  warnings.warn(\n"
          ]
        }
      ]
    },
    {
      "cell_type": "code",
      "source": [
        "result12 = isf12.predict(val.loc[:, ['V17', 'V14', 'V12', 'V10', 'V7', 'V3', 'V16', 'V5']])"
      ],
      "metadata": {
        "id": "jf_sVX5nxXkX"
      },
      "execution_count": 15,
      "outputs": []
    },
    {
      "cell_type": "code",
      "source": [
        "f1_score(val_class, np.where(result12==1, 0, 1), average='macro')"
      ],
      "metadata": {
        "colab": {
          "base_uri": "https://localhost:8080/"
        },
        "outputId": "3bfe9fe3-2b0b-4ca6-a33c-164783ba3bc9",
        "id": "LYxfbFvYxXkY"
      },
      "execution_count": 16,
      "outputs": [
        {
          "output_type": "execute_result",
          "data": {
            "text/plain": [
              "0.7497538158542589"
            ]
          },
          "metadata": {},
          "execution_count": 16
        }
      ]
    },
    {
      "cell_type": "code",
      "source": [
        "isf13 = IsolationForest(n_estimators=200, max_samples = 0.2, contamination=0.0011, max_features=1.0, random_state=0).fit(train.loc[:, ['V17', 'V14', 'V12', 'V10', 'V7', 'V3', 'V16']])"
      ],
      "metadata": {
        "colab": {
          "base_uri": "https://localhost:8080/"
        },
        "outputId": "25d033ce-c103-4445-e990-bd01d6c0e778",
        "id": "o-wrQzL7xm0l"
      },
      "execution_count": 42,
      "outputs": [
        {
          "output_type": "stream",
          "name": "stderr",
          "text": [
            "/usr/local/lib/python3.8/dist-packages/sklearn/base.py:450: UserWarning: X does not have valid feature names, but IsolationForest was fitted with feature names\n",
            "  warnings.warn(\n"
          ]
        }
      ]
    },
    {
      "cell_type": "code",
      "source": [
        "result13 = isf13.predict(val.loc[:, ['V17', 'V14', 'V12', 'V10', 'V7', 'V3', 'V16']])"
      ],
      "metadata": {
        "id": "fNuYQxRxxm0m"
      },
      "execution_count": 43,
      "outputs": []
    },
    {
      "cell_type": "code",
      "source": [
        "f1_score(val_class, np.where(result13==1, 0, 1), average='macro')"
      ],
      "metadata": {
        "colab": {
          "base_uri": "https://localhost:8080/"
        },
        "outputId": "4ce8e359-18ec-4aeb-8d4b-05ac346d41fc",
        "id": "MjYjjOKlxm0m"
      },
      "execution_count": 44,
      "outputs": [
        {
          "output_type": "execute_result",
          "data": {
            "text/plain": [
              "0.7879157743510873"
            ]
          },
          "metadata": {},
          "execution_count": 44
        }
      ]
    },
    {
      "cell_type": "code",
      "source": [
        "test_predict = isf13.predict(test.loc[:, ['V17', 'V14', 'V12', 'V10', 'V7', 'V3', 'V16']])\n"
      ],
      "metadata": {
        "id": "vhQ5tL3B0j-z"
      },
      "execution_count": 45,
      "outputs": []
    },
    {
      "cell_type": "code",
      "source": [
        "submission.Class = np.where(test_predict==1, 0, 1)"
      ],
      "metadata": {
        "id": "V41pV3rH0siv"
      },
      "execution_count": 46,
      "outputs": []
    },
    {
      "cell_type": "code",
      "source": [
        "submission.to_csv('submission_isf.csv', index=False)"
      ],
      "metadata": {
        "id": "3Oq2gK1X1IeG"
      },
      "execution_count": 47,
      "outputs": []
    },
    {
      "cell_type": "markdown",
      "source": [
        "![image.png](data:image/png;base64,iVBORw0KGgoAAAANSUhEUgAAAOYAAAELCAYAAADNx/pTAAAAAXNSR0IArs4c6QAAAARnQU1BAACxjwv8YQUAAAAJcEhZcwAAEnQAABJ0Ad5mH3gAACvaSURBVHhe7Z0HmBVF1oYPUclBcgaRICBJQAkqwYS6BhR1/VfFnJUVc8C0uqKromtiTWtYFRURBBMgQcmSM5Il5zzE+9db0z303LlpAjN1nfPy3Ic7fTtUd9dX59SpVCBkEEVRnKKg97+iKA6hwlQUB1FhKoqDqDAVxUFUmIriICpMRXEQFaaiOIgKU1EcRIWpKA6iwlQUB1FhKoqDqDAVxUFUmIriICpMRXEQFaaiOIgKU1EcRIWpKA6iwlQUB1FhKoqDqDAVxUFUmIriICpMRXEQFaaiOIjOK6vkCCtWrJDJkydLuXLlpFu3bt7W+Bw8eFB27dolBQsWlFKlSkmBAgW8X/I3Ksw8ZOvWrTJ69Gj7/YwzzrCZOhGiHbdq1SqZNGmSlChRwm4vVqyY3Z4Zpk2bJtu2bfP+is0JJ5wgNWvWtN+zKkz/uOLFi0uXLl2ylOY/I+rK/onA8mCBUlJSZN++fd7WzLFlyxbZsGFDQh+ul1OQ7gMHDnh/KWox85Cctph79+6VGTNmSOnSpeXEE0/MEbfQv1bRokVjWrSsWsypU6fK77//bl3ZNm3aSN26db1f8jdqMf9EIJpTTz1VmjRpkmN1NazY4cOHj4pF27Rpk/zxxx9SqFAhwT7Mnz9fdu/e7f2av1FhKjGhvoko9+/fb62nz6JFi2TQoEFpHyzfoUOHvF/js3HjRpkwYYJ1uRs1aiS1a9eWHTt2yC+//CI7d+709sq/qCsbxogRI2zGwEUkI86bN8+W4jwm3DmCHSeddJIcc8wx3hHxAxi4mKNGjbLnbd68uTRu3NhuD7qkHTp0sOchgIMIsHgEcci0xx9/fDoLGM2VjZUO0r9kyRJZvHixTQdWkHMee+yxUqtWLZsu3MkgCI3rICKoWrWqnHbaafY4hDlnzhy7HTg/FrVChQoxXVlEPnfuXJsOzl+nTh1p27at/T5u3DhZv369fc5NmzaV+vXrZ0hTfkEtZgTIPLNnz5YpU6bYQEqRIkVsZiHjkbl//fVXu09OgStHNHTp0qX2+3HHHWevR3Dlt99+sxk5OyAaorVYte3bt9vMzvm5FoUGoogkAO4Vd7N8+fJWcOvWrUtLS4MGDeSSSy5J+5x88sn2fJHgWa1evdoK75tvvrEuK9dr2bKlFSVCL1y4sJx++um2bkyhwfNg34kTJ9pAE9vyEyrMCJBR165da5sDgpkPq4alJKPMnDnT2zv77NmzxwqkU6dOcuGFF8qZZ54pF110ka0rwoIFC2zGzipYJ6wpmR8x9OjRw97PpZdeKhdccIEVQzhYbiwiYsNqt2jRwt47osKLyIyjxbUpzLgHRNiwYUM577zzrLiDngBixRvp3r27teIIevny5fbYzZs3e3vlD1SYUcBKhLt3NWrUkHr16tnvWA/ElFPg0lWrVs37y9QxTIbFnatcubLNoAglK+AWY4kREtdAFEEx4C7j+vpgmSh0sFR4CIgSkWAxESfH4k3g4mJNE4HrEnE966yz5OKLL7aFQ7AqEA7pad++vS1AcMlbtWolFStW9H7NH6gwo4AwI7lm1LNwbXFxcypIwXW4XjiIwM+QBEaw5JmFNGKRSTMCiwVtmMOGDbNWEZo1a5ZmtQGB4TUgHOqCWPJELCf3RzMI9xgsFOJBoVipUiUbGMpvqDCjELQiQUqWLGlLeyxLTllMXEzaHiPB9cjYWC+sX2ahnoqgqVNGuycfgkgIgcIASxWpLZSCCTcUt7t169ZxhbZmzRrrEmf3g/ucUwVhMqDCzCRkxMyU+q6A9YnkAQThvtq1ayddu3a1AahocK7q1auni/ryN3Vj2lGDrFy5MqLQMvsh6IRFzy9oc0kYNJdQdwo2awTBLaTpA2tJRBE3KyeaS6L1/Il07sw0l/jbaBbp3LmztcCJMnbs2ITrkT7URWlS8eHecfujQSBt1qxZNq3UQ7HskaDQIO14F/kBtZhRiOY24RrSKI7VCBdgNHAlY4X7Ce5Qh4yE74r6TTaZhTSSVtxgCpXMwDG40ASIypYtG/PDPpHcba5PwRHtQ4EBCA93PtI+fLhGfhElqDCjQHg+UkdwmlHIgFilMmXK2G2IhozF/pEyPw30seqjCM9vxA/CdupoQKaN54pGgjSSVtKclcguoiYyiwWO9WEf9lVyBn2SUcCCUa8JWjrqSzS6A00bfsifzM93rAU9YoLH4HaGnycSiIZ+oz7UMAh4UK/CUma1czfpIhpLwbFs2TL7CUKB4YtfcQcVZgT85gsa5ukH+sMPP8jQoUNt307ER+Qy2IyAG4dwyPzU6b7++mt7DD1XfvzxR2v5cMWiwQBhBERDOsdyzODBg9P1sqE9M6vQdkk0FZeZHkBfffVVWh/XIUOG2AJAcQsVZgQQElFGmgOoA9GRm/6yWC76bxLcCK/vIFT2J0CBALCUuI9YVqKVkdopffiNSCidF7CUWEkKAM5FQISOBtmBtNK8Qbc5P31+/RE3l3tV3EKjsmHEi8rmJ/xnkRnidWIPJ15EO7+iwgxDhXkE+qlmdpYCLDI9hBKFejUd9REmVt2P0uZ3VJhhqDAVF9A6pqI4iApTURxEhakoDqJ1TEVxELWYiuIgKkxFcRAVpqI4iApTURxEhakoDqLCVBQH0eYS5ajBbHtMhUnf2VNOOcXbGh9Gv9BHl4HX+XXNTBXmUYIREwxKZpwmcwMlKwwPmz59ekKL/SAkhr/5U25mVZg64kRd2aMGMyBQ5iX7lIuMTaVTv78mZqwP06Nkdl6hWGA5GTOaH1GLeZRgbiDWfWRgNbMH5BYIaeTIkdZ6ZWZcZGbwLRqTZMW6RlYtpq6ZqRbzqIEYGV+Ym6IEFg062mtMYskoz/2ZEHISrLOumanC/NPB0gU5LZZwmGrFn4k+OJCaAc/+XEJ8/DmLEkXXzDxCvnZlGRTNC8/MWpgQPA5Yro/jOY6Jr1g0h0V5mAHAd+N898xffiBSpHHhwoV2qXZmAfCDHlyHdLGIERMncw2OZWY+0uYvRISlZKItPx1BsD7+5NTA78z2x9oj/v0yBSeTjDFvEUGXaAQnrwZWROMYQJi4uT6IF6saz5VlH0Ssa2YeodATBu97voNVsAhWkDkRBRmJiavIyAQdmBSLDwINZgaOI4MyOx6ZkUzKceyDUBAf7hiWhdnxWCWMzM80kVgzfufYIPzOUgBYIKab9EWEoMns/I4YaT4gw7Ify9ohIq5BGkgracDiUJiwzAHXQehMuMV3zkP9EBfRn4yLc3IM4maKTubtiSZOZk2n/oyLTgGBlfPTwL0z64P/4XdE5T+DIIiR81AHZS1M9uMZMnMEBQ7Hci88B9KMi8v9UriRToRKwRWpgPszkO+FiSjJ5JT8LCHAQjpkKjITmQVXyp/tzscXNEJAxKzXwZofHOs3FYQLk7lsyFhcjwwVPh0llg4LRkbj+v4iQ4iJfbE4pJGZ9LDKpJljEBTBEfbD0pDhSTeBGWbe4ze2+wUBVonrIFzqwCxxx4rVTJFJ5ifTI3IEEW6ZEDMFGMcSlKGgoLDBmvviDML5ogmTpiQsPM8XQWIJWUmMew2Kje9s4x4oDEkf9811IxVwfxa0jmlg+khK6mBGjLcWpj+BM6IMijYalPB+IIjMitULwjUQGdbNFzdg9cJFQmblmhQKuLd8EoFr+q4m4g8WDoiDZfdIJwVKcKFY0oVrjrXk2qyTSboQC3VBCi5ENn78+DQXNx4cq2tmRkeFaUCYZPJwEFKstTDJGJnJHIiJjO+7nT64arh1wDXZ52iA4Lg256c+GQ6FAuLA6rIvYPlZM5P6Ms8CMSEqH+p91DH5DTcYbyIReN5Yc5590ELGgwIqP6yZme+DP7hb0WbEw10NX9kLEplJLzz4A1gszoc1wu2lLgXU0whyAO5lUOyIBPeTJRRwX/k7uNwC9cNg7xi/7TDS/K5++2O4tY6Ef29cj6goQooVGGI/rH6VKlWs9YVo7Zi4ocGCKasgUur/PIM/G2oxY0BJnpnSPB5kbn/WczKxLxCsJUEh6mwIygfxY63I3Fgw6lMcj5Uis4fXARMF4SB+LE+0D9bT35foMwVGNFEC++H++6IE6q5nn322FXkQXTMzPmoxc9FiAgJjbUtESWanrsY1yGDU3QjsAEL9+eefbaADEXXs2DFdHcy3foglsxYTV5ZAV7RVrKORYlx6LHui9UgfnpvfpAI8T84VDbr35fc1M9ViGqJlNFxHAh9YJj/jZxesIlFKAiZYSgTJ9RFdMBjDNiK41N0IysQKjCQK98C9cO3MigsowykwcFtxH7mPWB8i0ezP9YKQjuDal+EfXTNThWnJzFqY2YXMRhCI/7EMRGjJvH5m9iE91CUREuIMh3ppInXFIJwfdxhh0VyRVWeJ9LBAEZY61ic/9nHNKVSYhsyshZkTUE9E7FhkruMHMYLgoiEAREtkNAhrcOImRwK3j/NhERFvEH6jCYhCgTZVhnMF7xmw0kRWua6Sd+R7YRKQIWSf6FqYOQFWi2tiFSkUcO2IZgbBhWMbVo0ueQSBGDXCupkIit8judcUIoiac1OXZa1N7gcxA50UCMoA24JrZX755Zd2X+qpmbXGSs6S74VJBsSCEZxIdC3MnIAIpt92ikgj9WAh8EGzCpYzaAHZRq+eSFFSxEqnB86JNaQOSwHjXwtriRvqB56A330LyTYKIl11K2/RqGyc6KpyBKKpwQ7siRIemY5HtIhzfkKFqcJMGLwLgkaxmjoigfXGxU4U6tT5fc1MFaYKU3EQjcoqioOoMBXFQVSYiuIg+bqOqSiuohZTURxEhakoDqLCVBQHUWEqioOoMBXFQVSYiuIgKkxFcRAVpqI4iApTURxEhakoDqLCVBQHUWEqioOoMBXFQVSYiuIgKkxFcRAVpqI4iApTURxEhakoDqLCVBQHUWEqioOoMBXFQVSYiuIgKkxFcRAVpqI4iApTURxEhakoDqLCVBQHUWEqioOoMBXFQVSYiuIgKkxFcRAVpqI4iApTURxEhakoDqLCVBQHUWEqioOoMBXFQQqkpKSEvO+KojhCgQULFqgwFcUxCmzevFmFqSiOUSBk8L4riuIIGvxRFAdRYSqKg6gwFcVBVJiK4iAqTEVxEBWmojiIClNRHESFqSgOosJUFAdRYSqKg6gwFcVBVJiK4iAqTEVxEBWmojiIClNRHESFqSgOosJUFAdRYSqKg6gwFcVBVJiK4iAqTEVxEBWmojiIClNRHESFqSgOosJUFAdRYSqKg6gwFcVBVJiK4iAqTEVxEBWmojiIClNRHESFqSgOosJUFAdRYSqKg6gwFcVBVJiK4iAqTEVxEBWmojiIClNRHESFqSgOosJUFAdRYSqKg6gwFcVBVJiK4iAqTEVxEBWmojiIClNRHESFqSgOosJUFAdRYSqKg6gwFcVBVJiK4iAqTEVxEBWmojiIClNRHESFqSgOosJUFAdRYSqKgxQIGbzvSQHJXbZitYyfPF12794jJUoUl86d2kq1KpWkQIEC3l6ZY9++/TJn/mKZOXehHD50SBqeUE9antRYSppzx4P0rNuwSVauWiMN6teVcmVLe7/Ehmsu/H2ZFC5cWBqa4woVSl9GHjp02P6+c+cub0tsjitfTurXq+X9JbJ67Qb5Y/Va76/I1KheVapXreT9lYp/P+Mm/CZbt26326pXqyyntmlhrlHW/h2PzVu2mXf0h1Q17yT8/JHYZd7j9FnzZeHipVKwUCFp3qShNG18ghxzTFFvj1QSuSefY445Rk5sdLwULVLE23IErjdl2mxZ9Pty+3e5cmXk9A5tpHLF4+zfLpBUwtyzN0Xe/uBzGTF6ghw+fNjbasx+wYJyxSXnypWXni+FzYtNFG6dDPHiv9+XrdtSM6FPieLF5KZresqZndtnEDzHbduxU2aYY7/9cYwsWLTUpueZR+6W1i2aeHtl5MCBgzbDjv51sowcM0F27NwtbVo1k4f/fpMcazJSkJR9++TZlwbYDJQI5511utxx41XeXyLfDB8lb73/mfdXZG7pdYVc2L2L95fIxs1b5OU3/mufSTg81yt6dJfLL+ke8Rnv3LVb5i74XX4Y+YtMnT5HDpoCLvz84fAc2f+dj76U3Xv2eltTKVe2jNx/1/XSolkjb0ti9+RTs3oVef7JPlKuzJGCkuuNmzBVXn374wzXIw9dfH43+VvPv2QoEPKCpBEmFuS9j7+SQd/+JDWqVZEbr7lMTji+tsw2Vu71dz61peCt110h5599hndEfGbPWySPPfuqzWicr33blsZyFZIJU2bIgA8Gyr79++XRPrfKyWFiW7r8D3noqZeMsNJbs3jC/Pd/PpFhRshBogkTEX83cpysNVYiGntSUqxlo1B4qPdN0q71Sd4vIl9/O0IG/HegtTz16x6xpEHandw8LeP/sWadPPL0K7Jh0xZjaerLlT3Ok+Pr1pR9Kftk6PejZch3o6zYbu51uVx4bpd0hdXW7Tvkgb4vyqrV67wtqcQT5k+jx8srb34oFYwlvsW8O7wUPIkffx4vn3wxVEoWLy7PPHq31KlV3e4/Y/YCmTR1pv0eiZD599uMefZeLureVa6/+tK0QoRszrN/+/3P7d9ndekgfzH3QQHMeQcO/k727EmRx++/zXg+dew+eQrCTAaM2xHqcc3doZ69eocWL1nhbU1l4tSZoQuvuj10/Z2PhtZv3Oxtjc3Bg4dCL7z2XuicS28MfT9ynLf1CMZVDv3lyttCT7/wZsgI1Nuayq5du0NTps8JTZwyIzR2/NTQ7fc9bc9jLIW3R2RIN8fw+XjgEHuMKRhCe1NSvD0Sx4gx9M3wkaHuPW8OvfXeZ6EDBw96v6Ty2oCP7fkHDxvpbYkN5zMZN/TdT2Pt9yD8/elXw+z5brrn8dCWrdu9X1Lh+Rgrm3Zvjz7zStxrm4I0dN/j/ewzNsLwtqbC9b4eNsKe450Pv8yQnmj8vnRF6Kob7wvd1uep0MZNW7ytqRhPxf5GPuHdhp9z67Yddh9XSJrgz7iJv9k6JXWdurVreFtToaQ9uUVTUwdZL7PmLPS2xmbX7t2yZNlKKV2qpJxQL2MJeWLD46WaqR+t/GNNBreHei1WFIvTplVTKW/qKIlAHZBj+DQy9djssMLUaQd+/b3Uq1NDLrvonKgufNUqFb1vscECdj/zNDmnW6cMrjt/tzWWvXSpErJt+07j9u/wfkmFehyW17+3ypUqeL9EZ9Pmraa+uN7se5zUqlnV25oK12vZrLF1Q1eY54/nEg9c/0+++FZ27dkjva66RCocV877JdVajhwzUTZv3WYt6SkmjeH3WLZMqTTL7AJJIcy9xp1CRNC+He5m+mSTMZqd2MB+nzFngXV7swv1jIoVynt/uQUu5aChP1kXsudF52YoGHAHN23Zar8XMnWnnIGMnD4zH01Kly4pJUvGD775TJk2Ryb9NktOO/XkdPVSoDCZPG2WLYRPa98mgyhdJCmESWRyzbqN9sFWKH+kJAxSu2Y1W4FftXqt7Nmb3sJFomSJEqYOVcvWExcvTY3OBdmxY5etM1GSRors5SXzFy6RsROm2vosFjsc6lrGU7MWLtEocTx4rjyrKpUrmAIr8jvIDFi0GtUry/oNm2XlqoyR1g1m+6Yt2+w7L1I49vMnXV8N+dFG0S86r1sG72H1mvWybv0mk0eqWgudDCSFMHft3msq5nulVMkSViiR4AXyYnabfQmcxAOre3aXDtYyvvfxIJk6Y651eXwmTJkpGzZuljM7d7ABAlfAG8At4x7P6doxQ9AIuI1DxqrCoiUrbNDp1nuflDvuf0be/2SQdfmD9xqPpctXyccDh9qCj+Aa7yG78Ex5tlh/0sc1fLjHUeMm2aAW7yjcQwqHpq7FS1fYag4FdDg0/+w/cECqV6sixYsda+8db+M3887nmUION9g1kkKYiDLFuLMFCxaQAuYTC8L2uC6JQMSSSC51mL7PvSZPv/CmqVOute2HXwz+3lqjDu1aeXu7wZp1G2xzBHXLJo3qe1vTQ0bbuGmLbY7p/9aHNhq5fOVqWx0YaO7rpnv6GqENsaKIBHV5Cir2vfexfnLnA/+wzUl33niVdDv9VG+v7NO5UzvbzMU93f3gs/L6O/+zhSFu5w+jfpFzu3aSxqauHwsEN2rsJGslOV8kEfsxAgoURPrAE/+Sv97QRx79R3+599Hn5bJr7pH+b39km+NcISmEiXB4AbHAkma2JKeu0cnUSdq1bm5LZ5pJbu7dV+556DmpWaOK3Ht7L1vCusREk0aCGC2aNrZeQiSwRjT9UNfq/9zDMnzg2/LdFwPkiw9ekR4XnGn3+WzQd/L9iHH2ezjrN26RF15911rXeQt+l2LmGdBG2i1Cm252QEzndjtNGjWoZwuJb38YLdfc9pA81e8N6dyxrfT6v0uiBrV8VqxcY+MKBJDq1MpoLcGv2qw3orzvsRfkkHnXtJE+8cDtcsPVl0kp8xx5Fv3f+ihuPsstkkKYiUCAaP/+zD3U9aZ0fvipl60b9a+n75cH77kxLTI3a+4i+fCzb2wgxRWwhLON2wbNmjSIKhLqxNf+9WJ57vG/2zY5fz9c/V5X9bCRSQoirNL2HRm9i8oVy8t9JuOSeYnSFjJeyvP935E7jSuM5c0pFhs3G4vF+V9/4XHrvVTyet/QiYT202hW3QdXFAtfv17tqAUVPZHgl4nTbLvq80/ca60rEWQKqqcfvlOOK1fWFnrzFy61++Y1SSFMeoFEe+g+CAjLShQyXp0ECBg899IAG7Z/8J4bbKM63bLeePFxeeTeW2wmpgT/4H9fx80cucXmLdtl+YrVthkhq93HeDZdjTvK86SLG0GRcPzmIDLv3Tf/TT56u59xObtbN/+F196zzyy70AngmRfflJLGy7n/rhusa06D/3/6P2U7MRQqXMh2KBlu3PBo9WHq2XMXpBZUdKKIVlDVrJ7aHHN2l45ysRFiuBWuV6emvVes5W8z53pb85akECaZCcGlpOy3vTMiw8sL2RA7ofZ44LZSl6QEJTrrw8vteEorefaxe2wpSu8boqAuQL0RN7aisWiJtp1Goly50lLGPKO9pk5Fj6l4YIEvN3VBosB4Fz+Pm+T9kjUQ2g8jf7VR16suOz9dmyPXwqLTk6lIkcI22kqwKhK4qETOOaZ2jchuLBQ2IgdiFJFcY965HzTasnV7jjS3ZZekECb1xzLmQ+Pxrl27va3p4SUT7KDtMVKkMgjWFWHyQhs3iBxcQKxdTj/F7jtl+hxva95CpwJcUJpASHtuwjOl0R+IgCYS+Y4G3srUGXNswVe7ZuRG/VYnnWg7NdBFcMGiZd7W9OBBICTq1KVKRY8vVK9a2UaUaduNVjXxm5VI24GDeV/PTAphFi9WzHZKpoRfvipyHYeQOSCoYsfGFqbfznfssUWlePHowR0yDhAVdgHaEoG23Ox0tMbrwPsgqJPICJpwUkzmPnQ46+79YWMxac4pWrRI1HeFtfSrL+E9r3yIFCOkeF5StSoVbd11xaq1EevUQLQWKiVQsOcGSSFMXlLbVqkdtH+dND1DuxMPe/qsedaKtG6esRM5YfBgCV+oYCHz8ItaC0vpHwncLb8uRcf2vIaS3u/NgwWIxSpTF4wW+ue+GGHBSBKGZNFhAHBpCaREq89R/2L0CFStXDFbmRd3kkIB1zy847sP1/ObvXxXNBxfTPG8JIbEMZRs3fqNtn06HK7lj6hhYIQLJIUwoW3rZnbcIo3CP476NS0D8f+IMRPl96UrpXmzRtLwhPT9Xof/NFYu79Vbburd1wY7AKHTTIJ789FnQ9LG5QUhYkhdCstEnTOvwcr4hQvpjgZtlQ899bIdNRNeN+NZjR0/VT4bNNyeg2BImdKlbHDrk4FD7QgRmkjwTIKQcQcPG2nd/5x4HlhpOgNwXkbAEB0PQjp5z7i7WLDmTRt6v6THj8JTcEaJ+1iIUdAZg6AW7dN+904fRMm1KHBaeO56XpNU4zHpC/ncywNsBqWNrlb1qrLSuHcM2yFS+eRDd6QL5GBZg2MaaYtj3CKQGd/98EsZPHykzWw0nPvWlsjciDET7HUIRATb06INcQoHN4zmCqKNkOhYwvBxlT7B6z5y781GHK29X9JD08Eb730mo8ZOtOKrUa2y7UdM8GzWvEVpzR3hw6Kwhv36v2PrdDyPFk0b2YyK5UUkBJ04383X9pQLzumcFgENf8axCA6L47z9Xn1HJk2lD2sJ257ZuEE9U787KGN+nSITPctGhJZnEini6g+jI8rc+9ZrrACjQTYf+v3P8vYHA637TASeDibTjKc1etxkGwUOHzqXlxR6wuB9dx5cL6zmtJnz7IDjBYuXyVrjnhBR63Pndfa3IJSkzCxApkMojMLw641kshYnNbbNDljHGbPny5jxU+yHvxmtf8+tV8uFJgMHO4KTEUeMHm/rNrHwxe4HFRaatFIqx6PB8XWMd5AxcwSvi6VjxoZIUG9r37aFLaAQIQEj7meh8QpwDREBjeo9Lz43XYQSy3Rah5PloCmMlixfZY/j+fJ9b0qKraP9/fZrpetpp6QTCQUcY0LXxBg36tPFHOunG68Fq8n/PBve6WgjSM5Fs0y9ujXlQSOUDu1aRhQlTDaFAffGSCBGjMSCc9CmS9MIYzYZi0u1iLG1Fcy9P3DXDbaJKNq1cpukm1oEyAzU/2iDo4dO+bJloj5Qbo8XjfsUbWoM9mFGAupmTPWBlaEXkSsvKTtgmWhgp6tbndrVYz4rH57vTlP/JtjE8yDwxvM7Ws+D6203hQYFCRF4CoGjfb1E809ekZTCVJQ/O0kT/FGU/IQKU1EcRIWpKA6iwlQUB1FhKoqDqDAVxUFUmIriICpMRXEQFaaiOIgKU1EcRIWpKA6iwlQUB1FhKoqDqDAVxUFUmIriIEk3HpPkLluxWsZPnm6n0WAel86d2tqR8YkOdmXeUOaUZRWxRGAyJ9a2DMJg25mzF9hJwDgfc6Oe0bFt1MHYQTiWpQdYH+TA/gNSpGgRaduymTRpXD/qPTAPz8SpM9PmJ2KCaqZ3ZKaEaDCB1/TZ82XOvEU2jVyHUfocG2l+1SC5lcbsPEfgHnmXDOhmBovw6UVy4l3nBUklTEbjv/3B53b6fOZX9WGaEBanufLS8+NmOMjMPDUQPg8Pk0cxizsvPAjXvqJHd7n8ku5R08GEYP98ZYCdPCwcMnKfO3rZuXaCMKdRv1fftdM1BmHJe+b/CV9wlVf6w8hf5J2Pvow49SP7P3D3DRmO88mNNEJWnyNzMTG1zOhfJ8vIMRPsbIfRlszP7rvOK5Jmzh9Kvg8/HWyXLWD6xntN5rjp2p7S4PjaMnPOQpk2a76dkCuR9fMpihB5DXMeVnaO9KlVs5pdk5MSmAzCdCPABMNP9XvdzjXDhE6P3XebzUQnNWloLcX4yTOkTKmS6dYM8WF+mcef7W8n1CKD33Xz3+TGay6TNsYSISDmoWHunYYn1E07luk2nnnxLTv1yYXndrGCuuCcLnbKTvYnUzPfDdNBAqJkzZV3P/7KTufZ44Kz5N7br7X3QBo5Hx/mQWp38kkZlhjMjTRCdp7jm+99Kq8O+FgWLFoq+7yZ8sgTnU5tbS1nkOy86zwFi5kMmJcV6nHN3aGevXqHzMv0tqZi3Ce7tv71dz4aMqWwtzXrGGsc+mb4yFD3njeH3nrvs9CBgwe9X0KhgV9/Fzrn0htDff/5WshkVG9rKiaDhq6+5QGbTtIbZG9KSujJ51+3x77x7qehffv3e7+kwjXmLVyS7loHDx4KvfzGf+0x//7PJ+l+49qkgd9IU5CNm7aEXnnrw9CGTRmfxboNm0K9bn/YHjd42Ehvayq5mcasPkfg/U+cMsN+Ph44xJ7nsWdftenPLLHedV6SNMGfcRN/s3VKZlarWzt1Skiflic1NnWnpnYe1VnGemYXZogb+PX3dupJZtbz3SlWFGPJN1zn88/unGGJPmbrY2FX0sn8reb5er8wS95yOw0k9SDW6whf4oBrMH1j0HVjQmNmj6MefVbnDul+49oXn3emPc8vk6bZdUF9qKexGFDF4zIuVW/nafWWQvdndvfJrTRm5zkCdUBW6uKDxcsO0d51XpMUwuRF+pP0tm/XMkMFnxfP3KnAC8ftzSoEIwYN/cnO49rzonPTLd5DfYXZw5nBjZnVIsG8qUwROWvewrQFe8hYv5iChQmOWVUq3splPhQ0zJje0LhzNapX8bYeoVaNqnYmddzORKaPBNzC4HScPrmZxqw+x5wm1rvOa5JCmETUqAOQWVi3IxKUspTAWAF/odKswMpeYydMtRmDFaUzC9HE8uXKysaNW2w9CshYi5Yst3WsRqZulih+YUSgJdIaH1iaqlUq2mgoGT8RsFrUCSFobVxKI0R6jjlNdt/10SQphLlr9167sA9zvTLvaCQQLSXwbrMvUbusgKUdOWaiPZ4p9aOvh4Frld698qFpoKJxF7ebwmTrth12G1HDrVt3WOvAb4DVYK0QXEdK7HB3DfwFV6OtVcK1/IIq6MpGA2uIhZi/aKl1V1l2widv0pi555iTJP6u84akECaiTDHuLOsbFjCfWPDy/cVoMsuadRtk6vQ5tr7RpFF9b+sRShYvbsP+sRYjIkI8a+5C25zDilZAWxuL6pYoUcyukvXeJ4Psuv+spvzoP/rLX2/oI3c9+I80SwZkGH+2dzyBeERbQ5ImD9Zg6f/2R/K3m++365awFsgjfW5O567mZhqz+hxzknjvOq9JCmGSYSjtY4ElxaJmB5b6Zo2OFk0bR6xjMZ0/7WVkwvDFiLAmtJW99PoHNpMHOWDSfuDgQTHFivTr/65th732qkvkiQdut8up0yyBgPo+95pdaRkQB8vdxSPeyl/fjxxn2xe/HzHOCoHgWe/brskQGMrNNGb1OeYk8d51XpMUwkwEAkT+6k9ZAbdttrfGZrMmDTK0nfl0aNfKrg3CS8Wa3PPQc9Ya3XDXY/JUvzfk4vO7SavmJ3p7p0L9jToW7Xks/8dy8qz9T1SRQMvTD99l2xRZ0IeVliO5jNHAxYzFOV07WXH1MiJDXCzMdN3tj8gnXwy1wQ+f3E5jVp5jTpHou85LkkKY5Uy9J16p5rtiRBxjrfoUDVYnXr5ite2kwEJD0SCYcZ+xIHffcrVdY4OMzLKABCv6PXWfDfNjfUgv6QY//awBcudN/5ehnhxsVvCjkNR5aNqIh7+obrQ1PP2mhZ4XnSP/evp+ee35R6RK5Yryvy+HyfAfx6QJLLfTmJXnmFMk+q7zkqQQJkJDcKyCzGrIkUkNJMRbXTgahO8pvStWLB83bE7mJGDw7mvPyHdfDJBhn78l/Z7sY9v4yIQbN2+T4sWLSUlTXwM//UCf00jQ9shalbibWC7wMzLpigSiOuR1TYy2+lc4rHZFTx7a64Z897NJq784b+6nMbPPMafIzLvOK5JCmJTeZcxn1549sitK9HHTlm02wxDJy0qEjYZmAg0sm0eGySobCO+btGB5/AIiLf279siOHZE7U7PkPEvPkyGJQgNtgEBzQaS2Wep3rOIFNEkkSv26texzIoNu2JB6vGtpjPQcc4qcetdHk6QQZvFixewLopRevupIVDDIHK/OwLqQ0db1j4XfC4bQfqzRELHAOlCHI1BFqe8XECVLlLDpoq4V3tvGBzEgijImE5Yrl7qmZu0a1WzGWWHuedfujAUSYlj1xzobyIkXBIoE6cT9B5fSGO055hQ58a6PNkkhTKJ4bVulLubKYqNU3oPQWZphQ2QQf1XoIHRijtW2Sf1005ZUly4rGdyHkpimCbqn0UXQBzeRQAdRyB9/Hp8h/bBg8VIrilomo/sdy2vXqmbXtFy5aq2pg2Vcjn7O/EW21w0dvStWONLxgvparCYjGvqxltSxcE8ht9MYi2jPMSfIqXd9tEkKYQKN4TSK09hNkMAPWvD/iDETbSifPqANT0g/umT4T2Pl8l695abefYXhTJE4bM7hCzdeexwiZ8l2FsMNwhCmV9780NZdzu7cwdblgjBqgvay8PQDi6hS3+PajLTw3SuafwiCED3976eD7X4+9FEdPGyk3fesLh3SjqEnztP93pSHnnrJjiAJXgdIN+nHGjUzaQq6l7mVRsjqc8wumXnXeUlSjcfEvXnu5QH2wbYwIqxVvaqsNG4JYwEp/Z986A7rjvlQ6gfH4jHOjvF24WAFHuj7orUkjB3seEpr75eMDGEd//c/l4IFCkjL5idK9SqV7HLz9NGlNKZJ4f67brBRx3AQTd/n/m2vR/pPb9/GWpNhP4614xgv6t5Vrr/60nQdqcnA/V59RyZNnWWjk1g1YFhUpGNIA+MwKZCoRxFwoZN/kcKFZcnylTJ/4VIrIjL8kw/ekWYxfXIjjZDV5/jN8FFW0PGINq4yM+86L0ma8ZhQvWolazUZzcBA2QWLl9mXST/ZPndeZ38LQsRwpXGLsByE3Rk9cFy5jCPjEfCI0eOFXixnd+kYM8LZ4Pg6trlh7oIlNhOTBnq0FC5cSC79y1ly63VXRq3jEgE81WTaJctWyUyTASdOnSmz5i6ylunKHt3lqp4XWAEFsY3xLZvabml0paMxfvGSFXLQFE49Ljxbrr78wnSWiHSwP8LDJSQDsj/pJKCCleh6+qnS547rIkYkcyONkNXnuNDsN3XGHO+v6HD+tq1Tqz9BMvOu85Kkm1oEKPETXUOf28Ndoh8tbWQ5BefdYqwB7WG0w1WpVMFm0ETgWL8zORYm0WOxTBxzTNEiUr1a5YSCIhxDf9b1xq1kADBTZyRyrdxKY3ae45+ZpBSmovzZSZrgj6LkJ1SYiuIgKkxFcRAVpqI4iApTURxEhakoDqLCVBQHUWEqioOoMBXFQVSYiuIgKkxFcRAVpqI4iApTURxEhakoDqLCVBQHUWEqioOoMBXFQVSYiuIgKkxFcRAVpqI4iApTURxEhakoDqLCVBQHUWEqioOoMBXFQVSYiuIgKkxFcRAVpqI4iApTUZxD5P8B3NSWmd2F5dYAAAAASUVORK5CYII=)"
      ],
      "metadata": {
        "id": "fkOZ7PLZ06Be"
      }
    }
  ]
}