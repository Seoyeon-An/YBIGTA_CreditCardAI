{
  "nbformat": 4,
  "nbformat_minor": 0,
  "metadata": {
    "colab": {
      "provenance": []
    },
    "kernelspec": {
      "name": "python3",
      "display_name": "Python 3"
    },
    "language_info": {
      "name": "python"
    },
    "accelerator": "GPU",
    "gpuClass": "standard"
  },
  "cells": [
    {
      "cell_type": "code",
      "execution_count": 1,
      "metadata": {
        "colab": {
          "base_uri": "https://localhost:8080/"
        },
        "id": "5rMHbP9LMK6e",
        "outputId": "d02e0887-7196-4425-c20d-5ed85b57a656"
      },
      "outputs": [
        {
          "output_type": "stream",
          "name": "stdout",
          "text": [
            "Mounted at /content/gdrive\n"
          ]
        }
      ],
      "source": [
        "from google.colab import drive\n",
        "drive.mount('/content/gdrive')"
      ]
    },
    {
      "cell_type": "code",
      "source": [
        "import numpy as np\n",
        "import pandas as pd\n",
        "import matplotlib\n",
        "import matplotlib.pyplot as plt\n",
        "import seaborn as sns\n",
        "from sklearn.covariance import EllipticEnvelope\n",
        "from sklearn.metrics import f1_score"
      ],
      "metadata": {
        "id": "aOEbevS_NEL3"
      },
      "execution_count": 2,
      "outputs": []
    },
    {
      "cell_type": "code",
      "source": [
        "trainpath='/content/gdrive/MyDrive/YBIGTA_CreditAI/open/train.csv'\n",
        "testpath='/content/gdrive/MyDrive/YBIGTA_CreditAI/open/test.csv'\n",
        "valpath='/content/gdrive/MyDrive/YBIGTA_CreditAI/open/val.csv'\n",
        "submissionpath= '/content/gdrive/MyDrive/YBIGTA_CreditAI/open/sample_submission.csv'\n",
        "trainsmotepath= '/content/gdrive/MyDrive/YBIGTA_CreditAI/open/train_smote.csv'\n",
        "\n",
        "train=pd.read_csv(trainpath)\n",
        "test=pd.read_csv(testpath)\n",
        "val=pd.read_csv(valpath)\n",
        "submission=pd.read_csv(submissionpath)\n",
        "train_smote = pd.read_csv(trainsmotepath)"
      ],
      "metadata": {
        "id": "xWN-Xc-oYZLk"
      },
      "execution_count": 3,
      "outputs": []
    },
    {
      "cell_type": "code",
      "source": [
        "train = train.drop(columns=['ID'])\n",
        "val_class = val.Class\n",
        "val = val.drop(columns=['ID', 'Class'])\n",
        "test = test.drop(columns=['ID'])"
      ],
      "metadata": {
        "id": "JeDsDbOFRR5g"
      },
      "execution_count": 4,
      "outputs": []
    },
    {
      "cell_type": "code",
      "source": [
        "ele = EllipticEnvelope(support_fraction = 0.994, contamination = 0.00112, random_state = 22)\n",
        "ele.fit(train)"
      ],
      "metadata": {
        "colab": {
          "base_uri": "https://localhost:8080/"
        },
        "id": "5h_evvsFKdot",
        "outputId": "0df009a2-ec7d-4adb-ffb7-0134a338ce48"
      },
      "execution_count": 5,
      "outputs": [
        {
          "output_type": "execute_result",
          "data": {
            "text/plain": [
              "EllipticEnvelope(contamination=0.00112, random_state=22, support_fraction=0.994)"
            ]
          },
          "metadata": {},
          "execution_count": 5
        }
      ]
    },
    {
      "cell_type": "code",
      "source": [
        "def get_pred_label(model_pred):\n",
        "    # IsolationForest 모델 출력 (1:정상, -1:불량(사기)) 이므로 (0:정상, 1:불량(사기))로 Label 변환\n",
        "    model_pred = np.where(model_pred == 1, 0, model_pred)\n",
        "    model_pred = np.where(model_pred == -1, 1, model_pred)\n",
        "    return model_pred"
      ],
      "metadata": {
        "id": "D4LvZ9o-OvDy"
      },
      "execution_count": 6,
      "outputs": []
    },
    {
      "cell_type": "code",
      "source": [
        "val_pred = get_pred_label(ele.predict(val))\n",
        "f1_score(val_class, val_pred, average='macro') #0.9236496787663914"
      ],
      "metadata": {
        "colab": {
          "base_uri": "https://localhost:8080/"
        },
        "id": "d5Os87sPO1rO",
        "outputId": "bde4bc7b-b241-49ca-c789-a9f6ec0700a7"
      },
      "execution_count": 7,
      "outputs": [
        {
          "output_type": "execute_result",
          "data": {
            "text/plain": [
              "0.9236496787663914"
            ]
          },
          "metadata": {},
          "execution_count": 7
        }
      ]
    },
    {
      "cell_type": "code",
      "source": [
        "#trainX = train_smote.drop(columns=['Class'])\n",
        "#trainY = train_smote.Class"
      ],
      "metadata": {
        "id": "Bo-6iov-nx77"
      },
      "execution_count": 8,
      "outputs": []
    },
    {
      "cell_type": "code",
      "source": [
        "train['Class'] = ele.predict(train)"
      ],
      "metadata": {
        "id": "w5c_iKo_TRM5"
      },
      "execution_count": 9,
      "outputs": []
    },
    {
      "cell_type": "code",
      "source": [
        "train['Class'] = get_pred_label(train['Class'])"
      ],
      "metadata": {
        "id": "s9m7hG8STe4d"
      },
      "execution_count": 10,
      "outputs": []
    },
    {
      "cell_type": "code",
      "source": [
        "from imblearn.over_sampling import ADASYN"
      ],
      "metadata": {
        "id": "r57jL5mntmAV"
      },
      "execution_count": 11,
      "outputs": []
    },
    {
      "cell_type": "code",
      "source": [
        "ada = ADASYN(random_state=22)\n",
        "\n",
        "trainX_resampled_adasyn, trainY_resampled_adasyn = ada.fit_resample(train.drop(columns=['Class']), train.Class)"
      ],
      "metadata": {
        "id": "bnGmAyjvtpqT"
      },
      "execution_count": 12,
      "outputs": []
    },
    {
      "cell_type": "code",
      "source": [
        "train_adasyn= pd.concat([trainX_resampled_adasyn, trainY_resampled_adasyn], axis=1)"
      ],
      "metadata": {
        "id": "-qBMRlTLiBMu"
      },
      "execution_count": 13,
      "outputs": []
    },
    {
      "cell_type": "code",
      "source": [
        "train_adasyn.to_csv('train_adasyn.csv', index=False)"
      ],
      "metadata": {
        "id": "StNzZMh0jc3c"
      },
      "execution_count": 14,
      "outputs": []
    },
    {
      "cell_type": "code",
      "source": [
        "from xgboost import XGBClassifier\n",
        "from lightgbm import LGBMClassifier\n",
        "from sklearn import tree\n",
        "from sklearn.ensemble import VotingClassifier"
      ],
      "metadata": {
        "id": "FmWpX-6oUWiC"
      },
      "execution_count": 15,
      "outputs": []
    },
    {
      "cell_type": "code",
      "source": [
        "xgb = XGBClassifier(n_estimators=2000, max_depth=6, subsample=0.5, learning_rate=0.1, objective='binary:logistic', random_state=0)"
      ],
      "metadata": {
        "id": "wMhaPFf4U_9V"
      },
      "execution_count": 16,
      "outputs": []
    },
    {
      "cell_type": "code",
      "source": [
        "xgb.fit(trainX_resampled_adasyn, trainY_resampled_adasyn)"
      ],
      "metadata": {
        "colab": {
          "base_uri": "https://localhost:8080/"
        },
        "id": "yktmwtglVF2l",
        "outputId": "bd878ccf-165a-4327-ee58-282c94db4341"
      },
      "execution_count": 17,
      "outputs": [
        {
          "output_type": "execute_result",
          "data": {
            "text/plain": [
              "XGBClassifier(max_depth=6, n_estimators=2000, subsample=0.5)"
            ]
          },
          "metadata": {},
          "execution_count": 17
        }
      ]
    },
    {
      "cell_type": "code",
      "source": [
        "val_pred_xgb = xgb.predict(val)"
      ],
      "metadata": {
        "id": "eIgEhhldVCTx"
      },
      "execution_count": 18,
      "outputs": []
    },
    {
      "cell_type": "code",
      "source": [
        "f1_score(val_class, val_pred_xgb, average='macro')"
      ],
      "metadata": {
        "colab": {
          "base_uri": "https://localhost:8080/"
        },
        "id": "h4QxhEnLV3t5",
        "outputId": "b8599d34-6dea-4d74-8444-94b3462bb63f"
      },
      "execution_count": 19,
      "outputs": [
        {
          "output_type": "execute_result",
          "data": {
            "text/plain": [
              "0.9165787375726882"
            ]
          },
          "metadata": {},
          "execution_count": 19
        }
      ]
    },
    {
      "cell_type": "code",
      "source": [
        "val_prob_xgb = xgb.predict_proba(val)"
      ],
      "metadata": {
        "id": "x_5CSs-v-Tq_"
      },
      "execution_count": 20,
      "outputs": []
    },
    {
      "cell_type": "code",
      "source": [
        "val_prob_xgb"
      ],
      "metadata": {
        "colab": {
          "base_uri": "https://localhost:8080/"
        },
        "id": "sqeM1in2-5H0",
        "outputId": "7d1a3844-5229-4598-e30e-abb6b994aa03"
      },
      "execution_count": 21,
      "outputs": [
        {
          "output_type": "execute_result",
          "data": {
            "text/plain": [
              "array([[9.9999857e-01, 1.4549086e-06],\n",
              "       [9.9999762e-01, 2.3899634e-06],\n",
              "       [9.9999803e-01, 1.9483564e-06],\n",
              "       ...,\n",
              "       [9.9999440e-01, 5.5954738e-06],\n",
              "       [9.9999905e-01, 9.3513756e-07],\n",
              "       [9.9999851e-01, 1.4678753e-06]], dtype=float32)"
            ]
          },
          "metadata": {},
          "execution_count": 21
        }
      ]
    },
    {
      "cell_type": "code",
      "source": [
        "plt.scatter(val[val_pred_xgb==0]['V14'], val[val_pred_xgb==0]['V17'], color='green', label='normal')\n",
        "plt.scatter(val[val_pred_xgb==1]['V14'], val[val_pred_xgb==1]['V17'], color='red', label='fraud')\n",
        "\n",
        "plt.title('EllipticEnvelope + ADASYN + XGB')\n",
        "plt.xlabel('V14')\n",
        "plt.ylabel('V17')\n",
        "\n",
        "plt.legend()\n",
        "\n",
        "plt.show()"
      ],
      "metadata": {
        "colab": {
          "base_uri": "https://localhost:8080/",
          "height": 295
        },
        "id": "E-RHTo6xKwKm",
        "outputId": "677f3247-b805-4d7b-cfad-ef90073ace8e"
      },
      "execution_count": 36,
      "outputs": [
        {
          "output_type": "display_data",
          "data": {
            "text/plain": [
              "<Figure size 432x288 with 1 Axes>"
            ],
            "image/png": "[encoded data removed]"
          },
          "metadata": {
            "needs_background": "light"
          }
        }
      ]
    },
    {
      "cell_type": "code",
      "source": [
        "plt.scatter(val[val_pred_xgb==0]['V14'], val[val_pred_xgb==0]['V12'], color='green', label='normal')\n",
        "plt.scatter(val[val_pred_xgb==1]['V14'], val[val_pred_xgb==1]['V12'], color='red', label='fraud')\n",
        "\n",
        "plt.title('EllipticEnvelope + ADASYN + XGB')\n",
        "plt.xlabel('V14')\n",
        "plt.ylabel('V12')\n",
        "\n",
        "plt.legend()\n",
        "\n",
        "plt.show()"
      ],
      "metadata": {
        "colab": {
          "base_uri": "https://localhost:8080/",
          "height": 295
        },
        "id": "v9oL68aladbk",
        "outputId": "105b372b-fbe1-422a-fb32-571261d96cb9"
      },
      "execution_count": 99,
      "outputs": [
        {
          "output_type": "display_data",
          "data": {
            "text/plain": [
              "<Figure size 432x288 with 1 Axes>"
            ],
            "image/png": "[encoded data removed]"
          },
          "metadata": {
            "needs_background": "light"
          }
        }
      ]
    },
    {
      "cell_type": "code",
      "source": [
        "train_smote"
      ],
      "metadata": {
        "colab": {
          "base_uri": "https://localhost:8080/",
          "height": 487
        },
        "id": "jm6v2EC47EWs",
        "outputId": "49443be3-7781-45b5-8103-e0531596e952"
      },
      "execution_count": 22,
      "outputs": [
        {
          "output_type": "execute_result",
          "data": {
            "text/plain": [
              "               V1        V2         V3         V4         V5        V6  \\\n",
              "0       -1.358354 -1.340163   1.773209   0.379780  -0.503198  1.800499   \n",
              "1       -0.966272 -0.185226   1.792993  -0.863291  -0.010309  1.247203   \n",
              "2       -0.425966  0.960523   1.141109  -0.168252   0.420987 -0.029728   \n",
              "3       -0.644269  1.417964   1.074380  -0.492199   0.948934  0.428118   \n",
              "4       -0.894286  0.286157  -0.113192  -0.271526   2.669599  3.721818   \n",
              "...           ...       ...        ...        ...        ...       ...   \n",
              "227495  -2.870317  1.002704  -3.929599   4.235764   1.158891 -2.211052   \n",
              "227496 -13.136956  7.380241 -18.219379  10.584352 -11.780569 -3.635695   \n",
              "227497  -2.130029  1.393243  -0.610282   1.097765  -1.145266 -0.779364   \n",
              "227498  -1.278324  2.445764  -2.816353   2.337650  -1.357786 -0.952941   \n",
              "227499  -7.809948 -2.327980  -4.980668   6.067831  -3.116364  0.057785   \n",
              "\n",
              "               V7        V8        V9        V10  ...       V22       V23  \\\n",
              "0        0.791461  0.247676 -1.514654   0.207643  ...  0.771679  0.909412   \n",
              "1        0.237609  0.377436 -1.387024  -0.054952  ...  0.005274 -0.190321   \n",
              "2        0.476201  0.260314 -0.568671  -0.371407  ... -0.559825 -0.026398   \n",
              "3        1.120631 -3.807864  0.615375   1.249376  ... -1.015455  0.057504   \n",
              "4        0.370145  0.851084 -0.392048  -0.410430  ... -0.268092 -0.204233   \n",
              "...           ...       ...       ...        ...  ...       ...       ...   \n",
              "227495  -4.689516  1.282881 -3.242726  -5.228506  ...  0.007671 -0.008208   \n",
              "227496 -14.857328  8.832773 -5.479335 -13.229996  ... -0.261749 -0.413578   \n",
              "227497  -2.004996  0.578112 -0.990660  -2.506929  ...  0.718471 -0.159213   \n",
              "227498  -3.054281  1.160062 -2.255877  -4.852642  ...  0.077456 -0.223092   \n",
              "227499  -3.418253  1.207979 -2.682117  -4.022966  ...  0.332849 -3.348054   \n",
              "\n",
              "             V24       V25       V26       V27       V28       V29       V30  \\\n",
              "0      -0.689281 -0.327642 -0.139097 -0.055353 -0.059752  4.983721 -0.994972   \n",
              "1      -1.175575  0.647376 -0.221929  0.062723  0.061458  1.418291 -0.994972   \n",
              "2      -0.371427 -0.232794  0.105915  0.253844  0.081080 -0.256131 -0.994960   \n",
              "3      -0.649709 -0.415267 -0.051634 -1.206921 -1.085339  0.262698 -0.994901   \n",
              "4       1.011592  0.373205 -0.384157  0.011747  0.142404  0.994900 -0.994901   \n",
              "...          ...       ...       ...       ...       ...       ...       ...   \n",
              "227495 -0.468530  0.351525 -0.049075  0.969862  0.584658 -0.242253  0.326006   \n",
              "227496  0.519940 -0.702859 -0.161592 -2.474822 -0.721608  0.206915  0.091424   \n",
              "227497 -0.044114  0.267863 -0.459835 -0.385126 -0.143749 -0.037942 -0.419416   \n",
              "227498 -0.512078  0.224557  0.744227  0.630954  0.249745 -0.307275 -0.325846   \n",
              "227499 -0.068500 -0.897623  0.195784  1.631892 -1.525191  8.720748 -0.188997   \n",
              "\n",
              "        Class  \n",
              "0           0  \n",
              "1           0  \n",
              "2           0  \n",
              "3           0  \n",
              "4           0  \n",
              "...       ...  \n",
              "227495      1  \n",
              "227496      1  \n",
              "227497      1  \n",
              "227498      1  \n",
              "227499      1  \n",
              "\n",
              "[227500 rows x 31 columns]"
            ],
            "text/html": [
              "\n",
              "  <div id=\"df-2d38bbc2-b0f4-4694-ace1-e0c94f042334\">\n",
              "    <div class=\"colab-df-container\">\n",
              "      <div>\n",
              "<style scoped>\n",
              "    .dataframe tbody tr th:only-of-type {\n",
              "        vertical-align: middle;\n",
              "    }\n",
              "\n",
              "    .dataframe tbody tr th {\n",
              "        vertical-align: top;\n",
              "    }\n",
              "\n",
              "    .dataframe thead th {\n",
              "        text-align: right;\n",
              "    }\n",
              "</style>\n",
              "<table border=\"1\" class=\"dataframe\">\n",
              "  <thead>\n",
              "    <tr style=\"text-align: right;\">\n",
              "      <th></th>\n",
              "      <th>V1</th>\n",
              "      <th>V2</th>\n",
              "      <th>V3</th>\n",
              "      <th>V4</th>\n",
              "      <th>V5</th>\n",
              "      <th>V6</th>\n",
              "      <th>V7</th>\n",
              "      <th>V8</th>\n",
              "      <th>V9</th>\n",
              "      <th>V10</th>\n",
              "      <th>...</th>\n",
              "      <th>V22</th>\n",
              "      <th>V23</th>\n",
              "      <th>V24</th>\n",
              "      <th>V25</th>\n",
              "      <th>V26</th>\n",
              "      <th>V27</th>\n",
              "      <th>V28</th>\n",
              "      <th>V29</th>\n",
              "      <th>V30</th>\n",
              "      <th>Class</th>\n",
              "    </tr>\n",
              "  </thead>\n",
              "  <tbody>\n",
              "    <tr>\n",
              "      <th>0</th>\n",
              "      <td>-1.358354</td>\n",
              "      <td>-1.340163</td>\n",
              "      <td>1.773209</td>\n",
              "      <td>0.379780</td>\n",
              "      <td>-0.503198</td>\n",
              "      <td>1.800499</td>\n",
              "      <td>0.791461</td>\n",
              "      <td>0.247676</td>\n",
              "      <td>-1.514654</td>\n",
              "      <td>0.207643</td>\n",
              "      <td>...</td>\n",
              "      <td>0.771679</td>\n",
              "      <td>0.909412</td>\n",
              "      <td>-0.689281</td>\n",
              "      <td>-0.327642</td>\n",
              "      <td>-0.139097</td>\n",
              "      <td>-0.055353</td>\n",
              "      <td>-0.059752</td>\n",
              "      <td>4.983721</td>\n",
              "      <td>-0.994972</td>\n",
              "      <td>0</td>\n",
              "    </tr>\n",
              "    <tr>\n",
              "      <th>1</th>\n",
              "      <td>-0.966272</td>\n",
              "      <td>-0.185226</td>\n",
              "      <td>1.792993</td>\n",
              "      <td>-0.863291</td>\n",
              "      <td>-0.010309</td>\n",
              "      <td>1.247203</td>\n",
              "      <td>0.237609</td>\n",
              "      <td>0.377436</td>\n",
              "      <td>-1.387024</td>\n",
              "      <td>-0.054952</td>\n",
              "      <td>...</td>\n",
              "      <td>0.005274</td>\n",
              "      <td>-0.190321</td>\n",
              "      <td>-1.175575</td>\n",
              "      <td>0.647376</td>\n",
              "      <td>-0.221929</td>\n",
              "      <td>0.062723</td>\n",
              "      <td>0.061458</td>\n",
              "      <td>1.418291</td>\n",
              "      <td>-0.994972</td>\n",
              "      <td>0</td>\n",
              "    </tr>\n",
              "    <tr>\n",
              "      <th>2</th>\n",
              "      <td>-0.425966</td>\n",
              "      <td>0.960523</td>\n",
              "      <td>1.141109</td>\n",
              "      <td>-0.168252</td>\n",
              "      <td>0.420987</td>\n",
              "      <td>-0.029728</td>\n",
              "      <td>0.476201</td>\n",
              "      <td>0.260314</td>\n",
              "      <td>-0.568671</td>\n",
              "      <td>-0.371407</td>\n",
              "      <td>...</td>\n",
              "      <td>-0.559825</td>\n",
              "      <td>-0.026398</td>\n",
              "      <td>-0.371427</td>\n",
              "      <td>-0.232794</td>\n",
              "      <td>0.105915</td>\n",
              "      <td>0.253844</td>\n",
              "      <td>0.081080</td>\n",
              "      <td>-0.256131</td>\n",
              "      <td>-0.994960</td>\n",
              "      <td>0</td>\n",
              "    </tr>\n",
              "    <tr>\n",
              "      <th>3</th>\n",
              "      <td>-0.644269</td>\n",
              "      <td>1.417964</td>\n",
              "      <td>1.074380</td>\n",
              "      <td>-0.492199</td>\n",
              "      <td>0.948934</td>\n",
              "      <td>0.428118</td>\n",
              "      <td>1.120631</td>\n",
              "      <td>-3.807864</td>\n",
              "      <td>0.615375</td>\n",
              "      <td>1.249376</td>\n",
              "      <td>...</td>\n",
              "      <td>-1.015455</td>\n",
              "      <td>0.057504</td>\n",
              "      <td>-0.649709</td>\n",
              "      <td>-0.415267</td>\n",
              "      <td>-0.051634</td>\n",
              "      <td>-1.206921</td>\n",
              "      <td>-1.085339</td>\n",
              "      <td>0.262698</td>\n",
              "      <td>-0.994901</td>\n",
              "      <td>0</td>\n",
              "    </tr>\n",
              "    <tr>\n",
              "      <th>4</th>\n",
              "      <td>-0.894286</td>\n",
              "      <td>0.286157</td>\n",
              "      <td>-0.113192</td>\n",
              "      <td>-0.271526</td>\n",
              "      <td>2.669599</td>\n",
              "      <td>3.721818</td>\n",
              "      <td>0.370145</td>\n",
              "      <td>0.851084</td>\n",
              "      <td>-0.392048</td>\n",
              "      <td>-0.410430</td>\n",
              "      <td>...</td>\n",
              "      <td>-0.268092</td>\n",
              "      <td>-0.204233</td>\n",
              "      <td>1.011592</td>\n",
              "      <td>0.373205</td>\n",
              "      <td>-0.384157</td>\n",
              "      <td>0.011747</td>\n",
              "      <td>0.142404</td>\n",
              "      <td>0.994900</td>\n",
              "      <td>-0.994901</td>\n",
              "      <td>0</td>\n",
              "    </tr>\n",
              "    <tr>\n",
              "      <th>...</th>\n",
              "      <td>...</td>\n",
              "      <td>...</td>\n",
              "      <td>...</td>\n",
              "      <td>...</td>\n",
              "      <td>...</td>\n",
              "      <td>...</td>\n",
              "      <td>...</td>\n",
              "      <td>...</td>\n",
              "      <td>...</td>\n",
              "      <td>...</td>\n",
              "      <td>...</td>\n",
              "      <td>...</td>\n",
              "      <td>...</td>\n",
              "      <td>...</td>\n",
              "      <td>...</td>\n",
              "      <td>...</td>\n",
              "      <td>...</td>\n",
              "      <td>...</td>\n",
              "      <td>...</td>\n",
              "      <td>...</td>\n",
              "      <td>...</td>\n",
              "    </tr>\n",
              "    <tr>\n",
              "      <th>227495</th>\n",
              "      <td>-2.870317</td>\n",
              "      <td>1.002704</td>\n",
              "      <td>-3.929599</td>\n",
              "      <td>4.235764</td>\n",
              "      <td>1.158891</td>\n",
              "      <td>-2.211052</td>\n",
              "      <td>-4.689516</td>\n",
              "      <td>1.282881</td>\n",
              "      <td>-3.242726</td>\n",
              "      <td>-5.228506</td>\n",
              "      <td>...</td>\n",
              "      <td>0.007671</td>\n",
              "      <td>-0.008208</td>\n",
              "      <td>-0.468530</td>\n",
              "      <td>0.351525</td>\n",
              "      <td>-0.049075</td>\n",
              "      <td>0.969862</td>\n",
              "      <td>0.584658</td>\n",
              "      <td>-0.242253</td>\n",
              "      <td>0.326006</td>\n",
              "      <td>1</td>\n",
              "    </tr>\n",
              "    <tr>\n",
              "      <th>227496</th>\n",
              "      <td>-13.136956</td>\n",
              "      <td>7.380241</td>\n",
              "      <td>-18.219379</td>\n",
              "      <td>10.584352</td>\n",
              "      <td>-11.780569</td>\n",
              "      <td>-3.635695</td>\n",
              "      <td>-14.857328</td>\n",
              "      <td>8.832773</td>\n",
              "      <td>-5.479335</td>\n",
              "      <td>-13.229996</td>\n",
              "      <td>...</td>\n",
              "      <td>-0.261749</td>\n",
              "      <td>-0.413578</td>\n",
              "      <td>0.519940</td>\n",
              "      <td>-0.702859</td>\n",
              "      <td>-0.161592</td>\n",
              "      <td>-2.474822</td>\n",
              "      <td>-0.721608</td>\n",
              "      <td>0.206915</td>\n",
              "      <td>0.091424</td>\n",
              "      <td>1</td>\n",
              "    </tr>\n",
              "    <tr>\n",
              "      <th>227497</th>\n",
              "      <td>-2.130029</td>\n",
              "      <td>1.393243</td>\n",
              "      <td>-0.610282</td>\n",
              "      <td>1.097765</td>\n",
              "      <td>-1.145266</td>\n",
              "      <td>-0.779364</td>\n",
              "      <td>-2.004996</td>\n",
              "      <td>0.578112</td>\n",
              "      <td>-0.990660</td>\n",
              "      <td>-2.506929</td>\n",
              "      <td>...</td>\n",
              "      <td>0.718471</td>\n",
              "      <td>-0.159213</td>\n",
              "      <td>-0.044114</td>\n",
              "      <td>0.267863</td>\n",
              "      <td>-0.459835</td>\n",
              "      <td>-0.385126</td>\n",
              "      <td>-0.143749</td>\n",
              "      <td>-0.037942</td>\n",
              "      <td>-0.419416</td>\n",
              "      <td>1</td>\n",
              "    </tr>\n",
              "    <tr>\n",
              "      <th>227498</th>\n",
              "      <td>-1.278324</td>\n",
              "      <td>2.445764</td>\n",
              "      <td>-2.816353</td>\n",
              "      <td>2.337650</td>\n",
              "      <td>-1.357786</td>\n",
              "      <td>-0.952941</td>\n",
              "      <td>-3.054281</td>\n",
              "      <td>1.160062</td>\n",
              "      <td>-2.255877</td>\n",
              "      <td>-4.852642</td>\n",
              "      <td>...</td>\n",
              "      <td>0.077456</td>\n",
              "      <td>-0.223092</td>\n",
              "      <td>-0.512078</td>\n",
              "      <td>0.224557</td>\n",
              "      <td>0.744227</td>\n",
              "      <td>0.630954</td>\n",
              "      <td>0.249745</td>\n",
              "      <td>-0.307275</td>\n",
              "      <td>-0.325846</td>\n",
              "      <td>1</td>\n",
              "    </tr>\n",
              "    <tr>\n",
              "      <th>227499</th>\n",
              "      <td>-7.809948</td>\n",
              "      <td>-2.327980</td>\n",
              "      <td>-4.980668</td>\n",
              "      <td>6.067831</td>\n",
              "      <td>-3.116364</td>\n",
              "      <td>0.057785</td>\n",
              "      <td>-3.418253</td>\n",
              "      <td>1.207979</td>\n",
              "      <td>-2.682117</td>\n",
              "      <td>-4.022966</td>\n",
              "      <td>...</td>\n",
              "      <td>0.332849</td>\n",
              "      <td>-3.348054</td>\n",
              "      <td>-0.068500</td>\n",
              "      <td>-0.897623</td>\n",
              "      <td>0.195784</td>\n",
              "      <td>1.631892</td>\n",
              "      <td>-1.525191</td>\n",
              "      <td>8.720748</td>\n",
              "      <td>-0.188997</td>\n",
              "      <td>1</td>\n",
              "    </tr>\n",
              "  </tbody>\n",
              "</table>\n",
              "<p>227500 rows × 31 columns</p>\n",
              "</div>\n",
              "      <button class=\"colab-df-convert\" onclick=\"convertToInteractive('df-2d38bbc2-b0f4-4694-ace1-e0c94f042334')\"\n",
              "              title=\"Convert this dataframe to an interactive table.\"\n",
              "              style=\"display:none;\">\n",
              "        \n",
              "  <svg xmlns=\"http://www.w3.org/2000/svg\" height=\"24px\"viewBox=\"0 0 24 24\"\n",
              "       width=\"24px\">\n",
              "    <path d=\"M0 0h24v24H0V0z\" fill=\"none\"/>\n",
              "    <path d=\"M18.56 5.44l.94 2.06.94-2.06 2.06-.94-2.06-.94-.94-2.06-.94 2.06-2.06.94zm-11 1L8.5 8.5l.94-2.06 2.06-.94-2.06-.94L8.5 2.5l-.94 2.06-2.06.94zm10 10l.94 2.06.94-2.06 2.06-.94-2.06-.94-.94-2.06-.94 2.06-2.06.94z\"/><path d=\"M17.41 7.96l-1.37-1.37c-.4-.4-.92-.59-1.43-.59-.52 0-1.04.2-1.43.59L10.3 9.45l-7.72 7.72c-.78.78-.78 2.05 0 2.83L4 21.41c.39.39.9.59 1.41.59.51 0 1.02-.2 1.41-.59l7.78-7.78 2.81-2.81c.8-.78.8-2.07 0-2.86zM5.41 20L4 18.59l7.72-7.72 1.47 1.35L5.41 20z\"/>\n",
              "  </svg>\n",
              "      </button>\n",
              "      \n",
              "  <style>\n",
              "    .colab-df-container {\n",
              "      display:flex;\n",
              "      flex-wrap:wrap;\n",
              "      gap: 12px;\n",
              "    }\n",
              "\n",
              "    .colab-df-convert {\n",
              "      background-color: #E8F0FE;\n",
              "      border: none;\n",
              "      border-radius: 50%;\n",
              "      cursor: pointer;\n",
              "      display: none;\n",
              "      fill: #1967D2;\n",
              "      height: 32px;\n",
              "      padding: 0 0 0 0;\n",
              "      width: 32px;\n",
              "    }\n",
              "\n",
              "    .colab-df-convert:hover {\n",
              "      background-color: #E2EBFA;\n",
              "      box-shadow: 0px 1px 2px rgba(60, 64, 67, 0.3), 0px 1px 3px 1px rgba(60, 64, 67, 0.15);\n",
              "      fill: #174EA6;\n",
              "    }\n",
              "\n",
              "    [theme=dark] .colab-df-convert {\n",
              "      background-color: #3B4455;\n",
              "      fill: #D2E3FC;\n",
              "    }\n",
              "\n",
              "    [theme=dark] .colab-df-convert:hover {\n",
              "      background-color: #434B5C;\n",
              "      box-shadow: 0px 1px 3px 1px rgba(0, 0, 0, 0.15);\n",
              "      filter: drop-shadow(0px 1px 2px rgba(0, 0, 0, 0.3));\n",
              "      fill: #FFFFFF;\n",
              "    }\n",
              "  </style>\n",
              "\n",
              "      <script>\n",
              "        const buttonEl =\n",
              "          document.querySelector('#df-2d38bbc2-b0f4-4694-ace1-e0c94f042334 button.colab-df-convert');\n",
              "        buttonEl.style.display =\n",
              "          google.colab.kernel.accessAllowed ? 'block' : 'none';\n",
              "\n",
              "        async function convertToInteractive(key) {\n",
              "          const element = document.querySelector('#df-2d38bbc2-b0f4-4694-ace1-e0c94f042334');\n",
              "          const dataTable =\n",
              "            await google.colab.kernel.invokeFunction('convertToInteractive',\n",
              "                                                     [key], {});\n",
              "          if (!dataTable) return;\n",
              "\n",
              "          const docLinkHtml = 'Like what you see? Visit the ' +\n",
              "            '<a target=\"_blank\" href=https://colab.research.google.com/notebooks/data_table.ipynb>data table notebook</a>'\n",
              "            + ' to learn more about interactive tables.';\n",
              "          element.innerHTML = '';\n",
              "          dataTable['output_type'] = 'display_data';\n",
              "          await google.colab.output.renderOutput(dataTable, element);\n",
              "          const docLink = document.createElement('div');\n",
              "          docLink.innerHTML = docLinkHtml;\n",
              "          element.appendChild(docLink);\n",
              "        }\n",
              "      </script>\n",
              "    </div>\n",
              "  </div>\n",
              "  "
            ]
          },
          "metadata": {},
          "execution_count": 22
        }
      ]
    },
    {
      "cell_type": "code",
      "source": [
        "lgbm = LGBMClassifier(learning_rate=0.01)"
      ],
      "metadata": {
        "id": "WazFAFwu_J_0"
      },
      "execution_count": 23,
      "outputs": []
    },
    {
      "cell_type": "code",
      "source": [
        "lgbm.fit(train_smote.drop(columns=['Class']), train_smote.Class)"
      ],
      "metadata": {
        "colab": {
          "base_uri": "https://localhost:8080/"
        },
        "outputId": "3b9bbdfd-e0ee-444e-d445-7b8fef1bc5a8",
        "id": "H_hbEn4l_J_1"
      },
      "execution_count": 24,
      "outputs": [
        {
          "output_type": "execute_result",
          "data": {
            "text/plain": [
              "LGBMClassifier(learning_rate=0.01)"
            ]
          },
          "metadata": {},
          "execution_count": 24
        }
      ]
    },
    {
      "cell_type": "code",
      "source": [
        "val_pred_lgbm = lgbm.predict(val)"
      ],
      "metadata": {
        "id": "tcZU96Q1_J_1"
      },
      "execution_count": 25,
      "outputs": []
    },
    {
      "cell_type": "code",
      "source": [
        "f1_score(val_class, val_pred_lgbm, average='macro')"
      ],
      "metadata": {
        "colab": {
          "base_uri": "https://localhost:8080/"
        },
        "outputId": "72bb0ccd-444f-4da0-c808-0523e63be700",
        "id": "aLFb86LB_J_1"
      },
      "execution_count": 26,
      "outputs": [
        {
          "output_type": "execute_result",
          "data": {
            "text/plain": [
              "0.9106263628050926"
            ]
          },
          "metadata": {},
          "execution_count": 26
        }
      ]
    },
    {
      "cell_type": "code",
      "source": [
        "val_prob_lgbm = lgbm.predict_proba(val)"
      ],
      "metadata": {
        "id": "9tGIZil8_J_2"
      },
      "execution_count": 27,
      "outputs": []
    },
    {
      "cell_type": "code",
      "source": [
        "plt.scatter(val[val_pred_lgbm==0]['V14'], val[val_pred_lgbm==0]['V17'], color='green', label='normal')\n",
        "plt.scatter(val[val_pred_lgbm==1]['V14'], val[val_pred_lgbm==1]['V17'], color='red', label='fraud')\n",
        "\n",
        "plt.title('EDA + SMOTE + LGBM')\n",
        "plt.xlabel('V14')\n",
        "plt.ylabel('V17')\n",
        "\n",
        "plt.legend()\n",
        "\n",
        "plt.show()"
      ],
      "metadata": {
        "colab": {
          "base_uri": "https://localhost:8080/",
          "height": 295
        },
        "id": "1mrdA-DIQvwd",
        "outputId": "6d533603-9bc2-441c-8208-4c5d484c60d5"
      },
      "execution_count": 37,
      "outputs": [
        {
          "output_type": "display_data",
          "data": {
            "text/plain": [
              "<Figure size 432x288 with 1 Axes>"
            ],
            "image/png": "[encoded data removed]"
          },
          "metadata": {
            "needs_background": "light"
          }
        }
      ]
    },
    {
      "cell_type": "code",
      "source": [
        "plt.scatter(val[val_pred_lgbm==0]['V14'], val[val_pred_lgbm==0]['V12'], color='green', label='normal')\n",
        "plt.scatter(val[val_pred_lgbm==1]['V14'], val[val_pred_lgbm==1]['V12'], color='red', label='fraud')\n",
        "\n",
        "plt.title('EDA + SMOTE + LGBM')\n",
        "plt.xlabel('V14')\n",
        "plt.ylabel('V12')\n",
        "\n",
        "plt.legend()\n",
        "\n",
        "plt.show()"
      ],
      "metadata": {
        "colab": {
          "base_uri": "https://localhost:8080/",
          "height": 295
        },
        "id": "5XcTg9QwaNCF",
        "outputId": "d8600996-5816-421d-cdf5-9be3bba76e62"
      },
      "execution_count": 98,
      "outputs": [
        {
          "output_type": "display_data",
          "data": {
            "text/plain": [
              "<Figure size 432x288 with 1 Axes>"
            ],
            "image/png": "[encoded data removed]"
          },
          "metadata": {
            "needs_background": "light"
          }
        }
      ]
    },
    {
      "cell_type": "code",
      "source": [
        "ensem = (val_prob_xgb + val_prob_lgbm)/2"
      ],
      "metadata": {
        "id": "phuddvQdJobr"
      },
      "execution_count": 28,
      "outputs": []
    },
    {
      "cell_type": "code",
      "source": [
        "prediction = []\n",
        "\n",
        "for i in range(len(ensem)):\n",
        "  if ensem[i][0] > ensem[i][1]:\n",
        "    prediction.append(0)\n",
        "  else:\n",
        "    prediction.append(1)"
      ],
      "metadata": {
        "id": "u-TrjMUNJTKT"
      },
      "execution_count": 29,
      "outputs": []
    },
    {
      "cell_type": "code",
      "source": [
        "f1_score(val_class,prediction, average='macro')"
      ],
      "metadata": {
        "colab": {
          "base_uri": "https://localhost:8080/"
        },
        "id": "5kD8P3rwKLRC",
        "outputId": "51481218-9101-4c0c-d98f-eb9523c6c216"
      },
      "execution_count": 30,
      "outputs": [
        {
          "output_type": "execute_result",
          "data": {
            "text/plain": [
              "0.9236496787663914"
            ]
          },
          "metadata": {},
          "execution_count": 30
        }
      ]
    },
    {
      "cell_type": "code",
      "source": [
        "plt.scatter(val[np.array(prediction)==0]['V14'], val[np.array(prediction)==0]['V17'], color='green', label='normal')\n",
        "plt.scatter(val[np.array(prediction)==1]['V14'], val[np.array(prediction)==1]['V17'], color='red', label='fraud')\n",
        "\n",
        "plt.title('Ensemble with Over Sampling')\n",
        "plt.xlabel('V14')\n",
        "plt.ylabel('V17')\n",
        "\n",
        "plt.legend()\n",
        "\n",
        "plt.show()"
      ],
      "metadata": {
        "colab": {
          "base_uri": "https://localhost:8080/",
          "height": 295
        },
        "id": "-20Bx_fFQ8j5",
        "outputId": "ff0ce086-0878-4914-c1a7-c72a20347ced"
      },
      "execution_count": 44,
      "outputs": [
        {
          "output_type": "display_data",
          "data": {
            "text/plain": [
              "<Figure size 432x288 with 1 Axes>"
            ],
            "image/png": "[encoded data removed]"
          },
          "metadata": {
            "needs_background": "light"
          }
        }
      ]
    },
    {
      "cell_type": "code",
      "source": [
        "plt.scatter(val[np.array(prediction)==0]['V14'], val[np.array(prediction)==0]['V12'], color='green', label='normal')\n",
        "plt.scatter(val[np.array(prediction)==1]['V14'], val[np.array(prediction)==1]['V12'], color='red', label='fraud')\n",
        "\n",
        "plt.title('Ensemble with Over Sampling')\n",
        "plt.xlabel('V14')\n",
        "plt.ylabel('V12')\n",
        "\n",
        "plt.legend()\n",
        "\n",
        "plt.show()"
      ],
      "metadata": {
        "id": "L7BqLk0PalfW",
        "outputId": "9699c79c-d040-4a8e-afaf-10e76a2605c0",
        "colab": {
          "base_uri": "https://localhost:8080/",
          "height": 295
        }
      },
      "execution_count": 100,
      "outputs": [
        {
          "output_type": "display_data",
          "data": {
            "text/plain": [
              "<Figure size 432x288 with 1 Axes>"
            ],
            "image/png": "[encoded data removed]"
          },
          "metadata": {
            "needs_background": "light"
          }
        }
      ]
    },
    {
      "cell_type": "code",
      "source": [
        "test_prob_xgb = xgb.predict_proba(test)"
      ],
      "metadata": {
        "id": "iqJW7z0aLDch"
      },
      "execution_count": null,
      "outputs": []
    },
    {
      "cell_type": "code",
      "source": [
        "test_prob_lgbm = lgbm.predict_proba(test)"
      ],
      "metadata": {
        "id": "YMsuQElQLh4B"
      },
      "execution_count": null,
      "outputs": []
    },
    {
      "cell_type": "code",
      "source": [
        "test_ensem = (test_prob_xgb + test_prob_lgbm)/2"
      ],
      "metadata": {
        "id": "3FBPYGkfLlwa"
      },
      "execution_count": null,
      "outputs": []
    },
    {
      "cell_type": "code",
      "source": [
        "test_prediction = []\n",
        "\n",
        "for i in range(len(test_ensem)):\n",
        "  if test_ensem[i][0] > test_ensem[i][1]:\n",
        "    test_prediction.append(0)\n",
        "  else:\n",
        "    test_prediction.append(1)"
      ],
      "metadata": {
        "id": "jCCvxHtDLqcj"
      },
      "execution_count": null,
      "outputs": []
    },
    {
      "cell_type": "code",
      "source": [
        "submission.Class = test_prediction"
      ],
      "metadata": {
        "id": "V41pV3rH0siv"
      },
      "execution_count": null,
      "outputs": []
    },
    {
      "cell_type": "code",
      "source": [
        "submission.to_csv('submission_oversampling_ensemble.csv', index=False)"
      ],
      "metadata": {
        "id": "3Oq2gK1X1IeG"
      },
      "execution_count": null,
      "outputs": []
    }
  ]
}