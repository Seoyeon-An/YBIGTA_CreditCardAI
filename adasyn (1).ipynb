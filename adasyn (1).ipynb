{
  "nbformat": 4,
  "nbformat_minor": 0,
  "metadata": {
    "colab": {
      "provenance": []
    },
    "kernelspec": {
      "name": "python3",
      "display_name": "Python 3"
    },
    "language_info": {
      "name": "python"
    },
    "accelerator": "GPU",
    "gpuClass": "standard"
  },
  "cells": [
    {
      "cell_type": "code",
      "execution_count": 1,
      "metadata": {
        "colab": {
          "base_uri": "https://localhost:8080/"
        },
        "id": "5rMHbP9LMK6e",
        "outputId": "9ad6c1c7-aaf8-4537-89a6-edb44108cc9f"
      },
      "outputs": [
        {
          "output_type": "stream",
          "name": "stdout",
          "text": [
            "Mounted at /content/gdrive\n"
          ]
        }
      ],
      "source": [
        "from google.colab import drive\n",
        "drive.mount('/content/gdrive')"
      ]
    },
    {
      "cell_type": "code",
      "source": [
        "import numpy as np\n",
        "import pandas as pd\n",
        "import matplotlib\n",
        "import matplotlib.pyplot as plt\n",
        "import seaborn as sns\n",
        "from sklearn.covariance import EllipticEnvelope\n",
        "from sklearn.metrics import f1_score"
      ],
      "metadata": {
        "id": "aOEbevS_NEL3"
      },
      "execution_count": 2,
      "outputs": []
    },
    {
      "cell_type": "code",
      "source": [
        "trainpath='/content/gdrive/MyDrive/YBIGTA_CreditAI/open/train.csv'\n",
        "testpath='/content/gdrive/MyDrive/YBIGTA_CreditAI/open/test.csv'\n",
        "valpath='/content/gdrive/MyDrive/YBIGTA_CreditAI/open/val.csv'\n",
        "submissionpath= '/content/gdrive/MyDrive/YBIGTA_CreditAI/open/sample_submission.csv'\n",
        "trainsmotepath= '/content/gdrive/MyDrive/YBIGTA_CreditAI/open/train_smote.csv'\n",
        "\n",
        "train=pd.read_csv(trainpath)\n",
        "test=pd.read_csv(testpath)\n",
        "val=pd.read_csv(valpath)\n",
        "submission=pd.read_csv(submissionpath)\n",
        "train_smote = pd.read_csv(trainsmotepath)"
      ],
      "metadata": {
        "id": "xWN-Xc-oYZLk"
      },
      "execution_count": 3,
      "outputs": []
    },
    {
      "cell_type": "code",
      "source": [
        "train = train.drop(columns=['ID'])\n",
        "val_class = val.Class\n",
        "val = val.drop(columns=['ID', 'Class'])\n",
        "test = test.drop(columns=['ID'])"
      ],
      "metadata": {
        "id": "JeDsDbOFRR5g"
      },
      "execution_count": 4,
      "outputs": []
    },
    {
      "cell_type": "code",
      "source": [
        "ele = EllipticEnvelope(support_fraction = 0.994, contamination = 0.00112, random_state = 22)\n",
        "ele.fit(train)"
      ],
      "metadata": {
        "colab": {
          "base_uri": "https://localhost:8080/"
        },
        "id": "5h_evvsFKdot",
        "outputId": "3cb087ba-638c-4de3-a1d1-674e2f1c3cf5"
      },
      "execution_count": 5,
      "outputs": [
        {
          "output_type": "execute_result",
          "data": {
            "text/plain": [
              "EllipticEnvelope(contamination=0.00112, random_state=22, support_fraction=0.994)"
            ]
          },
          "metadata": {},
          "execution_count": 5
        }
      ]
    },
    {
      "cell_type": "code",
      "source": [
        "def get_pred_label(model_pred):\n",
        "    # IsolationForest 모델 출력 (1:정상, -1:불량(사기)) 이므로 (0:정상, 1:불량(사기))로 Label 변환\n",
        "    model_pred = np.where(model_pred == 1, 0, model_pred)\n",
        "    model_pred = np.where(model_pred == -1, 1, model_pred)\n",
        "    return model_pred"
      ],
      "metadata": {
        "id": "D4LvZ9o-OvDy"
      },
      "execution_count": 6,
      "outputs": []
    },
    {
      "cell_type": "code",
      "source": [
        "val_pred = get_pred_label(ele.predict(val))\n",
        "f1_score(val_class, val_pred, average='macro') #0.9236496787663914"
      ],
      "metadata": {
        "colab": {
          "base_uri": "https://localhost:8080/"
        },
        "id": "d5Os87sPO1rO",
        "outputId": "987b3755-7f10-4112-c38f-defdb2115583"
      },
      "execution_count": 7,
      "outputs": [
        {
          "output_type": "execute_result",
          "data": {
            "text/plain": [
              "0.9236496787663914"
            ]
          },
          "metadata": {},
          "execution_count": 7
        }
      ]
    },
    {
      "cell_type": "code",
      "source": [
        "#trainX = train_smote.drop(columns=['Class'])\n",
        "#trainY = train_smote.Class"
      ],
      "metadata": {
        "id": "Bo-6iov-nx77"
      },
      "execution_count": 8,
      "outputs": []
    },
    {
      "cell_type": "code",
      "source": [
        "train['Class'] = ele.predict(train)"
      ],
      "metadata": {
        "id": "w5c_iKo_TRM5"
      },
      "execution_count": 9,
      "outputs": []
    },
    {
      "cell_type": "code",
      "source": [
        "train['Class'] = get_pred_label(train['Class'])"
      ],
      "metadata": {
        "id": "s9m7hG8STe4d"
      },
      "execution_count": 10,
      "outputs": []
    },
    {
      "cell_type": "code",
      "source": [
        "plt.scatter(train[train.Class==0]['V14'], train[train.Class==0]['V17'], label='normal')\n",
        "plt.scatter(train[train.Class==1]['V14'], train[train.Class==1]['V17'],label='fraud')\n",
        "\n",
        "plt.title('Labeled Train before ADASYN')\n",
        "plt.xlabel('V14')\n",
        "plt.ylabel('V17')\n",
        "\n",
        "plt.legend()\n",
        "plt.show()"
      ],
      "metadata": {
        "colab": {
          "base_uri": "https://localhost:8080/",
          "height": 295
        },
        "id": "s02ctlF65pAH",
        "outputId": "9042a2ea-48c9-4afa-cb9b-478220df2a1a"
      },
      "execution_count": 13,
      "outputs": [
        {
          "output_type": "display_data",
          "data": {
            "text/plain": [
              "<Figure size 432x288 with 1 Axes>"
            ],
            "image/png": "[encoded data removed]"
          },
          "metadata": {
            "needs_background": "light"
          }
        }
      ]
    },
    {
      "cell_type": "code",
      "source": [
        "from imblearn.over_sampling import ADASYN"
      ],
      "metadata": {
        "id": "r57jL5mntmAV"
      },
      "execution_count": 11,
      "outputs": []
    },
    {
      "cell_type": "code",
      "source": [
        "ada = ADASYN(random_state=22)\n",
        "\n",
        "trainX_resampled_adasyn, trainY_resampled_adasyn = ada.fit_resample(train.drop(columns=['Class']), train.Class)"
      ],
      "metadata": {
        "id": "bnGmAyjvtpqT"
      },
      "execution_count": 12,
      "outputs": []
    },
    {
      "cell_type": "code",
      "source": [
        "plt.scatter(trainX_resampled_adasyn[trainY_resampled_adasyn==0]['V14'], trainX_resampled_adasyn[trainY_resampled_adasyn==0]['V17'], label='normal')\n",
        "plt.scatter(trainX_resampled_adasyn[trainY_resampled_adasyn==1]['V14'], trainX_resampled_adasyn[trainY_resampled_adasyn==1]['V17'],label='fraud')\n",
        "\n",
        "plt.title('Labeled Train after ADASYN')\n",
        "plt.xlabel('V14')\n",
        "plt.ylabel('V17')\n",
        "\n",
        "plt.legend()\n",
        "plt.show()"
      ],
      "metadata": {
        "colab": {
          "base_uri": "https://localhost:8080/",
          "height": 295
        },
        "id": "sBeU8mCw5-49",
        "outputId": "b5a86b3f-00aa-441a-cd8a-a364ba2fd1d7"
      },
      "execution_count": 14,
      "outputs": [
        {
          "output_type": "display_data",
          "data": {
            "text/plain": [
              "<Figure size 432x288 with 1 Axes>"
            ],
            "image/png": "[encoded data removed]"
          },
          "metadata": {
            "needs_background": "light"
          }
        }
      ]
    },
    {
      "cell_type": "code",
      "source": [
        "train_adasyn= pd.concat([trainX_resampled_adasyn, trainY_resampled_adasyn], axis=1)"
      ],
      "metadata": {
        "id": "-qBMRlTLiBMu"
      },
      "execution_count": null,
      "outputs": []
    },
    {
      "cell_type": "code",
      "source": [
        "train_adasyn.to_csv('train_adasyn.csv', index=False)"
      ],
      "metadata": {
        "id": "StNzZMh0jc3c"
      },
      "execution_count": null,
      "outputs": []
    },
    {
      "cell_type": "code",
      "source": [
        "from xgboost import XGBClassifier\n",
        "from lightgbm import LGBMClassifier\n",
        "from sklearn import tree\n",
        "from sklearn.ensemble import VotingClassifier"
      ],
      "metadata": {
        "id": "FmWpX-6oUWiC"
      },
      "execution_count": 15,
      "outputs": []
    },
    {
      "cell_type": "code",
      "source": [
        "xgb = XGBClassifier(n_estimators=2000, max_depth=6, subsample=0.5, learning_rate=0.1, objective='binary:logistic', random_state=0)"
      ],
      "metadata": {
        "id": "wMhaPFf4U_9V"
      },
      "execution_count": 16,
      "outputs": []
    },
    {
      "cell_type": "code",
      "source": [
        "xgb.fit(trainX_resampled_adasyn, trainY_resampled_adasyn)"
      ],
      "metadata": {
        "colab": {
          "base_uri": "https://localhost:8080/"
        },
        "id": "yktmwtglVF2l",
        "outputId": "1d480538-4537-4801-f504-69ec0ca3a053"
      },
      "execution_count": 17,
      "outputs": [
        {
          "output_type": "execute_result",
          "data": {
            "text/plain": [
              "XGBClassifier(max_depth=6, n_estimators=2000, subsample=0.5)"
            ]
          },
          "metadata": {},
          "execution_count": 17
        }
      ]
    },
    {
      "cell_type": "code",
      "source": [
        "val_pred_xgb = xgb.predict(val)"
      ],
      "metadata": {
        "id": "eIgEhhldVCTx"
      },
      "execution_count": 18,
      "outputs": []
    },
    {
      "cell_type": "code",
      "source": [
        "f1_score(val_class, val_pred_xgb, average='macro')"
      ],
      "metadata": {
        "colab": {
          "base_uri": "https://localhost:8080/"
        },
        "id": "h4QxhEnLV3t5",
        "outputId": "35b86d84-ef4b-42fe-c0be-aa544cfcfd4b"
      },
      "execution_count": 19,
      "outputs": [
        {
          "output_type": "execute_result",
          "data": {
            "text/plain": [
              "0.9165787375726882"
            ]
          },
          "metadata": {},
          "execution_count": 19
        }
      ]
    },
    {
      "cell_type": "code",
      "source": [
        "val_prob_xgb = xgb.predict_proba(val)"
      ],
      "metadata": {
        "id": "x_5CSs-v-Tq_"
      },
      "execution_count": 20,
      "outputs": []
    },
    {
      "cell_type": "code",
      "source": [
        "val_prob_xgb"
      ],
      "metadata": {
        "colab": {
          "base_uri": "https://localhost:8080/"
        },
        "id": "sqeM1in2-5H0",
        "outputId": "225acdf3-96d5-456e-fdaf-33a0db0b4f2a"
      },
      "execution_count": 21,
      "outputs": [
        {
          "output_type": "execute_result",
          "data": {
            "text/plain": [
              "array([[9.9999857e-01, 1.4549086e-06],\n",
              "       [9.9999762e-01, 2.3899634e-06],\n",
              "       [9.9999803e-01, 1.9483564e-06],\n",
              "       ...,\n",
              "       [9.9999440e-01, 5.5954738e-06],\n",
              "       [9.9999905e-01, 9.3513756e-07],\n",
              "       [9.9999851e-01, 1.4678753e-06]], dtype=float32)"
            ]
          },
          "metadata": {},
          "execution_count": 21
        }
      ]
    },
    {
      "cell_type": "code",
      "source": [
        "plt.scatter(val[val_pred_xgb==0]['V14'], val[val_pred_xgb==0]['V17'], color='blue', label='normal')\n",
        "plt.scatter(val[val_pred_xgb==1]['V14'], val[val_pred_xgb==1]['V17'], color='red', label='fraud')\n",
        "\n",
        "plt.title('EllipticEnvelope + ADASYN + XGBoost')\n",
        "plt.xlabel('V14')\n",
        "plt.ylabel('V17')\n",
        "\n",
        "plt.legend()\n",
        "\n",
        "plt.show()"
      ],
      "metadata": {
        "colab": {
          "base_uri": "https://localhost:8080/",
          "height": 295
        },
        "id": "E-RHTo6xKwKm",
        "outputId": "71678510-14c7-4cef-91ea-dd5975ed209b"
      },
      "execution_count": 23,
      "outputs": [
        {
          "output_type": "display_data",
          "data": {
            "text/plain": [
              "<Figure size 432x288 with 1 Axes>"
            ],
            "image/png": "[encoded data removed]"
          },
          "metadata": {
            "needs_background": "light"
          }
        }
      ]
    },
    {
      "cell_type": "code",
      "source": [
        "plt.scatter(val[val_pred_xgb==0]['V14'], val[val_pred_xgb==0]['V12'], color='green', label='normal')\n",
        "plt.scatter(val[val_pred_xgb==1]['V14'], val[val_pred_xgb==1]['V12'], color='red', label='fraud')\n",
        "\n",
        "plt.title('EllipticEnvelope + ADASYN + XGB')\n",
        "plt.xlabel('V14')\n",
        "plt.ylabel('V12')\n",
        "\n",
        "plt.legend()\n",
        "\n",
        "plt.show()"
      ],
      "metadata": {
        "colab": {
          "base_uri": "https://localhost:8080/",
          "height": 295
        },
        "id": "v9oL68aladbk",
        "outputId": "105b372b-fbe1-422a-fb32-571261d96cb9"
      },
      "execution_count": null,
      "outputs": [
        {
          "output_type": "display_data",
          "data": {
            "text/plain": [
              "<Figure size 432x288 with 1 Axes>"
            ],
            "image/png": "[encoded data removed]"
          },
          "metadata": {
            "needs_background": "light"
          }
        }
      ]
    },
    {
      "cell_type": "code",
      "source": [
        "train_smote"
      ],
      "metadata": {
        "colab": {
          "base_uri": "https://localhost:8080/",
          "height": 487
        },
        "id": "jm6v2EC47EWs",
        "outputId": "49443be3-7781-45b5-8103-e0531596e952"
      },
      "execution_count": null,
      "outputs": [
        {
          "output_type": "execute_result",
          "data": {
            "text/plain": [
              "               V1        V2         V3         V4         V5        V6  \\\n",
              "0       -1.358354 -1.340163   1.773209   0.379780  -0.503198  1.800499   \n",
              "1       -0.966272 -0.185226   1.792993  -0.863291  -0.010309  1.247203   \n",
              "2       -0.425966  0.960523   1.141109  -0.168252   0.420987 -0.029728   \n",
              "3       -0.644269  1.417964   1.074380  -0.492199   0.948934  0.428118   \n",
              "4       -0.894286  0.286157  -0.113192  -0.271526   2.669599  3.721818   \n",
              "...           ...       ...        ...        ...        ...       ...   \n",
              "227495  -2.870317  1.002704  -3.929599   4.235764   1.158891 -2.211052   \n",
              "227496 -13.136956  7.380241 -18.219379  10.584352 -11.780569 -3.635695   \n",
              "227497  -2.130029  1.393243  -0.610282   1.097765  -1.145266 -0.779364   \n",
              "227498  -1.278324  2.445764  -2.816353   2.337650  -1.357786 -0.952941   \n",
              "227499  -7.809948 -2.327980  -4.980668   6.067831  -3.116364  0.057785   \n",
              "\n",
              "               V7        V8        V9        V10  ...       V22       V23  \\\n",
              "0        0.791461  0.247676 -1.514654   0.207643  ...  0.771679  0.909412   \n",
              "1        0.237609  0.377436 -1.387024  -0.054952  ...  0.005274 -0.190321   \n",
              "2        0.476201  0.260314 -0.568671  -0.371407  ... -0.559825 -0.026398   \n",
              "3        1.120631 -3.807864  0.615375   1.249376  ... -1.015455  0.057504   \n",
              "4        0.370145  0.851084 -0.392048  -0.410430  ... -0.268092 -0.204233   \n",
              "...           ...       ...       ...        ...  ...       ...       ...   \n",
              "227495  -4.689516  1.282881 -3.242726  -5.228506  ...  0.007671 -0.008208   \n",
              "227496 -14.857328  8.832773 -5.479335 -13.229996  ... -0.261749 -0.413578   \n",
              "227497  -2.004996  0.578112 -0.990660  -2.506929  ...  0.718471 -0.159213   \n",
              "227498  -3.054281  1.160062 -2.255877  -4.852642  ...  0.077456 -0.223092   \n",
              "227499  -3.418253  1.207979 -2.682117  -4.022966  ...  0.332849 -3.348054   \n",
              "\n",
              "             V24       V25       V26       V27       V28       V29       V30  \\\n",
              "0      -0.689281 -0.327642 -0.139097 -0.055353 -0.059752  4.983721 -0.994972   \n",
              "1      -1.175575  0.647376 -0.221929  0.062723  0.061458  1.418291 -0.994972   \n",
              "2      -0.371427 -0.232794  0.105915  0.253844  0.081080 -0.256131 -0.994960   \n",
              "3      -0.649709 -0.415267 -0.051634 -1.206921 -1.085339  0.262698 -0.994901   \n",
              "4       1.011592  0.373205 -0.384157  0.011747  0.142404  0.994900 -0.994901   \n",
              "...          ...       ...       ...       ...       ...       ...       ...   \n",
              "227495 -0.468530  0.351525 -0.049075  0.969862  0.584658 -0.242253  0.326006   \n",
              "227496  0.519940 -0.702859 -0.161592 -2.474822 -0.721608  0.206915  0.091424   \n",
              "227497 -0.044114  0.267863 -0.459835 -0.385126 -0.143749 -0.037942 -0.419416   \n",
              "227498 -0.512078  0.224557  0.744227  0.630954  0.249745 -0.307275 -0.325846   \n",
              "227499 -0.068500 -0.897623  0.195784  1.631892 -1.525191  8.720748 -0.188997   \n",
              "\n",
              "        Class  \n",
              "0           0  \n",
              "1           0  \n",
              "2           0  \n",
              "3           0  \n",
              "4           0  \n",
              "...       ...  \n",
              "227495      1  \n",
              "227496      1  \n",
              "227497      1  \n",
              "227498      1  \n",
              "227499      1  \n",
              "\n",
              "[227500 rows x 31 columns]"
            ],
            "text/html": [
              "\n",
              "  <div id=\"df-2d38bbc2-b0f4-4694-ace1-e0c94f042334\">\n",
              "    <div class=\"colab-df-container\">\n",
              "      <div>\n",
              "<style scoped>\n",
              "    .dataframe tbody tr th:only-of-type {\n",
              "        vertical-align: middle;\n",
              "    }\n",
              "\n",
              "    .dataframe tbody tr th {\n",
              "        vertical-align: top;\n",
              "    }\n",
              "\n",
              "    .dataframe thead th {\n",
              "        text-align: right;\n",
              "    }\n",
              "</style>\n",
              "<table border=\"1\" class=\"dataframe\">\n",
              "  <thead>\n",
              "    <tr style=\"text-align: right;\">\n",
              "      <th></th>\n",
              "      <th>V1</th>\n",
              "      <th>V2</th>\n",
              "      <th>V3</th>\n",
              "      <th>V4</th>\n",
              "      <th>V5</th>\n",
              "      <th>V6</th>\n",
              "      <th>V7</th>\n",
              "      <th>V8</th>\n",
              "      <th>V9</th>\n",
              "      <th>V10</th>\n",
              "      <th>...</th>\n",
              "      <th>V22</th>\n",
              "      <th>V23</th>\n",
              "      <th>V24</th>\n",
              "      <th>V25</th>\n",
              "      <th>V26</th>\n",
              "      <th>V27</th>\n",
              "      <th>V28</th>\n",
              "      <th>V29</th>\n",
              "      <th>V30</th>\n",
              "      <th>Class</th>\n",
              "    </tr>\n",
              "  </thead>\n",
              "  <tbody>\n",
              "    <tr>\n",
              "      <th>0</th>\n",
              "      <td>-1.358354</td>\n",
              "      <td>-1.340163</td>\n",
              "      <td>1.773209</td>\n",
              "      <td>0.379780</td>\n",
              "      <td>-0.503198</td>\n",
              "      <td>1.800499</td>\n",
              "      <td>0.791461</td>\n",
              "      <td>0.247676</td>\n",
              "      <td>-1.514654</td>\n",
              "      <td>0.207643</td>\n",
              "      <td>...</td>\n",
              "      <td>0.771679</td>\n",
              "      <td>0.909412</td>\n",
              "      <td>-0.689281</td>\n",
              "      <td>-0.327642</td>\n",
              "      <td>-0.139097</td>\n",
              "      <td>-0.055353</td>\n",
              "      <td>-0.059752</td>\n",
              "      <td>4.983721</td>\n",
              "      <td>-0.994972</td>\n",
              "      <td>0</td>\n",
              "    </tr>\n",
              "    <tr>\n",
              "      <th>1</th>\n",
              "      <td>-0.966272</td>\n",
              "      <td>-0.185226</td>\n",
              "      <td>1.792993</td>\n",
              "      <td>-0.863291</td>\n",
              "      <td>-0.010309</td>\n",
              "      <td>1.247203</td>\n",
              "      <td>0.237609</td>\n",
              "      <td>0.377436</td>\n",
              "      <td>-1.387024</td>\n",
              "      <td>-0.054952</td>\n",
              "      <td>...</td>\n",
              "      <td>0.005274</td>\n",
              "      <td>-0.190321</td>\n",
              "      <td>-1.175575</td>\n",
              "      <td>0.647376</td>\n",
              "      <td>-0.221929</td>\n",
              "      <td>0.062723</td>\n",
              "      <td>0.061458</td>\n",
              "      <td>1.418291</td>\n",
              "      <td>-0.994972</td>\n",
              "      <td>0</td>\n",
              "    </tr>\n",
              "    <tr>\n",
              "      <th>2</th>\n",
              "      <td>-0.425966</td>\n",
              "      <td>0.960523</td>\n",
              "      <td>1.141109</td>\n",
              "      <td>-0.168252</td>\n",
              "      <td>0.420987</td>\n",
              "      <td>-0.029728</td>\n",
              "      <td>0.476201</td>\n",
              "      <td>0.260314</td>\n",
              "      <td>-0.568671</td>\n",
              "      <td>-0.371407</td>\n",
              "      <td>...</td>\n",
              "      <td>-0.559825</td>\n",
              "      <td>-0.026398</td>\n",
              "      <td>-0.371427</td>\n",
              "      <td>-0.232794</td>\n",
              "      <td>0.105915</td>\n",
              "      <td>0.253844</td>\n",
              "      <td>0.081080</td>\n",
              "      <td>-0.256131</td>\n",
              "      <td>-0.994960</td>\n",
              "      <td>0</td>\n",
              "    </tr>\n",
              "    <tr>\n",
              "      <th>3</th>\n",
              "      <td>-0.644269</td>\n",
              "      <td>1.417964</td>\n",
              "      <td>1.074380</td>\n",
              "      <td>-0.492199</td>\n",
              "      <td>0.948934</td>\n",
              "      <td>0.428118</td>\n",
              "      <td>1.120631</td>\n",
              "      <td>-3.807864</td>\n",
              "      <td>0.615375</td>\n",
              "      <td>1.249376</td>\n",
              "      <td>...</td>\n",
              "      <td>-1.015455</td>\n",
              "      <td>0.057504</td>\n",
              "      <td>-0.649709</td>\n",
              "      <td>-0.415267</td>\n",
              "      <td>-0.051634</td>\n",
              "      <td>-1.206921</td>\n",
              "      <td>-1.085339</td>\n",
              "      <td>0.262698</td>\n",
              "      <td>-0.994901</td>\n",
              "      <td>0</td>\n",
              "    </tr>\n",
              "    <tr>\n",
              "      <th>4</th>\n",
              "      <td>-0.894286</td>\n",
              "      <td>0.286157</td>\n",
              "      <td>-0.113192</td>\n",
              "      <td>-0.271526</td>\n",
              "      <td>2.669599</td>\n",
              "      <td>3.721818</td>\n",
              "      <td>0.370145</td>\n",
              "      <td>0.851084</td>\n",
              "      <td>-0.392048</td>\n",
              "      <td>-0.410430</td>\n",
              "      <td>...</td>\n",
              "      <td>-0.268092</td>\n",
              "      <td>-0.204233</td>\n",
              "      <td>1.011592</td>\n",
              "      <td>0.373205</td>\n",
              "      <td>-0.384157</td>\n",
              "      <td>0.011747</td>\n",
              "      <td>0.142404</td>\n",
              "      <td>0.994900</td>\n",
              "      <td>-0.994901</td>\n",
              "      <td>0</td>\n",
              "    </tr>\n",
              "    <tr>\n",
              "      <th>...</th>\n",
              "      <td>...</td>\n",
              "      <td>...</td>\n",
              "      <td>...</td>\n",
              "      <td>...</td>\n",
              "      <td>...</td>\n",
              "      <td>...</td>\n",
              "      <td>...</td>\n",
              "      <td>...</td>\n",
              "      <td>...</td>\n",
              "      <td>...</td>\n",
              "      <td>...</td>\n",
              "      <td>...</td>\n",
              "      <td>...</td>\n",
              "      <td>...</td>\n",
              "      <td>...</td>\n",
              "      <td>...</td>\n",
              "      <td>...</td>\n",
              "      <td>...</td>\n",
              "      <td>...</td>\n",
              "      <td>...</td>\n",
              "      <td>...</td>\n",
              "    </tr>\n",
              "    <tr>\n",
              "      <th>227495</th>\n",
              "      <td>-2.870317</td>\n",
              "      <td>1.002704</td>\n",
              "      <td>-3.929599</td>\n",
              "      <td>4.235764</td>\n",
              "      <td>1.158891</td>\n",
              "      <td>-2.211052</td>\n",
              "      <td>-4.689516</td>\n",
              "      <td>1.282881</td>\n",
              "      <td>-3.242726</td>\n",
              "      <td>-5.228506</td>\n",
              "      <td>...</td>\n",
              "      <td>0.007671</td>\n",
              "      <td>-0.008208</td>\n",
              "      <td>-0.468530</td>\n",
              "      <td>0.351525</td>\n",
              "      <td>-0.049075</td>\n",
              "      <td>0.969862</td>\n",
              "      <td>0.584658</td>\n",
              "      <td>-0.242253</td>\n",
              "      <td>0.326006</td>\n",
              "      <td>1</td>\n",
              "    </tr>\n",
              "    <tr>\n",
              "      <th>227496</th>\n",
              "      <td>-13.136956</td>\n",
              "      <td>7.380241</td>\n",
              "      <td>-18.219379</td>\n",
              "      <td>10.584352</td>\n",
              "      <td>-11.780569</td>\n",
              "      <td>-3.635695</td>\n",
              "      <td>-14.857328</td>\n",
              "      <td>8.832773</td>\n",
              "      <td>-5.479335</td>\n",
              "      <td>-13.229996</td>\n",
              "      <td>...</td>\n",
              "      <td>-0.261749</td>\n",
              "      <td>-0.413578</td>\n",
              "      <td>0.519940</td>\n",
              "      <td>-0.702859</td>\n",
              "      <td>-0.161592</td>\n",
              "      <td>-2.474822</td>\n",
              "      <td>-0.721608</td>\n",
              "      <td>0.206915</td>\n",
              "      <td>0.091424</td>\n",
              "      <td>1</td>\n",
              "    </tr>\n",
              "    <tr>\n",
              "      <th>227497</th>\n",
              "      <td>-2.130029</td>\n",
              "      <td>1.393243</td>\n",
              "      <td>-0.610282</td>\n",
              "      <td>1.097765</td>\n",
              "      <td>-1.145266</td>\n",
              "      <td>-0.779364</td>\n",
              "      <td>-2.004996</td>\n",
              "      <td>0.578112</td>\n",
              "      <td>-0.990660</td>\n",
              "      <td>-2.506929</td>\n",
              "      <td>...</td>\n",
              "      <td>0.718471</td>\n",
              "      <td>-0.159213</td>\n",
              "      <td>-0.044114</td>\n",
              "      <td>0.267863</td>\n",
              "      <td>-0.459835</td>\n",
              "      <td>-0.385126</td>\n",
              "      <td>-0.143749</td>\n",
              "      <td>-0.037942</td>\n",
              "      <td>-0.419416</td>\n",
              "      <td>1</td>\n",
              "    </tr>\n",
              "    <tr>\n",
              "      <th>227498</th>\n",
              "      <td>-1.278324</td>\n",
              "      <td>2.445764</td>\n",
              "      <td>-2.816353</td>\n",
              "      <td>2.337650</td>\n",
              "      <td>-1.357786</td>\n",
              "      <td>-0.952941</td>\n",
              "      <td>-3.054281</td>\n",
              "      <td>1.160062</td>\n",
              "      <td>-2.255877</td>\n",
              "      <td>-4.852642</td>\n",
              "      <td>...</td>\n",
              "      <td>0.077456</td>\n",
              "      <td>-0.223092</td>\n",
              "      <td>-0.512078</td>\n",
              "      <td>0.224557</td>\n",
              "      <td>0.744227</td>\n",
              "      <td>0.630954</td>\n",
              "      <td>0.249745</td>\n",
              "      <td>-0.307275</td>\n",
              "      <td>-0.325846</td>\n",
              "      <td>1</td>\n",
              "    </tr>\n",
              "    <tr>\n",
              "      <th>227499</th>\n",
              "      <td>-7.809948</td>\n",
              "      <td>-2.327980</td>\n",
              "      <td>-4.980668</td>\n",
              "      <td>6.067831</td>\n",
              "      <td>-3.116364</td>\n",
              "      <td>0.057785</td>\n",
              "      <td>-3.418253</td>\n",
              "      <td>1.207979</td>\n",
              "      <td>-2.682117</td>\n",
              "      <td>-4.022966</td>\n",
              "      <td>...</td>\n",
              "      <td>0.332849</td>\n",
              "      <td>-3.348054</td>\n",
              "      <td>-0.068500</td>\n",
              "      <td>-0.897623</td>\n",
              "      <td>0.195784</td>\n",
              "      <td>1.631892</td>\n",
              "      <td>-1.525191</td>\n",
              "      <td>8.720748</td>\n",
              "      <td>-0.188997</td>\n",
              "      <td>1</td>\n",
              "    </tr>\n",
              "  </tbody>\n",
              "</table>\n",
              "<p>227500 rows × 31 columns</p>\n",
              "</div>\n",
              "      <button class=\"colab-df-convert\" onclick=\"convertToInteractive('df-2d38bbc2-b0f4-4694-ace1-e0c94f042334')\"\n",
              "              title=\"Convert this dataframe to an interactive table.\"\n",
              "              style=\"display:none;\">\n",
              "        \n",
              "  <svg xmlns=\"http://www.w3.org/2000/svg\" height=\"24px\"viewBox=\"0 0 24 24\"\n",
              "       width=\"24px\">\n",
              "    <path d=\"M0 0h24v24H0V0z\" fill=\"none\"/>\n",
              "    <path d=\"M18.56 5.44l.94 2.06.94-2.06 2.06-.94-2.06-.94-.94-2.06-.94 2.06-2.06.94zm-11 1L8.5 8.5l.94-2.06 2.06-.94-2.06-.94L8.5 2.5l-.94 2.06-2.06.94zm10 10l.94 2.06.94-2.06 2.06-.94-2.06-.94-.94-2.06-.94 2.06-2.06.94z\"/><path d=\"M17.41 7.96l-1.37-1.37c-.4-.4-.92-.59-1.43-.59-.52 0-1.04.2-1.43.59L10.3 9.45l-7.72 7.72c-.78.78-.78 2.05 0 2.83L4 21.41c.39.39.9.59 1.41.59.51 0 1.02-.2 1.41-.59l7.78-7.78 2.81-2.81c.8-.78.8-2.07 0-2.86zM5.41 20L4 18.59l7.72-7.72 1.47 1.35L5.41 20z\"/>\n",
              "  </svg>\n",
              "      </button>\n",
              "      \n",
              "  <style>\n",
              "    .colab-df-container {\n",
              "      display:flex;\n",
              "      flex-wrap:wrap;\n",
              "      gap: 12px;\n",
              "    }\n",
              "\n",
              "    .colab-df-convert {\n",
              "      background-color: #E8F0FE;\n",
              "      border: none;\n",
              "      border-radius: 50%;\n",
              "      cursor: pointer;\n",
              "      display: none;\n",
              "      fill: #1967D2;\n",
              "      height: 32px;\n",
              "      padding: 0 0 0 0;\n",
              "      width: 32px;\n",
              "    }\n",
              "\n",
              "    .colab-df-convert:hover {\n",
              "      background-color: #E2EBFA;\n",
              "      box-shadow: 0px 1px 2px rgba(60, 64, 67, 0.3), 0px 1px 3px 1px rgba(60, 64, 67, 0.15);\n",
              "      fill: #174EA6;\n",
              "    }\n",
              "\n",
              "    [theme=dark] .colab-df-convert {\n",
              "      background-color: #3B4455;\n",
              "      fill: #D2E3FC;\n",
              "    }\n",
              "\n",
              "    [theme=dark] .colab-df-convert:hover {\n",
              "      background-color: #434B5C;\n",
              "      box-shadow: 0px 1px 3px 1px rgba(0, 0, 0, 0.15);\n",
              "      filter: drop-shadow(0px 1px 2px rgba(0, 0, 0, 0.3));\n",
              "      fill: #FFFFFF;\n",
              "    }\n",
              "  </style>\n",
              "\n",
              "      <script>\n",
              "        const buttonEl =\n",
              "          document.querySelector('#df-2d38bbc2-b0f4-4694-ace1-e0c94f042334 button.colab-df-convert');\n",
              "        buttonEl.style.display =\n",
              "          google.colab.kernel.accessAllowed ? 'block' : 'none';\n",
              "\n",
              "        async function convertToInteractive(key) {\n",
              "          const element = document.querySelector('#df-2d38bbc2-b0f4-4694-ace1-e0c94f042334');\n",
              "          const dataTable =\n",
              "            await google.colab.kernel.invokeFunction('convertToInteractive',\n",
              "                                                     [key], {});\n",
              "          if (!dataTable) return;\n",
              "\n",
              "          const docLinkHtml = 'Like what you see? Visit the ' +\n",
              "            '<a target=\"_blank\" href=https://colab.research.google.com/notebooks/data_table.ipynb>data table notebook</a>'\n",
              "            + ' to learn more about interactive tables.';\n",
              "          element.innerHTML = '';\n",
              "          dataTable['output_type'] = 'display_data';\n",
              "          await google.colab.output.renderOutput(dataTable, element);\n",
              "          const docLink = document.createElement('div');\n",
              "          docLink.innerHTML = docLinkHtml;\n",
              "          element.appendChild(docLink);\n",
              "        }\n",
              "      </script>\n",
              "    </div>\n",
              "  </div>\n",
              "  "
            ]
          },
          "metadata": {},
          "execution_count": 22
        }
      ]
    },
    {
      "cell_type": "code",
      "source": [
        "lgbm = LGBMClassifier(learning_rate=0.01)"
      ],
      "metadata": {
        "id": "WazFAFwu_J_0"
      },
      "execution_count": 24,
      "outputs": []
    },
    {
      "cell_type": "code",
      "source": [
        "lgbm.fit(train_smote.drop(columns=['Class']), train_smote.Class)"
      ],
      "metadata": {
        "colab": {
          "base_uri": "https://localhost:8080/"
        },
        "outputId": "5e71fa1e-b852-4b41-cbc7-0bbcc5b286d7",
        "id": "H_hbEn4l_J_1"
      },
      "execution_count": 25,
      "outputs": [
        {
          "output_type": "execute_result",
          "data": {
            "text/plain": [
              "LGBMClassifier(learning_rate=0.01)"
            ]
          },
          "metadata": {},
          "execution_count": 25
        }
      ]
    },
    {
      "cell_type": "code",
      "source": [
        "val_pred_lgbm = lgbm.predict(val)"
      ],
      "metadata": {
        "id": "tcZU96Q1_J_1"
      },
      "execution_count": 26,
      "outputs": []
    },
    {
      "cell_type": "code",
      "source": [
        "f1_score(val_class, val_pred_lgbm, average='macro')"
      ],
      "metadata": {
        "colab": {
          "base_uri": "https://localhost:8080/"
        },
        "outputId": "c6e5acc8-0992-4044-f0c0-da357471b2c2",
        "id": "aLFb86LB_J_1"
      },
      "execution_count": 27,
      "outputs": [
        {
          "output_type": "execute_result",
          "data": {
            "text/plain": [
              "0.9106263628050926"
            ]
          },
          "metadata": {},
          "execution_count": 27
        }
      ]
    },
    {
      "cell_type": "code",
      "source": [
        "val_prob_lgbm = lgbm.predict_proba(val)"
      ],
      "metadata": {
        "id": "9tGIZil8_J_2"
      },
      "execution_count": 28,
      "outputs": []
    },
    {
      "cell_type": "code",
      "source": [
        "plt.scatter(val[val_pred_lgbm==0]['V14'], val[val_pred_lgbm==0]['V17'], color='blue', label='normal')\n",
        "plt.scatter(val[val_pred_lgbm==1]['V14'], val[val_pred_lgbm==1]['V17'], color='red', label='fraud')\n",
        "\n",
        "plt.title('EDA + SMOTE + LGBM')\n",
        "plt.xlabel('V14')\n",
        "plt.ylabel('V17')\n",
        "\n",
        "plt.legend()\n",
        "\n",
        "plt.show()"
      ],
      "metadata": {
        "colab": {
          "base_uri": "https://localhost:8080/",
          "height": 295
        },
        "id": "1mrdA-DIQvwd",
        "outputId": "935de8b2-86d1-408d-c6a4-67fb4939adee"
      },
      "execution_count": 29,
      "outputs": [
        {
          "output_type": "display_data",
          "data": {
            "text/plain": [
              "<Figure size 432x288 with 1 Axes>"
            ],
            "image/png": "[encoded data removed]"
          },
          "metadata": {
            "needs_background": "light"
          }
        }
      ]
    },
    {
      "cell_type": "code",
      "source": [
        "plt.scatter(val[val_pred_lgbm==0]['V14'], val[val_pred_lgbm==0]['V12'], color='green', label='normal')\n",
        "plt.scatter(val[val_pred_lgbm==1]['V14'], val[val_pred_lgbm==1]['V12'], color='red', label='fraud')\n",
        "\n",
        "plt.title('EDA + SMOTE + LGBM')\n",
        "plt.xlabel('V14')\n",
        "plt.ylabel('V12')\n",
        "\n",
        "plt.legend()\n",
        "\n",
        "plt.show()"
      ],
      "metadata": {
        "colab": {
          "base_uri": "https://localhost:8080/",
          "height": 295
        },
        "id": "5XcTg9QwaNCF",
        "outputId": "d8600996-5816-421d-cdf5-9be3bba76e62"
      },
      "execution_count": null,
      "outputs": [
        {
          "output_type": "display_data",
          "data": {
            "text/plain": [
              "<Figure size 432x288 with 1 Axes>"
            ],
            "image/png": "[encoded data removed]"
          },
          "metadata": {
            "needs_background": "light"
          }
        }
      ]
    },
    {
      "cell_type": "code",
      "source": [
        "ensem = (val_prob_xgb + val_prob_lgbm)/2"
      ],
      "metadata": {
        "id": "phuddvQdJobr"
      },
      "execution_count": 30,
      "outputs": []
    },
    {
      "cell_type": "code",
      "source": [
        "prediction = []\n",
        "\n",
        "for i in range(len(ensem)):\n",
        "  if ensem[i][0] > ensem[i][1]:\n",
        "    prediction.append(0)\n",
        "  else:\n",
        "    prediction.append(1)"
      ],
      "metadata": {
        "id": "u-TrjMUNJTKT"
      },
      "execution_count": 31,
      "outputs": []
    },
    {
      "cell_type": "code",
      "source": [
        "f1_score(val_class,prediction, average='macro')"
      ],
      "metadata": {
        "colab": {
          "base_uri": "https://localhost:8080/"
        },
        "id": "5kD8P3rwKLRC",
        "outputId": "019e52b4-e621-4983-a806-44f709fced33"
      },
      "execution_count": 32,
      "outputs": [
        {
          "output_type": "execute_result",
          "data": {
            "text/plain": [
              "0.9236496787663914"
            ]
          },
          "metadata": {},
          "execution_count": 32
        }
      ]
    },
    {
      "cell_type": "code",
      "source": [
        "plt.scatter(val[np.array(prediction)==0]['V14'], val[np.array(prediction)==0]['V17'], color='blue', label='normal')\n",
        "plt.scatter(val[np.array(prediction)==1]['V14'], val[np.array(prediction)==1]['V17'], color='red', label='fraud')\n",
        "\n",
        "plt.title('Ensemble with Over Sampling')\n",
        "plt.xlabel('V14')\n",
        "plt.ylabel('V17')\n",
        "\n",
        "plt.legend()\n",
        "\n",
        "plt.show()"
      ],
      "metadata": {
        "colab": {
          "base_uri": "https://localhost:8080/",
          "height": 295
        },
        "id": "-20Bx_fFQ8j5",
        "outputId": "cbf27930-41de-4aa6-fdd6-1789077063a0"
      },
      "execution_count": 33,
      "outputs": [
        {
          "output_type": "display_data",
          "data": {
            "text/plain": [
              "<Figure size 432x288 with 1 Axes>"
            ],
            "image/png": "[encoded data removed]"
          },
          "metadata": {
            "needs_background": "light"
          }
        }
      ]
    },
    {
      "cell_type": "code",
      "source": [
        "plt.scatter(val[np.array(prediction)==0]['V14'], val[np.array(prediction)==0]['V12'], color='green', label='normal')\n",
        "plt.scatter(val[np.array(prediction)==1]['V14'], val[np.array(prediction)==1]['V12'], color='red', label='fraud')\n",
        "\n",
        "plt.title('Ensemble with Over Sampling')\n",
        "plt.xlabel('V14')\n",
        "plt.ylabel('V12')\n",
        "\n",
        "plt.legend()\n",
        "\n",
        "plt.show()"
      ],
      "metadata": {
        "colab": {
          "base_uri": "https://localhost:8080/",
          "height": 295
        },
        "id": "L7BqLk0PalfW",
        "outputId": "9699c79c-d040-4a8e-afaf-10e76a2605c0"
      },
      "execution_count": null,
      "outputs": [
        {
          "output_type": "display_data",
          "data": {
            "text/plain": [
              "<Figure size 432x288 with 1 Axes>"
            ],
            "image/png": "[encoded data removed]"
          },
          "metadata": {
            "needs_background": "light"
          }
        }
      ]
    },
    {
      "cell_type": "code",
      "source": [
        "test_prob_xgb = xgb.predict_proba(test)"
      ],
      "metadata": {
        "id": "iqJW7z0aLDch"
      },
      "execution_count": null,
      "outputs": []
    },
    {
      "cell_type": "code",
      "source": [
        "test_prob_lgbm = lgbm.predict_proba(test)"
      ],
      "metadata": {
        "id": "YMsuQElQLh4B"
      },
      "execution_count": null,
      "outputs": []
    },
    {
      "cell_type": "code",
      "source": [
        "test_ensem = (test_prob_xgb + test_prob_lgbm)/2"
      ],
      "metadata": {
        "id": "3FBPYGkfLlwa"
      },
      "execution_count": null,
      "outputs": []
    },
    {
      "cell_type": "code",
      "source": [
        "test_prediction = []\n",
        "\n",
        "for i in range(len(test_ensem)):\n",
        "  if test_ensem[i][0] > test_ensem[i][1]:\n",
        "    test_prediction.append(0)\n",
        "  else:\n",
        "    test_prediction.append(1)"
      ],
      "metadata": {
        "id": "jCCvxHtDLqcj"
      },
      "execution_count": null,
      "outputs": []
    },
    {
      "cell_type": "code",
      "source": [
        "submission.Class = test_prediction"
      ],
      "metadata": {
        "id": "V41pV3rH0siv"
      },
      "execution_count": null,
      "outputs": []
    },
    {
      "cell_type": "code",
      "source": [
        "submission.to_csv('submission_oversampling_ensemble.csv', index=False)"
      ],
      "metadata": {
        "id": "3Oq2gK1X1IeG"
      },
      "execution_count": null,
      "outputs": []
    },
    {
      "cell_type": "code",
      "source": [
        "train['Class'] = ((train.V14 + train.V17 + 10) < 0)"
      ],
      "metadata": {
        "id": "zx_DUfglGDmf"
      },
      "execution_count": 50,
      "outputs": []
    },
    {
      "cell_type": "code",
      "source": [
        "train['Class'] = train['Class'].astype(int)"
      ],
      "metadata": {
        "id": "M-Izxb36GDmg"
      },
      "execution_count": 51,
      "outputs": []
    },
    {
      "cell_type": "code",
      "source": [
        "from imblearn.over_sampling import BorderlineSMOTE\n",
        "\n",
        "border_smote = BorderlineSMOTE(random_state=22)\n",
        "\n",
        "trainX_resampled2, trainY_resampled2 = border_smote.fit_resample(train.drop(columns=['Class']), train.Class)"
      ],
      "metadata": {
        "id": "h850xdDoEYQ1"
      },
      "execution_count": 52,
      "outputs": []
    },
    {
      "cell_type": "code",
      "source": [
        "plt.scatter(trainX_resampled2[trainY_resampled2==0]['V14'], trainX_resampled2[trainY_resampled2==0]['V17'], color='blue', label='normal')\n",
        "plt.scatter(trainX_resampled2[trainY_resampled2==1]['V14'], trainX_resampled2[trainY_resampled2==1]['V17'], color='red', label='fraud')\n",
        "\n",
        "plt.title('EDA + SMOTE + LGBM')\n",
        "plt.xlabel('V14')\n",
        "plt.ylabel('V17')\n",
        "\n",
        "plt.legend()\n",
        "\n",
        "plt.show()"
      ],
      "metadata": {
        "colab": {
          "base_uri": "https://localhost:8080/",
          "height": 295
        },
        "id": "1lwEUTfNE8B6",
        "outputId": "469e3f1b-6f4e-433b-bef4-bb9a56fd3118"
      },
      "execution_count": 53,
      "outputs": [
        {
          "output_type": "display_data",
          "data": {
            "text/plain": [
              "<Figure size 432x288 with 1 Axes>"
            ],
            "image/png": "[encoded data removed]"
          },
          "metadata": {
            "needs_background": "light"
          }
        }
      ]
    },
    {
      "cell_type": "code",
      "source": [
        "lgbm2 = XGBClassifier(n_estimators=2000, max_depth=6, subsample=0.5, learning_rate=0.1, objective='binary:logistic', random_state=0)"
      ],
      "metadata": {
        "id": "L3YivdHSEWdw"
      },
      "execution_count": 72,
      "outputs": []
    },
    {
      "cell_type": "code",
      "source": [
        "lgbm2.fit(trainX_resampled2, trainY_resampled2)"
      ],
      "metadata": {
        "colab": {
          "base_uri": "https://localhost:8080/"
        },
        "outputId": "821f63e8-dd24-48bc-eafa-6006f2defe95",
        "id": "-Jjoki1fEWdx"
      },
      "execution_count": 73,
      "outputs": [
        {
          "output_type": "execute_result",
          "data": {
            "text/plain": [
              "XGBClassifier(max_depth=6, n_estimators=2000, subsample=0.5)"
            ]
          },
          "metadata": {},
          "execution_count": 73
        }
      ]
    },
    {
      "cell_type": "code",
      "source": [
        "val_pred_lgbm2 = lgbm2.predict(val)"
      ],
      "metadata": {
        "id": "NefAU_TcEWdx"
      },
      "execution_count": 74,
      "outputs": []
    },
    {
      "cell_type": "code",
      "source": [
        "f1_score(val_class, val_pred_lgbm2, average='macro')"
      ],
      "metadata": {
        "colab": {
          "base_uri": "https://localhost:8080/"
        },
        "outputId": "077ffdd2-d784-47e7-da9b-0848ee2cbb17",
        "id": "5n-PCSoiEWdx"
      },
      "execution_count": 75,
      "outputs": [
        {
          "output_type": "execute_result",
          "data": {
            "text/plain": [
              "0.9073194875902806"
            ]
          },
          "metadata": {},
          "execution_count": 75
        }
      ]
    },
    {
      "cell_type": "code",
      "source": [
        "val_prob_lgbm2 = lgbm2.predict_proba(val)"
      ],
      "metadata": {
        "id": "4hA3xhOhEWdx"
      },
      "execution_count": 76,
      "outputs": []
    },
    {
      "cell_type": "code",
      "source": [
        "plt.scatter(val[val_pred_lgbm2==0]['V14'], val[val_pred_lgbm2==0]['V17'], color='blue', label='normal')\n",
        "plt.scatter(val[val_pred_lgbm2==1]['V14'], val[val_pred_lgbm2==1]['V17'], color='red', label='fraud')\n",
        "\n",
        "plt.title('EDA + SMOTE + LGBM')\n",
        "plt.xlabel('V14')\n",
        "plt.ylabel('V17')\n",
        "\n",
        "plt.legend()\n",
        "\n",
        "plt.show()"
      ],
      "metadata": {
        "colab": {
          "base_uri": "https://localhost:8080/",
          "height": 295
        },
        "outputId": "81cdc0fb-a31b-422a-b2ec-d358890998b0",
        "id": "sSbkrOAFEWdx"
      },
      "execution_count": 77,
      "outputs": [
        {
          "output_type": "display_data",
          "data": {
            "text/plain": [
              "<Figure size 432x288 with 1 Axes>"
            ],
            "image/png": "[encoded data removed]"
          },
          "metadata": {
            "needs_background": "light"
          }
        }
      ]
    },
    {
      "cell_type": "code",
      "source": [
        "ensem2 = 0.55*val_prob_xgb + 0.45*val_prob_lgbm2"
      ],
      "metadata": {
        "id": "bF0X1wTVGS00"
      },
      "execution_count": 88,
      "outputs": []
    },
    {
      "cell_type": "code",
      "source": [
        "prediction2 = []\n",
        "\n",
        "for i in range(len(ensem2)):\n",
        "  if ensem2[i][0] > ensem2[i][1]:\n",
        "    prediction2.append(0)\n",
        "  else:\n",
        "    prediction2.append(1)"
      ],
      "metadata": {
        "id": "UyNmjvjIGS01"
      },
      "execution_count": 89,
      "outputs": []
    },
    {
      "cell_type": "code",
      "source": [
        "f1_score(val_class,prediction2, average='macro')"
      ],
      "metadata": {
        "colab": {
          "base_uri": "https://localhost:8080/"
        },
        "outputId": "9e6aa135-9a2b-4bf7-b2f6-a432899478d2",
        "id": "B4Hm7fE9GS01"
      },
      "execution_count": 90,
      "outputs": [
        {
          "output_type": "execute_result",
          "data": {
            "text/plain": [
              "0.9236496787663914"
            ]
          },
          "metadata": {},
          "execution_count": 90
        }
      ]
    },
    {
      "cell_type": "code",
      "source": [
        "plt.scatter(val[np.array(prediction2)==0]['V14'], val[np.array(prediction2)==0]['V17'], color='blue', label='normal')\n",
        "plt.scatter(val[np.array(prediction2)==1]['V14'], val[np.array(prediction2)==1]['V17'], color='red', label='fraud')\n",
        "\n",
        "plt.title('Ensemble with Over Sampling')\n",
        "plt.xlabel('V14')\n",
        "plt.ylabel('V17')\n",
        "\n",
        "plt.legend()\n",
        "\n",
        "plt.show()"
      ],
      "metadata": {
        "colab": {
          "base_uri": "https://localhost:8080/",
          "height": 295
        },
        "outputId": "d16e62a9-c756-4acb-e065-901da909c621",
        "id": "dgm8I5kiGS01"
      },
      "execution_count": 91,
      "outputs": [
        {
          "output_type": "display_data",
          "data": {
            "text/plain": [
              "<Figure size 432x288 with 1 Axes>"
            ],
            "image/png": "[encoded data removed]"
          },
          "metadata": {
            "needs_background": "light"
          }
        }
      ]
    },
    {
      "cell_type": "code",
      "source": [
        "test_prob_xgb = xgb.predict_proba(test)"
      ],
      "metadata": {
        "id": "ByCdrDQNJTAU"
      },
      "execution_count": 92,
      "outputs": []
    },
    {
      "cell_type": "code",
      "source": [
        "test_prob_lgbm2 = lgbm2.predict_proba(test)"
      ],
      "metadata": {
        "id": "UBOXv2tRJTAU"
      },
      "execution_count": 93,
      "outputs": []
    },
    {
      "cell_type": "code",
      "source": [
        "test_ensem2 = 0.55*test_prob_xgb + 0.45*test_prob_lgbm2"
      ],
      "metadata": {
        "id": "BB_E-eWDJTAU"
      },
      "execution_count": 94,
      "outputs": []
    },
    {
      "cell_type": "code",
      "source": [
        "test_prediction2 = []\n",
        "\n",
        "for i in range(len(test_ensem2)):\n",
        "  if test_ensem2[i][0] > test_ensem2[i][1]:\n",
        "    test_prediction2.append(0)\n",
        "  else:\n",
        "    test_prediction2.append(1)"
      ],
      "metadata": {
        "id": "cHX07X63JTAV"
      },
      "execution_count": 95,
      "outputs": []
    },
    {
      "cell_type": "code",
      "source": [
        "submission.Class = test_prediction2"
      ],
      "metadata": {
        "id": "5bpti4e9JTAV"
      },
      "execution_count": 96,
      "outputs": []
    },
    {
      "cell_type": "code",
      "source": [
        "ss = pd.read_csv('submission_oversampling_ensemble.csv')"
      ],
      "metadata": {
        "id": "wQcDNYO2JmT5"
      },
      "execution_count": 100,
      "outputs": []
    },
    {
      "cell_type": "code",
      "source": [
        "sum(ss.Class == test_prediction2)/len(test_prediction2)"
      ],
      "metadata": {
        "colab": {
          "base_uri": "https://localhost:8080/"
        },
        "id": "jJnZrnqHJsaZ",
        "outputId": "27e83c44-6b0d-4673-832d-d2201c9a0447"
      },
      "execution_count": 104,
      "outputs": [
        {
          "output_type": "execute_result",
          "data": {
            "text/plain": [
              "0.999992982603875"
            ]
          },
          "metadata": {},
          "execution_count": 104
        }
      ]
    },
    {
      "cell_type": "code",
      "source": [
        "submission.to_csv('submission_oversampling_ensemble2.csv', index=False)"
      ],
      "metadata": {
        "id": "4Z0m-YsJJ9v0"
      },
      "execution_count": 105,
      "outputs": []
    },
    {
      "cell_type": "code",
      "source": [
        "ada2 = ADASYN(random_state=22)\n",
        "\n",
        "trainX_resampled_adasyn2, trainY_resampled_adasyn2 = ada2.fit_resample(train.drop(columns=['Class']), train.Class)"
      ],
      "metadata": {
        "id": "jEy4iOnWKXsl"
      },
      "execution_count": 106,
      "outputs": []
    },
    {
      "cell_type": "code",
      "source": [
        "plt.scatter(trainX_resampled_adasyn2[trainY_resampled_adasyn2==0]['V14'], trainX_resampled_adasyn2[trainY_resampled_adasyn2==0]['V17'], color='blue', label='normal')\n",
        "plt.scatter(trainX_resampled_adasyn2[trainY_resampled_adasyn2==1]['V14'], trainX_resampled_adasyn2[trainY_resampled_adasyn2==1]['V17'], color='red', label='fraud')\n",
        "\n",
        "plt.title('EDA + SMOTE + LGBM')\n",
        "plt.xlabel('V14')\n",
        "plt.ylabel('V17')\n",
        "\n",
        "plt.legend()\n",
        "\n",
        "plt.show()"
      ],
      "metadata": {
        "colab": {
          "base_uri": "https://localhost:8080/",
          "height": 295
        },
        "outputId": "8d9b0025-cf28-4d62-8cb0-32b328084079",
        "id": "N-ro9B6NKXsl"
      },
      "execution_count": 107,
      "outputs": [
        {
          "output_type": "display_data",
          "data": {
            "text/plain": [
              "<Figure size 432x288 with 1 Axes>"
            ],
            "image/png": "[encoded data removed]"
          },
          "metadata": {
            "needs_background": "light"
          }
        }
      ]
    },
    {
      "cell_type": "code",
      "source": [
        "lgbm3 = LGBMClassifier(learning_rate=0.01)"
      ],
      "metadata": {
        "id": "qfyVIBJBKzi9"
      },
      "execution_count": 108,
      "outputs": []
    },
    {
      "cell_type": "code",
      "source": [
        "lgbm3.fit(trainX_resampled_adasyn2, trainY_resampled_adasyn2)"
      ],
      "metadata": {
        "colab": {
          "base_uri": "https://localhost:8080/"
        },
        "outputId": "c0cf4146-6e0b-4a1b-b90d-d40ae18e9dca",
        "id": "IXPe5HvPKzi-"
      },
      "execution_count": 109,
      "outputs": [
        {
          "output_type": "execute_result",
          "data": {
            "text/plain": [
              "LGBMClassifier(learning_rate=0.01)"
            ]
          },
          "metadata": {},
          "execution_count": 109
        }
      ]
    },
    {
      "cell_type": "code",
      "source": [
        "val_pred_lgbm3 = lgbm3.predict(val)"
      ],
      "metadata": {
        "id": "d4G2qEb3Kzi-"
      },
      "execution_count": 112,
      "outputs": []
    },
    {
      "cell_type": "code",
      "source": [
        "f1_score(val_class, val_pred_lgbm3, average='macro')"
      ],
      "metadata": {
        "colab": {
          "base_uri": "https://localhost:8080/"
        },
        "outputId": "c97968d1-501f-45ba-f67a-18d22cfdd6d2",
        "id": "5GzH3MfEKzi_"
      },
      "execution_count": 113,
      "outputs": [
        {
          "output_type": "execute_result",
          "data": {
            "text/plain": [
              "0.9106263628050926"
            ]
          },
          "metadata": {},
          "execution_count": 113
        }
      ]
    },
    {
      "cell_type": "code",
      "source": [
        "val_prob_lgbm3 = lgbm3.predict_proba(val)"
      ],
      "metadata": {
        "id": "wnw6zupVKzi_"
      },
      "execution_count": 114,
      "outputs": []
    },
    {
      "cell_type": "code",
      "source": [
        "plt.scatter(val[val_pred_lgbm3==0]['V14'], val[val_pred_lgbm3==0]['V17'], color='blue', label='normal')\n",
        "plt.scatter(val[val_pred_lgbm3==1]['V14'], val[val_pred_lgbm3==1]['V17'], color='red', label='fraud')\n",
        "\n",
        "plt.title('EDA + SMOTE + LGBM')\n",
        "plt.xlabel('V14')\n",
        "plt.ylabel('V17')\n",
        "\n",
        "plt.legend()\n",
        "\n",
        "plt.show()"
      ],
      "metadata": {
        "colab": {
          "base_uri": "https://localhost:8080/",
          "height": 295
        },
        "outputId": "f7dab6c9-8cab-44c0-c9ba-7fd094a8b9b2",
        "id": "752QmwZ0Kzi_"
      },
      "execution_count": 115,
      "outputs": [
        {
          "output_type": "display_data",
          "data": {
            "text/plain": [
              "<Figure size 432x288 with 1 Axes>"
            ],
            "image/png": "[encoded data removed]"
          },
          "metadata": {
            "needs_background": "light"
          }
        }
      ]
    },
    {
      "cell_type": "code",
      "source": [
        "ensem2 = 0.4*val_prob_xgb + 0.6*val_prob_lgbm2"
      ],
      "metadata": {
        "id": "m6QP2NvwLrLS"
      },
      "execution_count": 137,
      "outputs": []
    },
    {
      "cell_type": "code",
      "source": [
        "prediction2 = []\n",
        "\n",
        "for i in range(len(ensem2)):\n",
        "  if ensem2[i][0] > ensem2[i][1]:\n",
        "    prediction2.append(0)\n",
        "  else:\n",
        "    prediction2.append(1)"
      ],
      "metadata": {
        "id": "gutpxA1-LrLT"
      },
      "execution_count": 138,
      "outputs": []
    },
    {
      "cell_type": "code",
      "source": [
        "f1_score(val_class,prediction2, average='macro')"
      ],
      "metadata": {
        "colab": {
          "base_uri": "https://localhost:8080/"
        },
        "outputId": "6d9e56f8-5879-4d7a-971c-97adc9229335",
        "id": "-TQMIDxQLrLT"
      },
      "execution_count": 139,
      "outputs": [
        {
          "output_type": "execute_result",
          "data": {
            "text/plain": [
              "0.928501090244074"
            ]
          },
          "metadata": {},
          "execution_count": 139
        }
      ]
    },
    {
      "cell_type": "code",
      "source": [
        "plt.scatter(val[np.array(prediction2)==0]['V14'], val[np.array(prediction2)==0]['V17'], color='blue', label='normal')\n",
        "plt.scatter(val[np.array(prediction2)==1]['V14'], val[np.array(prediction2)==1]['V17'], color='red', label='fraud')\n",
        "\n",
        "plt.title('Ensemble with Over Sampling')\n",
        "plt.xlabel('V14')\n",
        "plt.ylabel('V17')\n",
        "\n",
        "plt.legend()\n",
        "\n",
        "plt.show()"
      ],
      "metadata": {
        "colab": {
          "base_uri": "https://localhost:8080/",
          "height": 295
        },
        "outputId": "9fb4e2e3-1b5c-4213-8faa-6d058b768120",
        "id": "iG4nn-5pLrLT"
      },
      "execution_count": 140,
      "outputs": [
        {
          "output_type": "display_data",
          "data": {
            "text/plain": [
              "<Figure size 432x288 with 1 Axes>"
            ],
            "image/png": "[encoded data removed]"
          },
          "metadata": {
            "needs_background": "light"
          }
        }
      ]
    },
    {
      "cell_type": "code",
      "source": [
        "#test_prob_xgb = xgb.predict_proba(test)"
      ],
      "metadata": {
        "id": "tPbupUusLNI3"
      },
      "execution_count": 116,
      "outputs": []
    },
    {
      "cell_type": "code",
      "source": [
        "test_prob_lgbm3 = lgbm3.predict_proba(test)"
      ],
      "metadata": {
        "id": "IDGa0aqTLNI4"
      },
      "execution_count": 117,
      "outputs": []
    },
    {
      "cell_type": "code",
      "source": [
        "test_ensem3 = 0.4*test_prob_xgb + 0.6*test_prob_lgbm3"
      ],
      "metadata": {
        "id": "SBd5uedVLNI4"
      },
      "execution_count": 141,
      "outputs": []
    },
    {
      "cell_type": "code",
      "source": [
        "test_prediction3 = []\n",
        "\n",
        "for i in range(len(test_ensem3)):\n",
        "  if test_ensem3[i][0] > test_ensem3[i][1]:\n",
        "    test_prediction3.append(0)\n",
        "  else:\n",
        "    test_prediction3.append(1)"
      ],
      "metadata": {
        "id": "dA-JSjRKLNI4"
      },
      "execution_count": 142,
      "outputs": []
    },
    {
      "cell_type": "code",
      "source": [
        "submission.Class = test_prediction3"
      ],
      "metadata": {
        "id": "OAmlhbS3LNI4"
      },
      "execution_count": 144,
      "outputs": []
    },
    {
      "cell_type": "code",
      "source": [
        "submission.to_csv('submission_oversampling_ensemble3.csv', index=False)"
      ],
      "metadata": {
        "id": "T4o9-zQ_MOk3"
      },
      "execution_count": 145,
      "outputs": []
    },
    {
      "cell_type": "code",
      "source": [
        "ss = pd.read_csv('submission_oversampling_ensembl.csv')"
      ],
      "metadata": {
        "id": "2i78s9X2LNI4"
      },
      "execution_count": null,
      "outputs": []
    },
    {
      "cell_type": "code",
      "source": [
        "sum(test_prediction2 == test_prediction3)/len(test_prediction3)"
      ],
      "metadata": {
        "colab": {
          "base_uri": "https://localhost:8080/",
          "height": 172
        },
        "outputId": "d23de7cd-35f4-47b0-d389-d32f78b90ee3",
        "id": "vO4EOhPLLNI4"
      },
      "execution_count": 146,
      "outputs": [
        {
          "output_type": "error",
          "ename": "TypeError",
          "evalue": "ignored",
          "traceback": [
            "\u001b[0;31m---------------------------------------------------------------------------\u001b[0m",
            "\u001b[0;31mTypeError\u001b[0m                                 Traceback (most recent call last)",
            "\u001b[0;32m<ipython-input-146-4057351df365>\u001b[0m in \u001b[0;36m<module>\u001b[0;34m\u001b[0m\n\u001b[0;32m----> 1\u001b[0;31m \u001b[0msum\u001b[0m\u001b[0;34m(\u001b[0m\u001b[0mtest_prediction2\u001b[0m \u001b[0;34m==\u001b[0m \u001b[0mtest_prediction3\u001b[0m\u001b[0;34m)\u001b[0m\u001b[0;34m/\u001b[0m\u001b[0mlen\u001b[0m\u001b[0;34m(\u001b[0m\u001b[0mtest_prediction3\u001b[0m\u001b[0;34m)\u001b[0m\u001b[0;34m\u001b[0m\u001b[0;34m\u001b[0m\u001b[0m\n\u001b[0m",
            "\u001b[0;31mTypeError\u001b[0m: 'bool' object is not iterable"
          ]
        }
      ]
    },
    {
      "cell_type": "code",
      "source": [
        "num = 0\n",
        "for i in range(len(test_prediction2)):\n",
        "  if test_prediction2[i] == test_prediction3[i]:\n",
        "    num += 1"
      ],
      "metadata": {
        "id": "QWZS2L3YMYCT"
      },
      "execution_count": 150,
      "outputs": []
    },
    {
      "cell_type": "code",
      "source": [
        "num/len(test_prediction2)"
      ],
      "metadata": {
        "colab": {
          "base_uri": "https://localhost:8080/"
        },
        "id": "jEwBZzzJMjlr",
        "outputId": "7fcd1ab1-ec14-41fd-8509-2c4f0506bbb2"
      },
      "execution_count": 151,
      "outputs": [
        {
          "output_type": "execute_result",
          "data": {
            "text/plain": [
              "0.99998596520775"
            ]
          },
          "metadata": {},
          "execution_count": 151
        }
      ]
    },
    {
      "cell_type": "code",
      "source": [
        "xgb2 =LGBMClassifier(n_estimators=2000, max_depth=6, subsample=0.5, learning_rate=0.01, objective='binary', random_state=0)"
      ],
      "metadata": {
        "id": "n92T3KHlN8oB"
      },
      "execution_count": 156,
      "outputs": []
    },
    {
      "cell_type": "code",
      "source": [
        "xgb2.fit(trainX_resampled_adasyn2, trainY_resampled_adasyn2)"
      ],
      "metadata": {
        "colab": {
          "base_uri": "https://localhost:8080/"
        },
        "outputId": "3ffbacb3-8be3-4232-eaab-762e17d90500",
        "id": "af8HYXyYN8oC"
      },
      "execution_count": 157,
      "outputs": [
        {
          "output_type": "execute_result",
          "data": {
            "text/plain": [
              "LGBMClassifier(learning_rate=0.01, max_depth=6, n_estimators=2000,\n",
              "               objective='binary', random_state=0, subsample=0.5)"
            ]
          },
          "metadata": {},
          "execution_count": 157
        }
      ]
    },
    {
      "cell_type": "code",
      "source": [
        "val_pred_xgb2 = xgb2.predict(val)"
      ],
      "metadata": {
        "id": "rK7JqULcN8oC"
      },
      "execution_count": 158,
      "outputs": []
    },
    {
      "cell_type": "code",
      "source": [
        "f1_score(val_class, val_pred_xgb2, average='macro')"
      ],
      "metadata": {
        "colab": {
          "base_uri": "https://localhost:8080/"
        },
        "outputId": "cd450b50-cc05-43bc-bbd6-2529ecf333e9",
        "id": "cpVsOKWpN8oD"
      },
      "execution_count": 159,
      "outputs": [
        {
          "output_type": "execute_result",
          "data": {
            "text/plain": [
              "0.9073194875902806"
            ]
          },
          "metadata": {},
          "execution_count": 159
        }
      ]
    },
    {
      "cell_type": "code",
      "source": [
        "val_prob_xgb2 = xgb2.predict_proba(val)"
      ],
      "metadata": {
        "id": "5t2_5GNJN8oD"
      },
      "execution_count": 161,
      "outputs": []
    },
    {
      "cell_type": "code",
      "source": [
        "plt.scatter(val[val_pred_xgb2==0]['V14'], val[val_pred_xgb2==0]['V17'], color='blue', label='normal')\n",
        "plt.scatter(val[val_pred_xgb2==1]['V14'], val[val_pred_xgb2==1]['V17'], color='red', label='fraud')\n",
        "\n",
        "plt.title('EDA + SMOTE + LGBM')\n",
        "plt.xlabel('V14')\n",
        "plt.ylabel('V17')\n",
        "\n",
        "plt.legend()\n",
        "\n",
        "plt.show()"
      ],
      "metadata": {
        "colab": {
          "base_uri": "https://localhost:8080/",
          "height": 295
        },
        "outputId": "2af57c8c-e628-4913-f134-040151a7154d",
        "id": "xHcEY1fFN8oD"
      },
      "execution_count": 160,
      "outputs": [
        {
          "output_type": "display_data",
          "data": {
            "text/plain": [
              "<Figure size 432x288 with 1 Axes>"
            ],
            "image/png": "[encoded data removed]"
          },
          "metadata": {
            "needs_background": "light"
          }
        }
      ]
    },
    {
      "cell_type": "code",
      "source": [
        "ensem4 = 0.5*val_prob_xgb + 0.5*val_prob_xgb2"
      ],
      "metadata": {
        "id": "sps4dkGXRWwB"
      },
      "execution_count": 167,
      "outputs": []
    },
    {
      "cell_type": "code",
      "source": [
        "prediction4 = []\n",
        "\n",
        "for i in range(len(ensem4)):\n",
        "  if ensem4[i][0] > ensem4[i][1]:\n",
        "    prediction4.append(0)\n",
        "  else:\n",
        "    prediction4.append(1)"
      ],
      "metadata": {
        "id": "h8yMV8QoRWwC"
      },
      "execution_count": 168,
      "outputs": []
    },
    {
      "cell_type": "code",
      "source": [
        "f1_score(val_class,prediction4, average='macro')"
      ],
      "metadata": {
        "colab": {
          "base_uri": "https://localhost:8080/"
        },
        "outputId": "151d6c27-6435-478d-a669-1286ba719481",
        "id": "hgON55m2RWwD"
      },
      "execution_count": 171,
      "outputs": [
        {
          "output_type": "execute_result",
          "data": {
            "text/plain": [
              "0.928501090244074"
            ]
          },
          "metadata": {},
          "execution_count": 171
        }
      ]
    },
    {
      "cell_type": "code",
      "source": [
        "test_prob_lgbm4 = xgb2.predict_proba(test)"
      ],
      "metadata": {
        "id": "1HbqaSKBRAbd"
      },
      "execution_count": 162,
      "outputs": []
    },
    {
      "cell_type": "code",
      "source": [
        "test_ensem4 = 0.5*test_prob_xgb + 0.5*test_prob_lgbm4"
      ],
      "metadata": {
        "id": "GXHQtLg-RAbe"
      },
      "execution_count": 163,
      "outputs": []
    },
    {
      "cell_type": "code",
      "source": [
        "test_prediction4 = []\n",
        "\n",
        "for i in range(len(test_ensem4)):\n",
        "  if test_ensem4[i][0] > test_ensem4[i][1]:\n",
        "    test_prediction4.append(0)\n",
        "  else:\n",
        "    test_prediction4.append(1)"
      ],
      "metadata": {
        "id": "3wFIe2YoRAbe"
      },
      "execution_count": 164,
      "outputs": []
    },
    {
      "cell_type": "code",
      "source": [
        "submission.Class = test_prediction4"
      ],
      "metadata": {
        "id": "3MEs-9aYRwPV"
      },
      "execution_count": 177,
      "outputs": []
    },
    {
      "cell_type": "code",
      "source": [
        "submission.to_csv('submission_oversampling_ensemble4.csv', index=False)"
      ],
      "metadata": {
        "id": "3tkyCabtRwPV"
      },
      "execution_count": 178,
      "outputs": []
    }
  ]
}