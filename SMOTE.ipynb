{
  "nbformat": 4,
  "nbformat_minor": 0,
  "metadata": {
    "colab": {
      "provenance": []
    },
    "kernelspec": {
      "name": "python3",
      "display_name": "Python 3"
    },
    "language_info": {
      "name": "python"
    }
  },
  "cells": [
    {
      "cell_type": "code",
      "execution_count": 2,
      "metadata": {
        "colab": {
          "base_uri": "https://localhost:8080/"
        },
        "id": "5rMHbP9LMK6e",
        "outputId": "fb8c872f-ae07-4e6d-bc16-0cd2d925807f"
      },
      "outputs": [
        {
          "output_type": "stream",
          "name": "stdout",
          "text": [
            "Mounted at /content/gdrive\n"
          ]
        }
      ],
      "source": [
        "from google.colab import drive\n",
        "drive.mount('/content/gdrive')"
      ]
    },
    {
      "cell_type": "code",
      "source": [
        "import numpy as np\n",
        "import pandas as pd\n",
        "import matplotlib\n",
        "import matplotlib.pyplot as plt\n",
        "import seaborn as sns\n",
        "from sklearn.metrics import f1_score"
      ],
      "metadata": {
        "id": "aOEbevS_NEL3"
      },
      "execution_count": 1,
      "outputs": []
    },
    {
      "cell_type": "code",
      "source": [
        "trainpath='/content/gdrive/MyDrive/YBIGTA_CreditAI/open/train.csv'\n",
        "testpath='/content/gdrive/MyDrive/YBIGTA_CreditAI/open/test.csv'\n",
        "valpath='/content/gdrive/MyDrive/YBIGTA_CreditAI/open/val.csv'\n",
        "submissionpath= '/content/gdrive/MyDrive/YBIGTA_CreditAI/open/sample_submission.csv'\n",
        "\n",
        "train=pd.read_csv(trainpath)\n",
        "test=pd.read_csv(testpath)\n",
        "val=pd.read_csv(valpath)\n",
        "submission=pd.read_csv(submissionpath)"
      ],
      "metadata": {
        "id": "xWN-Xc-oYZLk"
      },
      "execution_count": 3,
      "outputs": []
    },
    {
      "cell_type": "code",
      "source": [
        "train = train.drop(columns=['ID'])\n",
        "val_class = val.Class\n",
        "val = val.drop(columns=['ID', 'Class'])\n",
        "test = test.drop(columns=['ID'])"
      ],
      "metadata": {
        "id": "JeDsDbOFRR5g"
      },
      "execution_count": 4,
      "outputs": []
    },
    {
      "cell_type": "code",
      "source": [
        "# SMOTE를 써보자!\n",
        "# validation을 거의 완벽히 분류하는 기준을 찾아보자."
      ],
      "metadata": {
        "id": "-oOrvddbJ2Cz"
      },
      "execution_count": null,
      "outputs": []
    },
    {
      "cell_type": "code",
      "source": [
        "sum((val.V14 + val.V17 + 10) > 0)"
      ],
      "metadata": {
        "colab": {
          "base_uri": "https://localhost:8080/"
        },
        "id": "69AtnqGnRT_Y",
        "outputId": "e9d4fd95-b656-4ea1-c600-e6ccef23afa7"
      },
      "execution_count": 18,
      "outputs": [
        {
          "output_type": "execute_result",
          "data": {
            "text/plain": [
              "28444"
            ]
          },
          "metadata": {},
          "execution_count": 18
        }
      ]
    },
    {
      "cell_type": "code",
      "source": [
        "sum((val.V14 + val.V17 + 10) < 0)"
      ],
      "metadata": {
        "colab": {
          "base_uri": "https://localhost:8080/"
        },
        "id": "twfl2mAvR5V8",
        "outputId": "23a685f2-e73e-4edf-8a13-e288528cbd64"
      },
      "execution_count": 19,
      "outputs": [
        {
          "output_type": "execute_result",
          "data": {
            "text/plain": [
              "18"
            ]
          },
          "metadata": {},
          "execution_count": 19
        }
      ]
    },
    {
      "cell_type": "code",
      "source": [
        "train['Class'] = ((train.V14 + train.V17 + 10) < 0)"
      ],
      "metadata": {
        "id": "w5c_iKo_TRM5"
      },
      "execution_count": 24,
      "outputs": []
    },
    {
      "cell_type": "code",
      "source": [
        "train['Class'] = train['Class'].astype(int)"
      ],
      "metadata": {
        "id": "s9m7hG8STe4d"
      },
      "execution_count": 27,
      "outputs": []
    },
    {
      "cell_type": "code",
      "source": [
        "train"
      ],
      "metadata": {
        "colab": {
          "base_uri": "https://localhost:8080/",
          "height": 487
        },
        "id": "WtPOLCHpT3sJ",
        "outputId": "da00e927-878f-4c0d-b571-581e5afc566e"
      },
      "execution_count": 28,
      "outputs": [
        {
          "output_type": "execute_result",
          "data": {
            "text/plain": [
              "               V1         V2        V3        V4        V5        V6  \\\n",
              "0       -1.358354  -1.340163  1.773209  0.379780 -0.503198  1.800499   \n",
              "1       -0.966272  -0.185226  1.792993 -0.863291 -0.010309  1.247203   \n",
              "2       -0.425966   0.960523  1.141109 -0.168252  0.420987 -0.029728   \n",
              "3       -0.644269   1.417964  1.074380 -0.492199  0.948934  0.428118   \n",
              "4       -0.894286   0.286157 -0.113192 -0.271526  2.669599  3.721818   \n",
              "...           ...        ...       ...       ...       ...       ...   \n",
              "113837 -12.516732  10.187818 -8.476671 -2.510473 -4.586669 -1.394465   \n",
              "113838   1.884849  -0.143540 -0.999943  1.506772 -0.035300 -0.613638   \n",
              "113839  -0.241923   0.712247  0.399806 -0.463406  0.244531 -1.343668   \n",
              "113840   0.120316   0.931005 -0.546012 -0.745097  1.130314 -0.235973   \n",
              "113841 -11.881118  10.071785 -9.834783 -2.066656 -5.364473 -2.606837   \n",
              "\n",
              "              V7        V8        V9       V10  ...       V22       V23  \\\n",
              "0       0.791461  0.247676 -1.514654  0.207643  ...  0.771679  0.909412   \n",
              "1       0.237609  0.377436 -1.387024 -0.054952  ...  0.005274 -0.190321   \n",
              "2       0.476201  0.260314 -0.568671 -0.371407  ... -0.559825 -0.026398   \n",
              "3       1.120631 -3.807864  0.615375  1.249376  ... -1.015455  0.057504   \n",
              "4       0.370145  0.851084 -0.392048 -0.410430  ... -0.268092 -0.204233   \n",
              "...          ...       ...       ...       ...  ...       ...       ...   \n",
              "113837 -3.632516  5.498583  4.893089  8.655320  ... -1.565026  0.890675   \n",
              "113838  0.190241 -0.249058  0.666458  0.120908  ...  0.634646 -0.042114   \n",
              "113839  0.929369 -0.206210  0.106234 -0.284708  ... -0.514376  0.279598   \n",
              "113840  0.812722  0.115093 -0.204064 -0.657422  ... -0.808520  0.050343   \n",
              "113841 -4.918215  7.305334  1.914428  4.356170  ...  0.111864  1.014480   \n",
              "\n",
              "             V24       V25       V26       V27       V28       V29       V30  \\\n",
              "0      -0.689281 -0.327642 -0.139097 -0.055353 -0.059752  4.983721 -0.994972   \n",
              "1      -1.175575  0.647376 -0.221929  0.062723  0.061458  1.418291 -0.994972   \n",
              "2      -0.371427 -0.232794  0.105915  0.253844  0.081080 -0.256131 -0.994960   \n",
              "3      -0.649709 -0.415267 -0.051634 -1.206921 -1.085339  0.262698 -0.994901   \n",
              "4       1.011592  0.373205 -0.384157  0.011747  0.142404  0.994900 -0.994901   \n",
              "...          ...       ...       ...       ...       ...       ...       ...   \n",
              "113837 -1.253276  1.786717  0.320763  2.090712  1.232864 -0.169496  1.034857   \n",
              "113838 -0.053206  0.316403 -0.461441  0.018265 -0.041068  0.530986  1.034881   \n",
              "113839  0.371441 -0.559238  0.113144  0.131507  0.081265 -0.230699  1.034904   \n",
              "113840  0.102800 -0.435870  0.124079  0.217940  0.068803 -0.269825  1.034939   \n",
              "113841 -0.509348  1.436807  0.250034  0.943651  0.823731 -0.296653  1.034951   \n",
              "\n",
              "        Class  \n",
              "0           0  \n",
              "1           0  \n",
              "2           0  \n",
              "3           0  \n",
              "4           0  \n",
              "...       ...  \n",
              "113837      0  \n",
              "113838      0  \n",
              "113839      0  \n",
              "113840      0  \n",
              "113841      0  \n",
              "\n",
              "[113842 rows x 31 columns]"
            ],
            "text/html": [
              "\n",
              "  <div id=\"df-cb2b927b-e6d4-42c3-99c3-9f53cf9eb8c6\">\n",
              "    <div class=\"colab-df-container\">\n",
              "      <div>\n",
              "<style scoped>\n",
              "    .dataframe tbody tr th:only-of-type {\n",
              "        vertical-align: middle;\n",
              "    }\n",
              "\n",
              "    .dataframe tbody tr th {\n",
              "        vertical-align: top;\n",
              "    }\n",
              "\n",
              "    .dataframe thead th {\n",
              "        text-align: right;\n",
              "    }\n",
              "</style>\n",
              "<table border=\"1\" class=\"dataframe\">\n",
              "  <thead>\n",
              "    <tr style=\"text-align: right;\">\n",
              "      <th></th>\n",
              "      <th>V1</th>\n",
              "      <th>V2</th>\n",
              "      <th>V3</th>\n",
              "      <th>V4</th>\n",
              "      <th>V5</th>\n",
              "      <th>V6</th>\n",
              "      <th>V7</th>\n",
              "      <th>V8</th>\n",
              "      <th>V9</th>\n",
              "      <th>V10</th>\n",
              "      <th>...</th>\n",
              "      <th>V22</th>\n",
              "      <th>V23</th>\n",
              "      <th>V24</th>\n",
              "      <th>V25</th>\n",
              "      <th>V26</th>\n",
              "      <th>V27</th>\n",
              "      <th>V28</th>\n",
              "      <th>V29</th>\n",
              "      <th>V30</th>\n",
              "      <th>Class</th>\n",
              "    </tr>\n",
              "  </thead>\n",
              "  <tbody>\n",
              "    <tr>\n",
              "      <th>0</th>\n",
              "      <td>-1.358354</td>\n",
              "      <td>-1.340163</td>\n",
              "      <td>1.773209</td>\n",
              "      <td>0.379780</td>\n",
              "      <td>-0.503198</td>\n",
              "      <td>1.800499</td>\n",
              "      <td>0.791461</td>\n",
              "      <td>0.247676</td>\n",
              "      <td>-1.514654</td>\n",
              "      <td>0.207643</td>\n",
              "      <td>...</td>\n",
              "      <td>0.771679</td>\n",
              "      <td>0.909412</td>\n",
              "      <td>-0.689281</td>\n",
              "      <td>-0.327642</td>\n",
              "      <td>-0.139097</td>\n",
              "      <td>-0.055353</td>\n",
              "      <td>-0.059752</td>\n",
              "      <td>4.983721</td>\n",
              "      <td>-0.994972</td>\n",
              "      <td>0</td>\n",
              "    </tr>\n",
              "    <tr>\n",
              "      <th>1</th>\n",
              "      <td>-0.966272</td>\n",
              "      <td>-0.185226</td>\n",
              "      <td>1.792993</td>\n",
              "      <td>-0.863291</td>\n",
              "      <td>-0.010309</td>\n",
              "      <td>1.247203</td>\n",
              "      <td>0.237609</td>\n",
              "      <td>0.377436</td>\n",
              "      <td>-1.387024</td>\n",
              "      <td>-0.054952</td>\n",
              "      <td>...</td>\n",
              "      <td>0.005274</td>\n",
              "      <td>-0.190321</td>\n",
              "      <td>-1.175575</td>\n",
              "      <td>0.647376</td>\n",
              "      <td>-0.221929</td>\n",
              "      <td>0.062723</td>\n",
              "      <td>0.061458</td>\n",
              "      <td>1.418291</td>\n",
              "      <td>-0.994972</td>\n",
              "      <td>0</td>\n",
              "    </tr>\n",
              "    <tr>\n",
              "      <th>2</th>\n",
              "      <td>-0.425966</td>\n",
              "      <td>0.960523</td>\n",
              "      <td>1.141109</td>\n",
              "      <td>-0.168252</td>\n",
              "      <td>0.420987</td>\n",
              "      <td>-0.029728</td>\n",
              "      <td>0.476201</td>\n",
              "      <td>0.260314</td>\n",
              "      <td>-0.568671</td>\n",
              "      <td>-0.371407</td>\n",
              "      <td>...</td>\n",
              "      <td>-0.559825</td>\n",
              "      <td>-0.026398</td>\n",
              "      <td>-0.371427</td>\n",
              "      <td>-0.232794</td>\n",
              "      <td>0.105915</td>\n",
              "      <td>0.253844</td>\n",
              "      <td>0.081080</td>\n",
              "      <td>-0.256131</td>\n",
              "      <td>-0.994960</td>\n",
              "      <td>0</td>\n",
              "    </tr>\n",
              "    <tr>\n",
              "      <th>3</th>\n",
              "      <td>-0.644269</td>\n",
              "      <td>1.417964</td>\n",
              "      <td>1.074380</td>\n",
              "      <td>-0.492199</td>\n",
              "      <td>0.948934</td>\n",
              "      <td>0.428118</td>\n",
              "      <td>1.120631</td>\n",
              "      <td>-3.807864</td>\n",
              "      <td>0.615375</td>\n",
              "      <td>1.249376</td>\n",
              "      <td>...</td>\n",
              "      <td>-1.015455</td>\n",
              "      <td>0.057504</td>\n",
              "      <td>-0.649709</td>\n",
              "      <td>-0.415267</td>\n",
              "      <td>-0.051634</td>\n",
              "      <td>-1.206921</td>\n",
              "      <td>-1.085339</td>\n",
              "      <td>0.262698</td>\n",
              "      <td>-0.994901</td>\n",
              "      <td>0</td>\n",
              "    </tr>\n",
              "    <tr>\n",
              "      <th>4</th>\n",
              "      <td>-0.894286</td>\n",
              "      <td>0.286157</td>\n",
              "      <td>-0.113192</td>\n",
              "      <td>-0.271526</td>\n",
              "      <td>2.669599</td>\n",
              "      <td>3.721818</td>\n",
              "      <td>0.370145</td>\n",
              "      <td>0.851084</td>\n",
              "      <td>-0.392048</td>\n",
              "      <td>-0.410430</td>\n",
              "      <td>...</td>\n",
              "      <td>-0.268092</td>\n",
              "      <td>-0.204233</td>\n",
              "      <td>1.011592</td>\n",
              "      <td>0.373205</td>\n",
              "      <td>-0.384157</td>\n",
              "      <td>0.011747</td>\n",
              "      <td>0.142404</td>\n",
              "      <td>0.994900</td>\n",
              "      <td>-0.994901</td>\n",
              "      <td>0</td>\n",
              "    </tr>\n",
              "    <tr>\n",
              "      <th>...</th>\n",
              "      <td>...</td>\n",
              "      <td>...</td>\n",
              "      <td>...</td>\n",
              "      <td>...</td>\n",
              "      <td>...</td>\n",
              "      <td>...</td>\n",
              "      <td>...</td>\n",
              "      <td>...</td>\n",
              "      <td>...</td>\n",
              "      <td>...</td>\n",
              "      <td>...</td>\n",
              "      <td>...</td>\n",
              "      <td>...</td>\n",
              "      <td>...</td>\n",
              "      <td>...</td>\n",
              "      <td>...</td>\n",
              "      <td>...</td>\n",
              "      <td>...</td>\n",
              "      <td>...</td>\n",
              "      <td>...</td>\n",
              "      <td>...</td>\n",
              "    </tr>\n",
              "    <tr>\n",
              "      <th>113837</th>\n",
              "      <td>-12.516732</td>\n",
              "      <td>10.187818</td>\n",
              "      <td>-8.476671</td>\n",
              "      <td>-2.510473</td>\n",
              "      <td>-4.586669</td>\n",
              "      <td>-1.394465</td>\n",
              "      <td>-3.632516</td>\n",
              "      <td>5.498583</td>\n",
              "      <td>4.893089</td>\n",
              "      <td>8.655320</td>\n",
              "      <td>...</td>\n",
              "      <td>-1.565026</td>\n",
              "      <td>0.890675</td>\n",
              "      <td>-1.253276</td>\n",
              "      <td>1.786717</td>\n",
              "      <td>0.320763</td>\n",
              "      <td>2.090712</td>\n",
              "      <td>1.232864</td>\n",
              "      <td>-0.169496</td>\n",
              "      <td>1.034857</td>\n",
              "      <td>0</td>\n",
              "    </tr>\n",
              "    <tr>\n",
              "      <th>113838</th>\n",
              "      <td>1.884849</td>\n",
              "      <td>-0.143540</td>\n",
              "      <td>-0.999943</td>\n",
              "      <td>1.506772</td>\n",
              "      <td>-0.035300</td>\n",
              "      <td>-0.613638</td>\n",
              "      <td>0.190241</td>\n",
              "      <td>-0.249058</td>\n",
              "      <td>0.666458</td>\n",
              "      <td>0.120908</td>\n",
              "      <td>...</td>\n",
              "      <td>0.634646</td>\n",
              "      <td>-0.042114</td>\n",
              "      <td>-0.053206</td>\n",
              "      <td>0.316403</td>\n",
              "      <td>-0.461441</td>\n",
              "      <td>0.018265</td>\n",
              "      <td>-0.041068</td>\n",
              "      <td>0.530986</td>\n",
              "      <td>1.034881</td>\n",
              "      <td>0</td>\n",
              "    </tr>\n",
              "    <tr>\n",
              "      <th>113839</th>\n",
              "      <td>-0.241923</td>\n",
              "      <td>0.712247</td>\n",
              "      <td>0.399806</td>\n",
              "      <td>-0.463406</td>\n",
              "      <td>0.244531</td>\n",
              "      <td>-1.343668</td>\n",
              "      <td>0.929369</td>\n",
              "      <td>-0.206210</td>\n",
              "      <td>0.106234</td>\n",
              "      <td>-0.284708</td>\n",
              "      <td>...</td>\n",
              "      <td>-0.514376</td>\n",
              "      <td>0.279598</td>\n",
              "      <td>0.371441</td>\n",
              "      <td>-0.559238</td>\n",
              "      <td>0.113144</td>\n",
              "      <td>0.131507</td>\n",
              "      <td>0.081265</td>\n",
              "      <td>-0.230699</td>\n",
              "      <td>1.034904</td>\n",
              "      <td>0</td>\n",
              "    </tr>\n",
              "    <tr>\n",
              "      <th>113840</th>\n",
              "      <td>0.120316</td>\n",
              "      <td>0.931005</td>\n",
              "      <td>-0.546012</td>\n",
              "      <td>-0.745097</td>\n",
              "      <td>1.130314</td>\n",
              "      <td>-0.235973</td>\n",
              "      <td>0.812722</td>\n",
              "      <td>0.115093</td>\n",
              "      <td>-0.204064</td>\n",
              "      <td>-0.657422</td>\n",
              "      <td>...</td>\n",
              "      <td>-0.808520</td>\n",
              "      <td>0.050343</td>\n",
              "      <td>0.102800</td>\n",
              "      <td>-0.435870</td>\n",
              "      <td>0.124079</td>\n",
              "      <td>0.217940</td>\n",
              "      <td>0.068803</td>\n",
              "      <td>-0.269825</td>\n",
              "      <td>1.034939</td>\n",
              "      <td>0</td>\n",
              "    </tr>\n",
              "    <tr>\n",
              "      <th>113841</th>\n",
              "      <td>-11.881118</td>\n",
              "      <td>10.071785</td>\n",
              "      <td>-9.834783</td>\n",
              "      <td>-2.066656</td>\n",
              "      <td>-5.364473</td>\n",
              "      <td>-2.606837</td>\n",
              "      <td>-4.918215</td>\n",
              "      <td>7.305334</td>\n",
              "      <td>1.914428</td>\n",
              "      <td>4.356170</td>\n",
              "      <td>...</td>\n",
              "      <td>0.111864</td>\n",
              "      <td>1.014480</td>\n",
              "      <td>-0.509348</td>\n",
              "      <td>1.436807</td>\n",
              "      <td>0.250034</td>\n",
              "      <td>0.943651</td>\n",
              "      <td>0.823731</td>\n",
              "      <td>-0.296653</td>\n",
              "      <td>1.034951</td>\n",
              "      <td>0</td>\n",
              "    </tr>\n",
              "  </tbody>\n",
              "</table>\n",
              "<p>113842 rows × 31 columns</p>\n",
              "</div>\n",
              "      <button class=\"colab-df-convert\" onclick=\"convertToInteractive('df-cb2b927b-e6d4-42c3-99c3-9f53cf9eb8c6')\"\n",
              "              title=\"Convert this dataframe to an interactive table.\"\n",
              "              style=\"display:none;\">\n",
              "        \n",
              "  <svg xmlns=\"http://www.w3.org/2000/svg\" height=\"24px\"viewBox=\"0 0 24 24\"\n",
              "       width=\"24px\">\n",
              "    <path d=\"M0 0h24v24H0V0z\" fill=\"none\"/>\n",
              "    <path d=\"M18.56 5.44l.94 2.06.94-2.06 2.06-.94-2.06-.94-.94-2.06-.94 2.06-2.06.94zm-11 1L8.5 8.5l.94-2.06 2.06-.94-2.06-.94L8.5 2.5l-.94 2.06-2.06.94zm10 10l.94 2.06.94-2.06 2.06-.94-2.06-.94-.94-2.06-.94 2.06-2.06.94z\"/><path d=\"M17.41 7.96l-1.37-1.37c-.4-.4-.92-.59-1.43-.59-.52 0-1.04.2-1.43.59L10.3 9.45l-7.72 7.72c-.78.78-.78 2.05 0 2.83L4 21.41c.39.39.9.59 1.41.59.51 0 1.02-.2 1.41-.59l7.78-7.78 2.81-2.81c.8-.78.8-2.07 0-2.86zM5.41 20L4 18.59l7.72-7.72 1.47 1.35L5.41 20z\"/>\n",
              "  </svg>\n",
              "      </button>\n",
              "      \n",
              "  <style>\n",
              "    .colab-df-container {\n",
              "      display:flex;\n",
              "      flex-wrap:wrap;\n",
              "      gap: 12px;\n",
              "    }\n",
              "\n",
              "    .colab-df-convert {\n",
              "      background-color: #E8F0FE;\n",
              "      border: none;\n",
              "      border-radius: 50%;\n",
              "      cursor: pointer;\n",
              "      display: none;\n",
              "      fill: #1967D2;\n",
              "      height: 32px;\n",
              "      padding: 0 0 0 0;\n",
              "      width: 32px;\n",
              "    }\n",
              "\n",
              "    .colab-df-convert:hover {\n",
              "      background-color: #E2EBFA;\n",
              "      box-shadow: 0px 1px 2px rgba(60, 64, 67, 0.3), 0px 1px 3px 1px rgba(60, 64, 67, 0.15);\n",
              "      fill: #174EA6;\n",
              "    }\n",
              "\n",
              "    [theme=dark] .colab-df-convert {\n",
              "      background-color: #3B4455;\n",
              "      fill: #D2E3FC;\n",
              "    }\n",
              "\n",
              "    [theme=dark] .colab-df-convert:hover {\n",
              "      background-color: #434B5C;\n",
              "      box-shadow: 0px 1px 3px 1px rgba(0, 0, 0, 0.15);\n",
              "      filter: drop-shadow(0px 1px 2px rgba(0, 0, 0, 0.3));\n",
              "      fill: #FFFFFF;\n",
              "    }\n",
              "  </style>\n",
              "\n",
              "      <script>\n",
              "        const buttonEl =\n",
              "          document.querySelector('#df-cb2b927b-e6d4-42c3-99c3-9f53cf9eb8c6 button.colab-df-convert');\n",
              "        buttonEl.style.display =\n",
              "          google.colab.kernel.accessAllowed ? 'block' : 'none';\n",
              "\n",
              "        async function convertToInteractive(key) {\n",
              "          const element = document.querySelector('#df-cb2b927b-e6d4-42c3-99c3-9f53cf9eb8c6');\n",
              "          const dataTable =\n",
              "            await google.colab.kernel.invokeFunction('convertToInteractive',\n",
              "                                                     [key], {});\n",
              "          if (!dataTable) return;\n",
              "\n",
              "          const docLinkHtml = 'Like what you see? Visit the ' +\n",
              "            '<a target=\"_blank\" href=https://colab.research.google.com/notebooks/data_table.ipynb>data table notebook</a>'\n",
              "            + ' to learn more about interactive tables.';\n",
              "          element.innerHTML = '';\n",
              "          dataTable['output_type'] = 'display_data';\n",
              "          await google.colab.output.renderOutput(dataTable, element);\n",
              "          const docLink = document.createElement('div');\n",
              "          docLink.innerHTML = docLinkHtml;\n",
              "          element.appendChild(docLink);\n",
              "        }\n",
              "      </script>\n",
              "    </div>\n",
              "  </div>\n",
              "  "
            ]
          },
          "metadata": {},
          "execution_count": 28
        }
      ]
    },
    {
      "cell_type": "code",
      "source": [
        "sum(train.Class)"
      ],
      "metadata": {
        "colab": {
          "base_uri": "https://localhost:8080/"
        },
        "id": "i1Yosd9lUP9Q",
        "outputId": "ece88250-d0f3-4194-c09e-225be9b778cd"
      },
      "execution_count": 31,
      "outputs": [
        {
          "output_type": "execute_result",
          "data": {
            "text/plain": [
              "92"
            ]
          },
          "metadata": {},
          "execution_count": 31
        }
      ]
    },
    {
      "cell_type": "code",
      "source": [
        "plt.scatter(train['V14'], train['V17'], c=train.Class, s=10)\n",
        "plt.show()"
      ],
      "metadata": {
        "colab": {
          "base_uri": "https://localhost:8080/",
          "height": 265
        },
        "id": "k4R_u3NYUBzO",
        "outputId": "62ac0de1-31ff-4eb3-c1be-961dc1f5f8b4"
      },
      "execution_count": 29,
      "outputs": [
        {
          "output_type": "display_data",
          "data": {
            "text/plain": [
              "<Figure size 432x288 with 1 Axes>"
            ],
            "image/png": "[encoded data removed]"
          },
          "metadata": {
            "needs_background": "light"
          }
        }
      ]
    },
    {
      "cell_type": "code",
      "source": [
        "from imblearn.over_sampling import SMOTE"
      ],
      "metadata": {
        "id": "kb_ltwtvT9tP"
      },
      "execution_count": 30,
      "outputs": []
    },
    {
      "cell_type": "code",
      "source": [
        "sm = SMOTE(random_state=42)"
      ],
      "metadata": {
        "id": "diOoH8j6UKCZ"
      },
      "execution_count": 32,
      "outputs": []
    },
    {
      "cell_type": "code",
      "source": [
        "trainX_resampled, trainY_resampled = sm.fit_resample(train.drop(columns=['Class']), train.Class)"
      ],
      "metadata": {
        "id": "1MCkVpyFUXpR"
      },
      "execution_count": 33,
      "outputs": []
    },
    {
      "cell_type": "code",
      "source": [
        "trainX_resampled"
      ],
      "metadata": {
        "colab": {
          "base_uri": "https://localhost:8080/",
          "height": 487
        },
        "id": "W2CA0hB6Uwho",
        "outputId": "29c267d8-5985-491d-bef3-73d1347f3354"
      },
      "execution_count": 34,
      "outputs": [
        {
          "output_type": "execute_result",
          "data": {
            "text/plain": [
              "               V1        V2         V3         V4         V5        V6  \\\n",
              "0       -1.358354 -1.340163   1.773209   0.379780  -0.503198  1.800499   \n",
              "1       -0.966272 -0.185226   1.792993  -0.863291  -0.010309  1.247203   \n",
              "2       -0.425966  0.960523   1.141109  -0.168252   0.420987 -0.029728   \n",
              "3       -0.644269  1.417964   1.074380  -0.492199   0.948934  0.428118   \n",
              "4       -0.894286  0.286157  -0.113192  -0.271526   2.669599  3.721818   \n",
              "...           ...       ...        ...        ...        ...       ...   \n",
              "227495  -2.870317  1.002704  -3.929599   4.235764   1.158891 -2.211052   \n",
              "227496 -13.136956  7.380241 -18.219379  10.584352 -11.780569 -3.635695   \n",
              "227497  -2.130029  1.393243  -0.610282   1.097765  -1.145266 -0.779364   \n",
              "227498  -1.278324  2.445764  -2.816353   2.337650  -1.357786 -0.952941   \n",
              "227499  -7.809948 -2.327980  -4.980668   6.067831  -3.116364  0.057785   \n",
              "\n",
              "               V7        V8        V9        V10  ...       V21       V22  \\\n",
              "0        0.791461  0.247676 -1.514654   0.207643  ...  0.247998  0.771679   \n",
              "1        0.237609  0.377436 -1.387024  -0.054952  ... -0.108300  0.005274   \n",
              "2        0.476201  0.260314 -0.568671  -0.371407  ... -0.208254 -0.559825   \n",
              "3        1.120631 -3.807864  0.615375   1.249376  ...  1.943465 -1.015455   \n",
              "4        0.370145  0.851084 -0.392048  -0.410430  ... -0.073425 -0.268092   \n",
              "...           ...       ...       ...        ...  ...       ...       ...   \n",
              "227495  -4.689516  1.282881 -3.242726  -5.228506  ...  0.985849  0.007671   \n",
              "227496 -14.857328  8.832773 -5.479335 -13.229996  ...  2.759896 -0.261749   \n",
              "227497  -2.004996  0.578112 -0.990660  -2.506929  ...  0.689873  0.718471   \n",
              "227498  -3.054281  1.160062 -2.255877  -4.852642  ...  0.648861  0.077456   \n",
              "227499  -3.418253  1.207979 -2.682117  -4.022966  ...  0.269879  0.332849   \n",
              "\n",
              "             V23       V24       V25       V26       V27       V28       V29  \\\n",
              "0       0.909412 -0.689281 -0.327642 -0.139097 -0.055353 -0.059752  4.983721   \n",
              "1      -0.190321 -1.175575  0.647376 -0.221929  0.062723  0.061458  1.418291   \n",
              "2      -0.026398 -0.371427 -0.232794  0.105915  0.253844  0.081080 -0.256131   \n",
              "3       0.057504 -0.649709 -0.415267 -0.051634 -1.206921 -1.085339  0.262698   \n",
              "4      -0.204233  1.011592  0.373205 -0.384157  0.011747  0.142404  0.994900   \n",
              "...          ...       ...       ...       ...       ...       ...       ...   \n",
              "227495 -0.008208 -0.468530  0.351525 -0.049075  0.969862  0.584658 -0.242253   \n",
              "227496 -0.413578  0.519940 -0.702859 -0.161592 -2.474822 -0.721608  0.206915   \n",
              "227497 -0.159213 -0.044114  0.267863 -0.459835 -0.385126 -0.143749 -0.037942   \n",
              "227498 -0.223092 -0.512078  0.224557  0.744227  0.630954  0.249745 -0.307275   \n",
              "227499 -3.348054 -0.068500 -0.897623  0.195784  1.631892 -1.525191  8.720748   \n",
              "\n",
              "             V30  \n",
              "0      -0.994972  \n",
              "1      -0.994972  \n",
              "2      -0.994960  \n",
              "3      -0.994901  \n",
              "4      -0.994901  \n",
              "...          ...  \n",
              "227495  0.326006  \n",
              "227496  0.091424  \n",
              "227497 -0.419416  \n",
              "227498 -0.325846  \n",
              "227499 -0.188997  \n",
              "\n",
              "[227500 rows x 30 columns]"
            ],
            "text/html": [
              "\n",
              "  <div id=\"df-9e06e1dd-4c77-4ae3-bab6-15e8155a9c32\">\n",
              "    <div class=\"colab-df-container\">\n",
              "      <div>\n",
              "<style scoped>\n",
              "    .dataframe tbody tr th:only-of-type {\n",
              "        vertical-align: middle;\n",
              "    }\n",
              "\n",
              "    .dataframe tbody tr th {\n",
              "        vertical-align: top;\n",
              "    }\n",
              "\n",
              "    .dataframe thead th {\n",
              "        text-align: right;\n",
              "    }\n",
              "</style>\n",
              "<table border=\"1\" class=\"dataframe\">\n",
              "  <thead>\n",
              "    <tr style=\"text-align: right;\">\n",
              "      <th></th>\n",
              "      <th>V1</th>\n",
              "      <th>V2</th>\n",
              "      <th>V3</th>\n",
              "      <th>V4</th>\n",
              "      <th>V5</th>\n",
              "      <th>V6</th>\n",
              "      <th>V7</th>\n",
              "      <th>V8</th>\n",
              "      <th>V9</th>\n",
              "      <th>V10</th>\n",
              "      <th>...</th>\n",
              "      <th>V21</th>\n",
              "      <th>V22</th>\n",
              "      <th>V23</th>\n",
              "      <th>V24</th>\n",
              "      <th>V25</th>\n",
              "      <th>V26</th>\n",
              "      <th>V27</th>\n",
              "      <th>V28</th>\n",
              "      <th>V29</th>\n",
              "      <th>V30</th>\n",
              "    </tr>\n",
              "  </thead>\n",
              "  <tbody>\n",
              "    <tr>\n",
              "      <th>0</th>\n",
              "      <td>-1.358354</td>\n",
              "      <td>-1.340163</td>\n",
              "      <td>1.773209</td>\n",
              "      <td>0.379780</td>\n",
              "      <td>-0.503198</td>\n",
              "      <td>1.800499</td>\n",
              "      <td>0.791461</td>\n",
              "      <td>0.247676</td>\n",
              "      <td>-1.514654</td>\n",
              "      <td>0.207643</td>\n",
              "      <td>...</td>\n",
              "      <td>0.247998</td>\n",
              "      <td>0.771679</td>\n",
              "      <td>0.909412</td>\n",
              "      <td>-0.689281</td>\n",
              "      <td>-0.327642</td>\n",
              "      <td>-0.139097</td>\n",
              "      <td>-0.055353</td>\n",
              "      <td>-0.059752</td>\n",
              "      <td>4.983721</td>\n",
              "      <td>-0.994972</td>\n",
              "    </tr>\n",
              "    <tr>\n",
              "      <th>1</th>\n",
              "      <td>-0.966272</td>\n",
              "      <td>-0.185226</td>\n",
              "      <td>1.792993</td>\n",
              "      <td>-0.863291</td>\n",
              "      <td>-0.010309</td>\n",
              "      <td>1.247203</td>\n",
              "      <td>0.237609</td>\n",
              "      <td>0.377436</td>\n",
              "      <td>-1.387024</td>\n",
              "      <td>-0.054952</td>\n",
              "      <td>...</td>\n",
              "      <td>-0.108300</td>\n",
              "      <td>0.005274</td>\n",
              "      <td>-0.190321</td>\n",
              "      <td>-1.175575</td>\n",
              "      <td>0.647376</td>\n",
              "      <td>-0.221929</td>\n",
              "      <td>0.062723</td>\n",
              "      <td>0.061458</td>\n",
              "      <td>1.418291</td>\n",
              "      <td>-0.994972</td>\n",
              "    </tr>\n",
              "    <tr>\n",
              "      <th>2</th>\n",
              "      <td>-0.425966</td>\n",
              "      <td>0.960523</td>\n",
              "      <td>1.141109</td>\n",
              "      <td>-0.168252</td>\n",
              "      <td>0.420987</td>\n",
              "      <td>-0.029728</td>\n",
              "      <td>0.476201</td>\n",
              "      <td>0.260314</td>\n",
              "      <td>-0.568671</td>\n",
              "      <td>-0.371407</td>\n",
              "      <td>...</td>\n",
              "      <td>-0.208254</td>\n",
              "      <td>-0.559825</td>\n",
              "      <td>-0.026398</td>\n",
              "      <td>-0.371427</td>\n",
              "      <td>-0.232794</td>\n",
              "      <td>0.105915</td>\n",
              "      <td>0.253844</td>\n",
              "      <td>0.081080</td>\n",
              "      <td>-0.256131</td>\n",
              "      <td>-0.994960</td>\n",
              "    </tr>\n",
              "    <tr>\n",
              "      <th>3</th>\n",
              "      <td>-0.644269</td>\n",
              "      <td>1.417964</td>\n",
              "      <td>1.074380</td>\n",
              "      <td>-0.492199</td>\n",
              "      <td>0.948934</td>\n",
              "      <td>0.428118</td>\n",
              "      <td>1.120631</td>\n",
              "      <td>-3.807864</td>\n",
              "      <td>0.615375</td>\n",
              "      <td>1.249376</td>\n",
              "      <td>...</td>\n",
              "      <td>1.943465</td>\n",
              "      <td>-1.015455</td>\n",
              "      <td>0.057504</td>\n",
              "      <td>-0.649709</td>\n",
              "      <td>-0.415267</td>\n",
              "      <td>-0.051634</td>\n",
              "      <td>-1.206921</td>\n",
              "      <td>-1.085339</td>\n",
              "      <td>0.262698</td>\n",
              "      <td>-0.994901</td>\n",
              "    </tr>\n",
              "    <tr>\n",
              "      <th>4</th>\n",
              "      <td>-0.894286</td>\n",
              "      <td>0.286157</td>\n",
              "      <td>-0.113192</td>\n",
              "      <td>-0.271526</td>\n",
              "      <td>2.669599</td>\n",
              "      <td>3.721818</td>\n",
              "      <td>0.370145</td>\n",
              "      <td>0.851084</td>\n",
              "      <td>-0.392048</td>\n",
              "      <td>-0.410430</td>\n",
              "      <td>...</td>\n",
              "      <td>-0.073425</td>\n",
              "      <td>-0.268092</td>\n",
              "      <td>-0.204233</td>\n",
              "      <td>1.011592</td>\n",
              "      <td>0.373205</td>\n",
              "      <td>-0.384157</td>\n",
              "      <td>0.011747</td>\n",
              "      <td>0.142404</td>\n",
              "      <td>0.994900</td>\n",
              "      <td>-0.994901</td>\n",
              "    </tr>\n",
              "    <tr>\n",
              "      <th>...</th>\n",
              "      <td>...</td>\n",
              "      <td>...</td>\n",
              "      <td>...</td>\n",
              "      <td>...</td>\n",
              "      <td>...</td>\n",
              "      <td>...</td>\n",
              "      <td>...</td>\n",
              "      <td>...</td>\n",
              "      <td>...</td>\n",
              "      <td>...</td>\n",
              "      <td>...</td>\n",
              "      <td>...</td>\n",
              "      <td>...</td>\n",
              "      <td>...</td>\n",
              "      <td>...</td>\n",
              "      <td>...</td>\n",
              "      <td>...</td>\n",
              "      <td>...</td>\n",
              "      <td>...</td>\n",
              "      <td>...</td>\n",
              "      <td>...</td>\n",
              "    </tr>\n",
              "    <tr>\n",
              "      <th>227495</th>\n",
              "      <td>-2.870317</td>\n",
              "      <td>1.002704</td>\n",
              "      <td>-3.929599</td>\n",
              "      <td>4.235764</td>\n",
              "      <td>1.158891</td>\n",
              "      <td>-2.211052</td>\n",
              "      <td>-4.689516</td>\n",
              "      <td>1.282881</td>\n",
              "      <td>-3.242726</td>\n",
              "      <td>-5.228506</td>\n",
              "      <td>...</td>\n",
              "      <td>0.985849</td>\n",
              "      <td>0.007671</td>\n",
              "      <td>-0.008208</td>\n",
              "      <td>-0.468530</td>\n",
              "      <td>0.351525</td>\n",
              "      <td>-0.049075</td>\n",
              "      <td>0.969862</td>\n",
              "      <td>0.584658</td>\n",
              "      <td>-0.242253</td>\n",
              "      <td>0.326006</td>\n",
              "    </tr>\n",
              "    <tr>\n",
              "      <th>227496</th>\n",
              "      <td>-13.136956</td>\n",
              "      <td>7.380241</td>\n",
              "      <td>-18.219379</td>\n",
              "      <td>10.584352</td>\n",
              "      <td>-11.780569</td>\n",
              "      <td>-3.635695</td>\n",
              "      <td>-14.857328</td>\n",
              "      <td>8.832773</td>\n",
              "      <td>-5.479335</td>\n",
              "      <td>-13.229996</td>\n",
              "      <td>...</td>\n",
              "      <td>2.759896</td>\n",
              "      <td>-0.261749</td>\n",
              "      <td>-0.413578</td>\n",
              "      <td>0.519940</td>\n",
              "      <td>-0.702859</td>\n",
              "      <td>-0.161592</td>\n",
              "      <td>-2.474822</td>\n",
              "      <td>-0.721608</td>\n",
              "      <td>0.206915</td>\n",
              "      <td>0.091424</td>\n",
              "    </tr>\n",
              "    <tr>\n",
              "      <th>227497</th>\n",
              "      <td>-2.130029</td>\n",
              "      <td>1.393243</td>\n",
              "      <td>-0.610282</td>\n",
              "      <td>1.097765</td>\n",
              "      <td>-1.145266</td>\n",
              "      <td>-0.779364</td>\n",
              "      <td>-2.004996</td>\n",
              "      <td>0.578112</td>\n",
              "      <td>-0.990660</td>\n",
              "      <td>-2.506929</td>\n",
              "      <td>...</td>\n",
              "      <td>0.689873</td>\n",
              "      <td>0.718471</td>\n",
              "      <td>-0.159213</td>\n",
              "      <td>-0.044114</td>\n",
              "      <td>0.267863</td>\n",
              "      <td>-0.459835</td>\n",
              "      <td>-0.385126</td>\n",
              "      <td>-0.143749</td>\n",
              "      <td>-0.037942</td>\n",
              "      <td>-0.419416</td>\n",
              "    </tr>\n",
              "    <tr>\n",
              "      <th>227498</th>\n",
              "      <td>-1.278324</td>\n",
              "      <td>2.445764</td>\n",
              "      <td>-2.816353</td>\n",
              "      <td>2.337650</td>\n",
              "      <td>-1.357786</td>\n",
              "      <td>-0.952941</td>\n",
              "      <td>-3.054281</td>\n",
              "      <td>1.160062</td>\n",
              "      <td>-2.255877</td>\n",
              "      <td>-4.852642</td>\n",
              "      <td>...</td>\n",
              "      <td>0.648861</td>\n",
              "      <td>0.077456</td>\n",
              "      <td>-0.223092</td>\n",
              "      <td>-0.512078</td>\n",
              "      <td>0.224557</td>\n",
              "      <td>0.744227</td>\n",
              "      <td>0.630954</td>\n",
              "      <td>0.249745</td>\n",
              "      <td>-0.307275</td>\n",
              "      <td>-0.325846</td>\n",
              "    </tr>\n",
              "    <tr>\n",
              "      <th>227499</th>\n",
              "      <td>-7.809948</td>\n",
              "      <td>-2.327980</td>\n",
              "      <td>-4.980668</td>\n",
              "      <td>6.067831</td>\n",
              "      <td>-3.116364</td>\n",
              "      <td>0.057785</td>\n",
              "      <td>-3.418253</td>\n",
              "      <td>1.207979</td>\n",
              "      <td>-2.682117</td>\n",
              "      <td>-4.022966</td>\n",
              "      <td>...</td>\n",
              "      <td>0.269879</td>\n",
              "      <td>0.332849</td>\n",
              "      <td>-3.348054</td>\n",
              "      <td>-0.068500</td>\n",
              "      <td>-0.897623</td>\n",
              "      <td>0.195784</td>\n",
              "      <td>1.631892</td>\n",
              "      <td>-1.525191</td>\n",
              "      <td>8.720748</td>\n",
              "      <td>-0.188997</td>\n",
              "    </tr>\n",
              "  </tbody>\n",
              "</table>\n",
              "<p>227500 rows × 30 columns</p>\n",
              "</div>\n",
              "      <button class=\"colab-df-convert\" onclick=\"convertToInteractive('df-9e06e1dd-4c77-4ae3-bab6-15e8155a9c32')\"\n",
              "              title=\"Convert this dataframe to an interactive table.\"\n",
              "              style=\"display:none;\">\n",
              "        \n",
              "  <svg xmlns=\"http://www.w3.org/2000/svg\" height=\"24px\"viewBox=\"0 0 24 24\"\n",
              "       width=\"24px\">\n",
              "    <path d=\"M0 0h24v24H0V0z\" fill=\"none\"/>\n",
              "    <path d=\"M18.56 5.44l.94 2.06.94-2.06 2.06-.94-2.06-.94-.94-2.06-.94 2.06-2.06.94zm-11 1L8.5 8.5l.94-2.06 2.06-.94-2.06-.94L8.5 2.5l-.94 2.06-2.06.94zm10 10l.94 2.06.94-2.06 2.06-.94-2.06-.94-.94-2.06-.94 2.06-2.06.94z\"/><path d=\"M17.41 7.96l-1.37-1.37c-.4-.4-.92-.59-1.43-.59-.52 0-1.04.2-1.43.59L10.3 9.45l-7.72 7.72c-.78.78-.78 2.05 0 2.83L4 21.41c.39.39.9.59 1.41.59.51 0 1.02-.2 1.41-.59l7.78-7.78 2.81-2.81c.8-.78.8-2.07 0-2.86zM5.41 20L4 18.59l7.72-7.72 1.47 1.35L5.41 20z\"/>\n",
              "  </svg>\n",
              "      </button>\n",
              "      \n",
              "  <style>\n",
              "    .colab-df-container {\n",
              "      display:flex;\n",
              "      flex-wrap:wrap;\n",
              "      gap: 12px;\n",
              "    }\n",
              "\n",
              "    .colab-df-convert {\n",
              "      background-color: #E8F0FE;\n",
              "      border: none;\n",
              "      border-radius: 50%;\n",
              "      cursor: pointer;\n",
              "      display: none;\n",
              "      fill: #1967D2;\n",
              "      height: 32px;\n",
              "      padding: 0 0 0 0;\n",
              "      width: 32px;\n",
              "    }\n",
              "\n",
              "    .colab-df-convert:hover {\n",
              "      background-color: #E2EBFA;\n",
              "      box-shadow: 0px 1px 2px rgba(60, 64, 67, 0.3), 0px 1px 3px 1px rgba(60, 64, 67, 0.15);\n",
              "      fill: #174EA6;\n",
              "    }\n",
              "\n",
              "    [theme=dark] .colab-df-convert {\n",
              "      background-color: #3B4455;\n",
              "      fill: #D2E3FC;\n",
              "    }\n",
              "\n",
              "    [theme=dark] .colab-df-convert:hover {\n",
              "      background-color: #434B5C;\n",
              "      box-shadow: 0px 1px 3px 1px rgba(0, 0, 0, 0.15);\n",
              "      filter: drop-shadow(0px 1px 2px rgba(0, 0, 0, 0.3));\n",
              "      fill: #FFFFFF;\n",
              "    }\n",
              "  </style>\n",
              "\n",
              "      <script>\n",
              "        const buttonEl =\n",
              "          document.querySelector('#df-9e06e1dd-4c77-4ae3-bab6-15e8155a9c32 button.colab-df-convert');\n",
              "        buttonEl.style.display =\n",
              "          google.colab.kernel.accessAllowed ? 'block' : 'none';\n",
              "\n",
              "        async function convertToInteractive(key) {\n",
              "          const element = document.querySelector('#df-9e06e1dd-4c77-4ae3-bab6-15e8155a9c32');\n",
              "          const dataTable =\n",
              "            await google.colab.kernel.invokeFunction('convertToInteractive',\n",
              "                                                     [key], {});\n",
              "          if (!dataTable) return;\n",
              "\n",
              "          const docLinkHtml = 'Like what you see? Visit the ' +\n",
              "            '<a target=\"_blank\" href=https://colab.research.google.com/notebooks/data_table.ipynb>data table notebook</a>'\n",
              "            + ' to learn more about interactive tables.';\n",
              "          element.innerHTML = '';\n",
              "          dataTable['output_type'] = 'display_data';\n",
              "          await google.colab.output.renderOutput(dataTable, element);\n",
              "          const docLink = document.createElement('div');\n",
              "          docLink.innerHTML = docLinkHtml;\n",
              "          element.appendChild(docLink);\n",
              "        }\n",
              "      </script>\n",
              "    </div>\n",
              "  </div>\n",
              "  "
            ]
          },
          "metadata": {},
          "execution_count": 34
        }
      ]
    },
    {
      "cell_type": "code",
      "source": [
        "plt.scatter(trainX_resampled['V14'], trainX_resampled['V17'], c=trainY_resampled, s=10)\n",
        "plt.show()"
      ],
      "metadata": {
        "colab": {
          "base_uri": "https://localhost:8080/",
          "height": 265
        },
        "id": "LM38ep0lUu2g",
        "outputId": "ad7cfc6a-1022-4138-a364-259f0e4a60ea"
      },
      "execution_count": 35,
      "outputs": [
        {
          "output_type": "display_data",
          "data": {
            "text/plain": [
              "<Figure size 432x288 with 1 Axes>"
            ],
            "image/png": "[encoded data removed]"
          },
          "metadata": {
            "needs_background": "light"
          }
        }
      ]
    },
    {
      "cell_type": "code",
      "source": [
        "plt.scatter(trainX_resampled['V3'], trainX_resampled['V7'], c=trainY_resampled, s=10)\n",
        "plt.show()"
      ],
      "metadata": {
        "colab": {
          "base_uri": "https://localhost:8080/",
          "height": 265
        },
        "id": "N6PI2pRBVGhS",
        "outputId": "583a87cc-d5b3-4f26-c66f-5bf7c03a953c"
      },
      "execution_count": 36,
      "outputs": [
        {
          "output_type": "display_data",
          "data": {
            "text/plain": [
              "<Figure size 432x288 with 1 Axes>"
            ],
            "image/png": "[encoded data removed]"
          },
          "metadata": {
            "needs_background": "light"
          }
        }
      ]
    },
    {
      "cell_type": "code",
      "source": [
        "from lightgbm import LGBMClassifier"
      ],
      "metadata": {
        "id": "yFH4rFVpWIDx"
      },
      "execution_count": 39,
      "outputs": []
    },
    {
      "cell_type": "code",
      "source": [
        "lgbm = LGBMClassifier()"
      ],
      "metadata": {
        "id": "sy-uxvqmW17d"
      },
      "execution_count": 40,
      "outputs": []
    },
    {
      "cell_type": "code",
      "source": [
        "lgbm.fit(trainX_resampled, trainY_resampled)"
      ],
      "metadata": {
        "colab": {
          "base_uri": "https://localhost:8080/"
        },
        "id": "Wx6Mc5j1WT6V",
        "outputId": "856e13ec-3b69-4a35-db1d-7e70e0bbcb2f"
      },
      "execution_count": 41,
      "outputs": [
        {
          "output_type": "execute_result",
          "data": {
            "text/plain": [
              "LGBMClassifier()"
            ]
          },
          "metadata": {},
          "execution_count": 41
        }
      ]
    },
    {
      "cell_type": "code",
      "source": [
        "train_pred = lgbm.predict(trainX_resampled)"
      ],
      "metadata": {
        "id": "3gRIh7XMXAIs"
      },
      "execution_count": 42,
      "outputs": []
    },
    {
      "cell_type": "code",
      "source": [
        "f1_score(trainY_resampled, train_pred, average='macro')"
      ],
      "metadata": {
        "colab": {
          "base_uri": "https://localhost:8080/"
        },
        "id": "2IwtJnQgXVrp",
        "outputId": "ac175805-c4f5-4b7f-f897-71e81d7cfdf7"
      },
      "execution_count": 44,
      "outputs": [
        {
          "output_type": "execute_result",
          "data": {
            "text/plain": [
              "1.0"
            ]
          },
          "metadata": {},
          "execution_count": 44
        }
      ]
    },
    {
      "cell_type": "code",
      "source": [
        "val_pred = lgbm.predict(val)"
      ],
      "metadata": {
        "id": "SJURCpW5Xdls"
      },
      "execution_count": 46,
      "outputs": []
    },
    {
      "cell_type": "code",
      "source": [
        "f1_score(val_class, val_pred, average='macro')"
      ],
      "metadata": {
        "colab": {
          "base_uri": "https://localhost:8080/"
        },
        "id": "jjQiI7gsXi95",
        "outputId": "f09f5b04-ee86-4933-e190-dce1aaac57eb"
      },
      "execution_count": 47,
      "outputs": [
        {
          "output_type": "execute_result",
          "data": {
            "text/plain": [
              "0.8845098845450512"
            ]
          },
          "metadata": {},
          "execution_count": 47
        }
      ]
    }
  ]
}